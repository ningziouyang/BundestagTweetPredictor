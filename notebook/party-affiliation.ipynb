{
 "cells": [
  {
   "cell_type": "markdown",
   "id": "c52efb2a",
   "metadata": {},
   "source": [
    "# **1. Daten einlesen**\n",
    "In diesem Schritt lesen wir alle `.jl`-Dateien aus dem Verzeichnis `../twitter-bundestag-2022/data/` ein, extrahieren die Tweet-Texte und die zugehörige Partei, und speichern die Daten als CSV-Datei für die weitere Verarbeitung."
   ]
  },
  {
   "cell_type": "code",
   "execution_count": 43,
   "id": "ebd7a601",
   "metadata": {},
   "outputs": [],
   "source": [
    "import json\n",
    "import glob\n",
    "import pandas as pd\n",
    "\n",
    "# List to collect all tweets\n",
    "all_data = []\n",
    "\n",
    "# Iterate through all .jl files in the data folder\n",
    "for filepath in glob.glob(\"../twitter-bundestag-2022/data/*.jl\"):\n",
    "    with open(filepath, \"r\", encoding=\"utf-8\") as file:\n",
    "        partei = None\n",
    "\n",
    "        for line in file:\n",
    "            entry = json.loads(line)\n",
    "\n",
    "            # Extract party from account_data, usually in the first line\n",
    "            if not partei and \"account_data\" in entry:\n",
    "                partei = entry[\"account_data\"].get(\"Partei\", \"Unbekannt\")\n",
    "\n",
    "            # Extract tweets from lines with \"response\"\n",
    "            if \"response\" in entry:\n",
    "                tweets = entry[\"response\"].get(\"data\", [])\n",
    "                for tweet in tweets:\n",
    "                    text = tweet.get(\"text\", \"\")\n",
    "                    if text:\n",
    "                        all_data.append({\n",
    "                            \"text\": text,\n",
    "                            \"partei\": partei\n",
    "                        })\n"
   ]
  },
  {
   "cell_type": "code",
   "execution_count": 44,
   "id": "c86dc44e",
   "metadata": {},
   "outputs": [
    {
     "name": "stdout",
     "output_type": "stream",
     "text": [
      "Tweets insgesamt: 3801087\n",
      "Spalten: ['text', 'partei']\n",
      "                                                      text  \\\n",
      "1856936  RT @SenWiEnBe: Auch die neuen Zahlen belegen: ...   \n",
      "814722   @handelsblatt Wenn dem #Bundeskanzler „besonde...   \n",
      "3239937     Mein Weg zur Arbeit ... http://t.co/C2sgbwBOtX   \n",
      "2352165  Falsche Behauptungen über Personen sind heute ...   \n",
      "3502626  Bühne frei für allerlei😲, auch in Orientalen.....   \n",
      "\n",
      "                        partei  \n",
      "1856936  Bündnis 90/Die Grünen  \n",
      "814722                     CDU  \n",
      "3239937                    SPD  \n",
      "2352165              Die Linke  \n",
      "3502626                    AfD  \n",
      "\n",
      "Tweets pro Partei:\n",
      "partei\n",
      "Bündnis 90/Die Grünen    922789\n",
      "SPD                      794275\n",
      "CDU                      623217\n",
      "Die Linke                540002\n",
      "FDP                      383721\n",
      "AfD                      281167\n",
      "CSU                      168803\n",
      "Fraktionslos              87113\n",
      "Name: count, dtype: int64\n",
      "CSV gespeichert unter: tweets_bundestag.csv\n"
     ]
    }
   ],
   "source": [
    "# Create DataFrame\n",
    "df = pd.DataFrame(all_data)\n",
    "\n",
    "# Show basic info\n",
    "print(f\"Tweets insgesamt: {len(df)}\")\n",
    "print(\"Spalten:\", df.columns.tolist())\n",
    "if not df.empty:\n",
    "    print(df.sample(5, random_state=1))\n",
    "\n",
    "# Show party distribution\n",
    "print(\"\\nTweets pro Partei:\")\n",
    "print(df[\"partei\"].value_counts())\n",
    "\n",
    "# Save to CSV\n",
    "df.to_csv(\"tweets_bundestag.csv\", index=False, encoding=\"utf-8-sig\")\n",
    "print(\"CSV gespeichert unter: tweets_bundestag.csv\")"
   ]
  },
  {
   "cell_type": "markdown",
   "id": "877a98c5",
   "metadata": {},
   "source": [
    "## **2. Baseline-Modell**\n",
    "Wir erstellen ein erstes Modell nur auf Basis des unbearbeiteten Tweet-Textes.  \n",
    "Ziel ist es, eine einfache Vergleichsbasis zu schaffen."
   ]
  },
  {
   "cell_type": "code",
   "execution_count": 57,
   "id": "06c5d57b",
   "metadata": {},
   "outputs": [
    {
     "name": "stdout",
     "output_type": "stream",
     "text": [
      "Verbleibende Parteien: ['CDU' 'Die Linke' 'SPD' 'Bündnis 90/Die Grünen' 'FDP' 'CSU' 'AfD'\n",
      " 'Fraktionslos']\n",
      "Tweets pro Partei im Sample:\n",
      " partei\n",
      "Bündnis 90/Die Grünen    12205\n",
      "SPD                      10496\n",
      "CDU                       8206\n",
      "Die Linke                 7117\n",
      "FDP                       5030\n",
      "AfD                       3637\n",
      "CSU                       2195\n",
      "Fraktionslos              1114\n",
      "Name: count, dtype: int64\n"
     ]
    }
   ],
   "source": [
    "import pandas as pd\n",
    "from sklearn.model_selection import train_test_split\n",
    "from sklearn.feature_extraction.text import TfidfVectorizer\n",
    "from sklearn.linear_model import LogisticRegression\n",
    "from sklearn.metrics import classification_report, confusion_matrix\n",
    "\n",
    "# Filter out unknown or too-small parties\n",
    "min_tweet_count = 1000\n",
    "valid_parties = df[\"partei\"].value_counts()[df[\"partei\"].value_counts() >= min_tweet_count].index\n",
    "df = df[df[\"partei\"].isin(valid_parties) & (df[\"partei\"] != \"Unbekannt\")]\n",
    "\n",
    "# Optional: Downsample if dataset is huge\n",
    "max_samples = 50000\n",
    "if len(df) > max_samples:\n",
    "    df = df.sample(n=max_samples, random_state=42)\n",
    "\n",
    "print(f\"Verbleibende Parteien: {df['partei'].unique()}\")\n",
    "print(\"Tweets pro Partei im Sample:\\n\", df[\"partei\"].value_counts())\n"
   ]
  },
  {
   "cell_type": "code",
   "execution_count": 58,
   "id": "0b19ef3a",
   "metadata": {},
   "outputs": [
    {
     "data": {
      "text/html": [
       "<style>#sk-container-id-1 {\n",
       "  /* Definition of color scheme common for light and dark mode */\n",
       "  --sklearn-color-text: #000;\n",
       "  --sklearn-color-text-muted: #666;\n",
       "  --sklearn-color-line: gray;\n",
       "  /* Definition of color scheme for unfitted estimators */\n",
       "  --sklearn-color-unfitted-level-0: #fff5e6;\n",
       "  --sklearn-color-unfitted-level-1: #f6e4d2;\n",
       "  --sklearn-color-unfitted-level-2: #ffe0b3;\n",
       "  --sklearn-color-unfitted-level-3: chocolate;\n",
       "  /* Definition of color scheme for fitted estimators */\n",
       "  --sklearn-color-fitted-level-0: #f0f8ff;\n",
       "  --sklearn-color-fitted-level-1: #d4ebff;\n",
       "  --sklearn-color-fitted-level-2: #b3dbfd;\n",
       "  --sklearn-color-fitted-level-3: cornflowerblue;\n",
       "\n",
       "  /* Specific color for light theme */\n",
       "  --sklearn-color-text-on-default-background: var(--sg-text-color, var(--theme-code-foreground, var(--jp-content-font-color1, black)));\n",
       "  --sklearn-color-background: var(--sg-background-color, var(--theme-background, var(--jp-layout-color0, white)));\n",
       "  --sklearn-color-border-box: var(--sg-text-color, var(--theme-code-foreground, var(--jp-content-font-color1, black)));\n",
       "  --sklearn-color-icon: #696969;\n",
       "\n",
       "  @media (prefers-color-scheme: dark) {\n",
       "    /* Redefinition of color scheme for dark theme */\n",
       "    --sklearn-color-text-on-default-background: var(--sg-text-color, var(--theme-code-foreground, var(--jp-content-font-color1, white)));\n",
       "    --sklearn-color-background: var(--sg-background-color, var(--theme-background, var(--jp-layout-color0, #111)));\n",
       "    --sklearn-color-border-box: var(--sg-text-color, var(--theme-code-foreground, var(--jp-content-font-color1, white)));\n",
       "    --sklearn-color-icon: #878787;\n",
       "  }\n",
       "}\n",
       "\n",
       "#sk-container-id-1 {\n",
       "  color: var(--sklearn-color-text);\n",
       "}\n",
       "\n",
       "#sk-container-id-1 pre {\n",
       "  padding: 0;\n",
       "}\n",
       "\n",
       "#sk-container-id-1 input.sk-hidden--visually {\n",
       "  border: 0;\n",
       "  clip: rect(1px 1px 1px 1px);\n",
       "  clip: rect(1px, 1px, 1px, 1px);\n",
       "  height: 1px;\n",
       "  margin: -1px;\n",
       "  overflow: hidden;\n",
       "  padding: 0;\n",
       "  position: absolute;\n",
       "  width: 1px;\n",
       "}\n",
       "\n",
       "#sk-container-id-1 div.sk-dashed-wrapped {\n",
       "  border: 1px dashed var(--sklearn-color-line);\n",
       "  margin: 0 0.4em 0.5em 0.4em;\n",
       "  box-sizing: border-box;\n",
       "  padding-bottom: 0.4em;\n",
       "  background-color: var(--sklearn-color-background);\n",
       "}\n",
       "\n",
       "#sk-container-id-1 div.sk-container {\n",
       "  /* jupyter's `normalize.less` sets `[hidden] { display: none; }`\n",
       "     but bootstrap.min.css set `[hidden] { display: none !important; }`\n",
       "     so we also need the `!important` here to be able to override the\n",
       "     default hidden behavior on the sphinx rendered scikit-learn.org.\n",
       "     See: https://github.com/scikit-learn/scikit-learn/issues/21755 */\n",
       "  display: inline-block !important;\n",
       "  position: relative;\n",
       "}\n",
       "\n",
       "#sk-container-id-1 div.sk-text-repr-fallback {\n",
       "  display: none;\n",
       "}\n",
       "\n",
       "div.sk-parallel-item,\n",
       "div.sk-serial,\n",
       "div.sk-item {\n",
       "  /* draw centered vertical line to link estimators */\n",
       "  background-image: linear-gradient(var(--sklearn-color-text-on-default-background), var(--sklearn-color-text-on-default-background));\n",
       "  background-size: 2px 100%;\n",
       "  background-repeat: no-repeat;\n",
       "  background-position: center center;\n",
       "}\n",
       "\n",
       "/* Parallel-specific style estimator block */\n",
       "\n",
       "#sk-container-id-1 div.sk-parallel-item::after {\n",
       "  content: \"\";\n",
       "  width: 100%;\n",
       "  border-bottom: 2px solid var(--sklearn-color-text-on-default-background);\n",
       "  flex-grow: 1;\n",
       "}\n",
       "\n",
       "#sk-container-id-1 div.sk-parallel {\n",
       "  display: flex;\n",
       "  align-items: stretch;\n",
       "  justify-content: center;\n",
       "  background-color: var(--sklearn-color-background);\n",
       "  position: relative;\n",
       "}\n",
       "\n",
       "#sk-container-id-1 div.sk-parallel-item {\n",
       "  display: flex;\n",
       "  flex-direction: column;\n",
       "}\n",
       "\n",
       "#sk-container-id-1 div.sk-parallel-item:first-child::after {\n",
       "  align-self: flex-end;\n",
       "  width: 50%;\n",
       "}\n",
       "\n",
       "#sk-container-id-1 div.sk-parallel-item:last-child::after {\n",
       "  align-self: flex-start;\n",
       "  width: 50%;\n",
       "}\n",
       "\n",
       "#sk-container-id-1 div.sk-parallel-item:only-child::after {\n",
       "  width: 0;\n",
       "}\n",
       "\n",
       "/* Serial-specific style estimator block */\n",
       "\n",
       "#sk-container-id-1 div.sk-serial {\n",
       "  display: flex;\n",
       "  flex-direction: column;\n",
       "  align-items: center;\n",
       "  background-color: var(--sklearn-color-background);\n",
       "  padding-right: 1em;\n",
       "  padding-left: 1em;\n",
       "}\n",
       "\n",
       "\n",
       "/* Toggleable style: style used for estimator/Pipeline/ColumnTransformer box that is\n",
       "clickable and can be expanded/collapsed.\n",
       "- Pipeline and ColumnTransformer use this feature and define the default style\n",
       "- Estimators will overwrite some part of the style using the `sk-estimator` class\n",
       "*/\n",
       "\n",
       "/* Pipeline and ColumnTransformer style (default) */\n",
       "\n",
       "#sk-container-id-1 div.sk-toggleable {\n",
       "  /* Default theme specific background. It is overwritten whether we have a\n",
       "  specific estimator or a Pipeline/ColumnTransformer */\n",
       "  background-color: var(--sklearn-color-background);\n",
       "}\n",
       "\n",
       "/* Toggleable label */\n",
       "#sk-container-id-1 label.sk-toggleable__label {\n",
       "  cursor: pointer;\n",
       "  display: flex;\n",
       "  width: 100%;\n",
       "  margin-bottom: 0;\n",
       "  padding: 0.5em;\n",
       "  box-sizing: border-box;\n",
       "  text-align: center;\n",
       "  align-items: start;\n",
       "  justify-content: space-between;\n",
       "  gap: 0.5em;\n",
       "}\n",
       "\n",
       "#sk-container-id-1 label.sk-toggleable__label .caption {\n",
       "  font-size: 0.6rem;\n",
       "  font-weight: lighter;\n",
       "  color: var(--sklearn-color-text-muted);\n",
       "}\n",
       "\n",
       "#sk-container-id-1 label.sk-toggleable__label-arrow:before {\n",
       "  /* Arrow on the left of the label */\n",
       "  content: \"▸\";\n",
       "  float: left;\n",
       "  margin-right: 0.25em;\n",
       "  color: var(--sklearn-color-icon);\n",
       "}\n",
       "\n",
       "#sk-container-id-1 label.sk-toggleable__label-arrow:hover:before {\n",
       "  color: var(--sklearn-color-text);\n",
       "}\n",
       "\n",
       "/* Toggleable content - dropdown */\n",
       "\n",
       "#sk-container-id-1 div.sk-toggleable__content {\n",
       "  display: none;\n",
       "  text-align: left;\n",
       "  /* unfitted */\n",
       "  background-color: var(--sklearn-color-unfitted-level-0);\n",
       "}\n",
       "\n",
       "#sk-container-id-1 div.sk-toggleable__content.fitted {\n",
       "  /* fitted */\n",
       "  background-color: var(--sklearn-color-fitted-level-0);\n",
       "}\n",
       "\n",
       "#sk-container-id-1 div.sk-toggleable__content pre {\n",
       "  margin: 0.2em;\n",
       "  border-radius: 0.25em;\n",
       "  color: var(--sklearn-color-text);\n",
       "  /* unfitted */\n",
       "  background-color: var(--sklearn-color-unfitted-level-0);\n",
       "}\n",
       "\n",
       "#sk-container-id-1 div.sk-toggleable__content.fitted pre {\n",
       "  /* unfitted */\n",
       "  background-color: var(--sklearn-color-fitted-level-0);\n",
       "}\n",
       "\n",
       "#sk-container-id-1 input.sk-toggleable__control:checked~div.sk-toggleable__content {\n",
       "  /* Expand drop-down */\n",
       "  display: block;\n",
       "  width: 100%;\n",
       "  overflow: visible;\n",
       "}\n",
       "\n",
       "#sk-container-id-1 input.sk-toggleable__control:checked~label.sk-toggleable__label-arrow:before {\n",
       "  content: \"▾\";\n",
       "}\n",
       "\n",
       "/* Pipeline/ColumnTransformer-specific style */\n",
       "\n",
       "#sk-container-id-1 div.sk-label input.sk-toggleable__control:checked~label.sk-toggleable__label {\n",
       "  color: var(--sklearn-color-text);\n",
       "  background-color: var(--sklearn-color-unfitted-level-2);\n",
       "}\n",
       "\n",
       "#sk-container-id-1 div.sk-label.fitted input.sk-toggleable__control:checked~label.sk-toggleable__label {\n",
       "  background-color: var(--sklearn-color-fitted-level-2);\n",
       "}\n",
       "\n",
       "/* Estimator-specific style */\n",
       "\n",
       "/* Colorize estimator box */\n",
       "#sk-container-id-1 div.sk-estimator input.sk-toggleable__control:checked~label.sk-toggleable__label {\n",
       "  /* unfitted */\n",
       "  background-color: var(--sklearn-color-unfitted-level-2);\n",
       "}\n",
       "\n",
       "#sk-container-id-1 div.sk-estimator.fitted input.sk-toggleable__control:checked~label.sk-toggleable__label {\n",
       "  /* fitted */\n",
       "  background-color: var(--sklearn-color-fitted-level-2);\n",
       "}\n",
       "\n",
       "#sk-container-id-1 div.sk-label label.sk-toggleable__label,\n",
       "#sk-container-id-1 div.sk-label label {\n",
       "  /* The background is the default theme color */\n",
       "  color: var(--sklearn-color-text-on-default-background);\n",
       "}\n",
       "\n",
       "/* On hover, darken the color of the background */\n",
       "#sk-container-id-1 div.sk-label:hover label.sk-toggleable__label {\n",
       "  color: var(--sklearn-color-text);\n",
       "  background-color: var(--sklearn-color-unfitted-level-2);\n",
       "}\n",
       "\n",
       "/* Label box, darken color on hover, fitted */\n",
       "#sk-container-id-1 div.sk-label.fitted:hover label.sk-toggleable__label.fitted {\n",
       "  color: var(--sklearn-color-text);\n",
       "  background-color: var(--sklearn-color-fitted-level-2);\n",
       "}\n",
       "\n",
       "/* Estimator label */\n",
       "\n",
       "#sk-container-id-1 div.sk-label label {\n",
       "  font-family: monospace;\n",
       "  font-weight: bold;\n",
       "  display: inline-block;\n",
       "  line-height: 1.2em;\n",
       "}\n",
       "\n",
       "#sk-container-id-1 div.sk-label-container {\n",
       "  text-align: center;\n",
       "}\n",
       "\n",
       "/* Estimator-specific */\n",
       "#sk-container-id-1 div.sk-estimator {\n",
       "  font-family: monospace;\n",
       "  border: 1px dotted var(--sklearn-color-border-box);\n",
       "  border-radius: 0.25em;\n",
       "  box-sizing: border-box;\n",
       "  margin-bottom: 0.5em;\n",
       "  /* unfitted */\n",
       "  background-color: var(--sklearn-color-unfitted-level-0);\n",
       "}\n",
       "\n",
       "#sk-container-id-1 div.sk-estimator.fitted {\n",
       "  /* fitted */\n",
       "  background-color: var(--sklearn-color-fitted-level-0);\n",
       "}\n",
       "\n",
       "/* on hover */\n",
       "#sk-container-id-1 div.sk-estimator:hover {\n",
       "  /* unfitted */\n",
       "  background-color: var(--sklearn-color-unfitted-level-2);\n",
       "}\n",
       "\n",
       "#sk-container-id-1 div.sk-estimator.fitted:hover {\n",
       "  /* fitted */\n",
       "  background-color: var(--sklearn-color-fitted-level-2);\n",
       "}\n",
       "\n",
       "/* Specification for estimator info (e.g. \"i\" and \"?\") */\n",
       "\n",
       "/* Common style for \"i\" and \"?\" */\n",
       "\n",
       ".sk-estimator-doc-link,\n",
       "a:link.sk-estimator-doc-link,\n",
       "a:visited.sk-estimator-doc-link {\n",
       "  float: right;\n",
       "  font-size: smaller;\n",
       "  line-height: 1em;\n",
       "  font-family: monospace;\n",
       "  background-color: var(--sklearn-color-background);\n",
       "  border-radius: 1em;\n",
       "  height: 1em;\n",
       "  width: 1em;\n",
       "  text-decoration: none !important;\n",
       "  margin-left: 0.5em;\n",
       "  text-align: center;\n",
       "  /* unfitted */\n",
       "  border: var(--sklearn-color-unfitted-level-1) 1pt solid;\n",
       "  color: var(--sklearn-color-unfitted-level-1);\n",
       "}\n",
       "\n",
       ".sk-estimator-doc-link.fitted,\n",
       "a:link.sk-estimator-doc-link.fitted,\n",
       "a:visited.sk-estimator-doc-link.fitted {\n",
       "  /* fitted */\n",
       "  border: var(--sklearn-color-fitted-level-1) 1pt solid;\n",
       "  color: var(--sklearn-color-fitted-level-1);\n",
       "}\n",
       "\n",
       "/* On hover */\n",
       "div.sk-estimator:hover .sk-estimator-doc-link:hover,\n",
       ".sk-estimator-doc-link:hover,\n",
       "div.sk-label-container:hover .sk-estimator-doc-link:hover,\n",
       ".sk-estimator-doc-link:hover {\n",
       "  /* unfitted */\n",
       "  background-color: var(--sklearn-color-unfitted-level-3);\n",
       "  color: var(--sklearn-color-background);\n",
       "  text-decoration: none;\n",
       "}\n",
       "\n",
       "div.sk-estimator.fitted:hover .sk-estimator-doc-link.fitted:hover,\n",
       ".sk-estimator-doc-link.fitted:hover,\n",
       "div.sk-label-container:hover .sk-estimator-doc-link.fitted:hover,\n",
       ".sk-estimator-doc-link.fitted:hover {\n",
       "  /* fitted */\n",
       "  background-color: var(--sklearn-color-fitted-level-3);\n",
       "  color: var(--sklearn-color-background);\n",
       "  text-decoration: none;\n",
       "}\n",
       "\n",
       "/* Span, style for the box shown on hovering the info icon */\n",
       ".sk-estimator-doc-link span {\n",
       "  display: none;\n",
       "  z-index: 9999;\n",
       "  position: relative;\n",
       "  font-weight: normal;\n",
       "  right: .2ex;\n",
       "  padding: .5ex;\n",
       "  margin: .5ex;\n",
       "  width: min-content;\n",
       "  min-width: 20ex;\n",
       "  max-width: 50ex;\n",
       "  color: var(--sklearn-color-text);\n",
       "  box-shadow: 2pt 2pt 4pt #999;\n",
       "  /* unfitted */\n",
       "  background: var(--sklearn-color-unfitted-level-0);\n",
       "  border: .5pt solid var(--sklearn-color-unfitted-level-3);\n",
       "}\n",
       "\n",
       ".sk-estimator-doc-link.fitted span {\n",
       "  /* fitted */\n",
       "  background: var(--sklearn-color-fitted-level-0);\n",
       "  border: var(--sklearn-color-fitted-level-3);\n",
       "}\n",
       "\n",
       ".sk-estimator-doc-link:hover span {\n",
       "  display: block;\n",
       "}\n",
       "\n",
       "/* \"?\"-specific style due to the `<a>` HTML tag */\n",
       "\n",
       "#sk-container-id-1 a.estimator_doc_link {\n",
       "  float: right;\n",
       "  font-size: 1rem;\n",
       "  line-height: 1em;\n",
       "  font-family: monospace;\n",
       "  background-color: var(--sklearn-color-background);\n",
       "  border-radius: 1rem;\n",
       "  height: 1rem;\n",
       "  width: 1rem;\n",
       "  text-decoration: none;\n",
       "  /* unfitted */\n",
       "  color: var(--sklearn-color-unfitted-level-1);\n",
       "  border: var(--sklearn-color-unfitted-level-1) 1pt solid;\n",
       "}\n",
       "\n",
       "#sk-container-id-1 a.estimator_doc_link.fitted {\n",
       "  /* fitted */\n",
       "  border: var(--sklearn-color-fitted-level-1) 1pt solid;\n",
       "  color: var(--sklearn-color-fitted-level-1);\n",
       "}\n",
       "\n",
       "/* On hover */\n",
       "#sk-container-id-1 a.estimator_doc_link:hover {\n",
       "  /* unfitted */\n",
       "  background-color: var(--sklearn-color-unfitted-level-3);\n",
       "  color: var(--sklearn-color-background);\n",
       "  text-decoration: none;\n",
       "}\n",
       "\n",
       "#sk-container-id-1 a.estimator_doc_link.fitted:hover {\n",
       "  /* fitted */\n",
       "  background-color: var(--sklearn-color-fitted-level-3);\n",
       "}\n",
       "\n",
       ".estimator-table summary {\n",
       "    padding: .5rem;\n",
       "    font-family: monospace;\n",
       "    cursor: pointer;\n",
       "}\n",
       "\n",
       ".estimator-table details[open] {\n",
       "    padding-left: 0.1rem;\n",
       "    padding-right: 0.1rem;\n",
       "    padding-bottom: 0.3rem;\n",
       "}\n",
       "\n",
       ".estimator-table .parameters-table {\n",
       "    margin-left: auto !important;\n",
       "    margin-right: auto !important;\n",
       "}\n",
       "\n",
       ".estimator-table .parameters-table tr:nth-child(odd) {\n",
       "    background-color: #fff;\n",
       "}\n",
       "\n",
       ".estimator-table .parameters-table tr:nth-child(even) {\n",
       "    background-color: #f6f6f6;\n",
       "}\n",
       "\n",
       ".estimator-table .parameters-table tr:hover {\n",
       "    background-color: #e0e0e0;\n",
       "}\n",
       "\n",
       ".estimator-table table td {\n",
       "    border: 1px solid rgba(106, 105, 104, 0.232);\n",
       "}\n",
       "\n",
       ".user-set td {\n",
       "    color:rgb(255, 94, 0);\n",
       "    text-align: left;\n",
       "}\n",
       "\n",
       ".user-set td.value pre {\n",
       "    color:rgb(255, 94, 0) !important;\n",
       "    background-color: transparent !important;\n",
       "}\n",
       "\n",
       ".default td {\n",
       "    color: black;\n",
       "    text-align: left;\n",
       "}\n",
       "\n",
       ".user-set td i,\n",
       ".default td i {\n",
       "    color: black;\n",
       "}\n",
       "\n",
       ".copy-paste-icon {\n",
       "    background-image: url(data:image/svg+xml;base64,PHN2ZyB4bWxucz0iaHR0cDovL3d3dy53My5vcmcvMjAwMC9zdmciIHZpZXdCb3g9IjAgMCA0NDggNTEyIj48IS0tIUZvbnQgQXdlc29tZSBGcmVlIDYuNy4yIGJ5IEBmb250YXdlc29tZSAtIGh0dHBzOi8vZm9udGF3ZXNvbWUuY29tIExpY2Vuc2UgLSBodHRwczovL2ZvbnRhd2Vzb21lLmNvbS9saWNlbnNlL2ZyZWUgQ29weXJpZ2h0IDIwMjUgRm9udGljb25zLCBJbmMuLS0+PHBhdGggZD0iTTIwOCAwTDMzMi4xIDBjMTIuNyAwIDI0LjkgNS4xIDMzLjkgMTQuMWw2Ny45IDY3LjljOSA5IDE0LjEgMjEuMiAxNC4xIDMzLjlMNDQ4IDMzNmMwIDI2LjUtMjEuNSA0OC00OCA0OGwtMTkyIDBjLTI2LjUgMC00OC0yMS41LTQ4LTQ4bDAtMjg4YzAtMjYuNSAyMS41LTQ4IDQ4LTQ4ek00OCAxMjhsODAgMCAwIDY0LTY0IDAgMCAyNTYgMTkyIDAgMC0zMiA2NCAwIDAgNDhjMCAyNi41LTIxLjUgNDgtNDggNDhMNDggNTEyYy0yNi41IDAtNDgtMjEuNS00OC00OEwwIDE3NmMwLTI2LjUgMjEuNS00OCA0OC00OHoiLz48L3N2Zz4=);\n",
       "    background-repeat: no-repeat;\n",
       "    background-size: 14px 14px;\n",
       "    background-position: 0;\n",
       "    display: inline-block;\n",
       "    width: 14px;\n",
       "    height: 14px;\n",
       "    cursor: pointer;\n",
       "}\n",
       "</style><body><div id=\"sk-container-id-1\" class=\"sk-top-container\"><div class=\"sk-text-repr-fallback\"><pre>LogisticRegression(class_weight=&#x27;balanced&#x27;, max_iter=1000, random_state=42)</pre><b>In a Jupyter environment, please rerun this cell to show the HTML representation or trust the notebook. <br />On GitHub, the HTML representation is unable to render, please try loading this page with nbviewer.org.</b></div><div class=\"sk-container\" hidden><div class=\"sk-item\"><div class=\"sk-estimator fitted sk-toggleable\"><input class=\"sk-toggleable__control sk-hidden--visually\" id=\"sk-estimator-id-1\" type=\"checkbox\" checked><label for=\"sk-estimator-id-1\" class=\"sk-toggleable__label fitted sk-toggleable__label-arrow\"><div><div>LogisticRegression</div></div><div><a class=\"sk-estimator-doc-link fitted\" rel=\"noreferrer\" target=\"_blank\" href=\"https://scikit-learn.org/1.7/modules/generated/sklearn.linear_model.LogisticRegression.html\">?<span>Documentation for LogisticRegression</span></a><span class=\"sk-estimator-doc-link fitted\">i<span>Fitted</span></span></div></label><div class=\"sk-toggleable__content fitted\" data-param-prefix=\"\">\n",
       "        <div class=\"estimator-table\">\n",
       "            <details>\n",
       "                <summary>Parameters</summary>\n",
       "                <table class=\"parameters-table\">\n",
       "                  <tbody>\n",
       "                    \n",
       "        <tr class=\"default\">\n",
       "            <td><i class=\"copy-paste-icon\"\n",
       "                 onclick=\"copyToClipboard('penalty',\n",
       "                          this.parentElement.nextElementSibling)\"\n",
       "            ></i></td>\n",
       "            <td class=\"param\">penalty&nbsp;</td>\n",
       "            <td class=\"value\">&#x27;l2&#x27;</td>\n",
       "        </tr>\n",
       "    \n",
       "\n",
       "        <tr class=\"default\">\n",
       "            <td><i class=\"copy-paste-icon\"\n",
       "                 onclick=\"copyToClipboard('dual',\n",
       "                          this.parentElement.nextElementSibling)\"\n",
       "            ></i></td>\n",
       "            <td class=\"param\">dual&nbsp;</td>\n",
       "            <td class=\"value\">False</td>\n",
       "        </tr>\n",
       "    \n",
       "\n",
       "        <tr class=\"default\">\n",
       "            <td><i class=\"copy-paste-icon\"\n",
       "                 onclick=\"copyToClipboard('tol',\n",
       "                          this.parentElement.nextElementSibling)\"\n",
       "            ></i></td>\n",
       "            <td class=\"param\">tol&nbsp;</td>\n",
       "            <td class=\"value\">0.0001</td>\n",
       "        </tr>\n",
       "    \n",
       "\n",
       "        <tr class=\"default\">\n",
       "            <td><i class=\"copy-paste-icon\"\n",
       "                 onclick=\"copyToClipboard('C',\n",
       "                          this.parentElement.nextElementSibling)\"\n",
       "            ></i></td>\n",
       "            <td class=\"param\">C&nbsp;</td>\n",
       "            <td class=\"value\">1.0</td>\n",
       "        </tr>\n",
       "    \n",
       "\n",
       "        <tr class=\"default\">\n",
       "            <td><i class=\"copy-paste-icon\"\n",
       "                 onclick=\"copyToClipboard('fit_intercept',\n",
       "                          this.parentElement.nextElementSibling)\"\n",
       "            ></i></td>\n",
       "            <td class=\"param\">fit_intercept&nbsp;</td>\n",
       "            <td class=\"value\">True</td>\n",
       "        </tr>\n",
       "    \n",
       "\n",
       "        <tr class=\"default\">\n",
       "            <td><i class=\"copy-paste-icon\"\n",
       "                 onclick=\"copyToClipboard('intercept_scaling',\n",
       "                          this.parentElement.nextElementSibling)\"\n",
       "            ></i></td>\n",
       "            <td class=\"param\">intercept_scaling&nbsp;</td>\n",
       "            <td class=\"value\">1</td>\n",
       "        </tr>\n",
       "    \n",
       "\n",
       "        <tr class=\"user-set\">\n",
       "            <td><i class=\"copy-paste-icon\"\n",
       "                 onclick=\"copyToClipboard('class_weight',\n",
       "                          this.parentElement.nextElementSibling)\"\n",
       "            ></i></td>\n",
       "            <td class=\"param\">class_weight&nbsp;</td>\n",
       "            <td class=\"value\">&#x27;balanced&#x27;</td>\n",
       "        </tr>\n",
       "    \n",
       "\n",
       "        <tr class=\"user-set\">\n",
       "            <td><i class=\"copy-paste-icon\"\n",
       "                 onclick=\"copyToClipboard('random_state',\n",
       "                          this.parentElement.nextElementSibling)\"\n",
       "            ></i></td>\n",
       "            <td class=\"param\">random_state&nbsp;</td>\n",
       "            <td class=\"value\">42</td>\n",
       "        </tr>\n",
       "    \n",
       "\n",
       "        <tr class=\"default\">\n",
       "            <td><i class=\"copy-paste-icon\"\n",
       "                 onclick=\"copyToClipboard('solver',\n",
       "                          this.parentElement.nextElementSibling)\"\n",
       "            ></i></td>\n",
       "            <td class=\"param\">solver&nbsp;</td>\n",
       "            <td class=\"value\">&#x27;lbfgs&#x27;</td>\n",
       "        </tr>\n",
       "    \n",
       "\n",
       "        <tr class=\"user-set\">\n",
       "            <td><i class=\"copy-paste-icon\"\n",
       "                 onclick=\"copyToClipboard('max_iter',\n",
       "                          this.parentElement.nextElementSibling)\"\n",
       "            ></i></td>\n",
       "            <td class=\"param\">max_iter&nbsp;</td>\n",
       "            <td class=\"value\">1000</td>\n",
       "        </tr>\n",
       "    \n",
       "\n",
       "        <tr class=\"default\">\n",
       "            <td><i class=\"copy-paste-icon\"\n",
       "                 onclick=\"copyToClipboard('multi_class',\n",
       "                          this.parentElement.nextElementSibling)\"\n",
       "            ></i></td>\n",
       "            <td class=\"param\">multi_class&nbsp;</td>\n",
       "            <td class=\"value\">&#x27;deprecated&#x27;</td>\n",
       "        </tr>\n",
       "    \n",
       "\n",
       "        <tr class=\"default\">\n",
       "            <td><i class=\"copy-paste-icon\"\n",
       "                 onclick=\"copyToClipboard('verbose',\n",
       "                          this.parentElement.nextElementSibling)\"\n",
       "            ></i></td>\n",
       "            <td class=\"param\">verbose&nbsp;</td>\n",
       "            <td class=\"value\">0</td>\n",
       "        </tr>\n",
       "    \n",
       "\n",
       "        <tr class=\"default\">\n",
       "            <td><i class=\"copy-paste-icon\"\n",
       "                 onclick=\"copyToClipboard('warm_start',\n",
       "                          this.parentElement.nextElementSibling)\"\n",
       "            ></i></td>\n",
       "            <td class=\"param\">warm_start&nbsp;</td>\n",
       "            <td class=\"value\">False</td>\n",
       "        </tr>\n",
       "    \n",
       "\n",
       "        <tr class=\"default\">\n",
       "            <td><i class=\"copy-paste-icon\"\n",
       "                 onclick=\"copyToClipboard('n_jobs',\n",
       "                          this.parentElement.nextElementSibling)\"\n",
       "            ></i></td>\n",
       "            <td class=\"param\">n_jobs&nbsp;</td>\n",
       "            <td class=\"value\">None</td>\n",
       "        </tr>\n",
       "    \n",
       "\n",
       "        <tr class=\"default\">\n",
       "            <td><i class=\"copy-paste-icon\"\n",
       "                 onclick=\"copyToClipboard('l1_ratio',\n",
       "                          this.parentElement.nextElementSibling)\"\n",
       "            ></i></td>\n",
       "            <td class=\"param\">l1_ratio&nbsp;</td>\n",
       "            <td class=\"value\">None</td>\n",
       "        </tr>\n",
       "    \n",
       "                  </tbody>\n",
       "                </table>\n",
       "            </details>\n",
       "        </div>\n",
       "    </div></div></div></div></div><script>function copyToClipboard(text, element) {\n",
       "    // Get the parameter prefix from the closest toggleable content\n",
       "    const toggleableContent = element.closest('.sk-toggleable__content');\n",
       "    const paramPrefix = toggleableContent ? toggleableContent.dataset.paramPrefix : '';\n",
       "    const fullParamName = paramPrefix ? `${paramPrefix}${text}` : text;\n",
       "\n",
       "    const originalStyle = element.style;\n",
       "    const computedStyle = window.getComputedStyle(element);\n",
       "    const originalWidth = computedStyle.width;\n",
       "    const originalHTML = element.innerHTML.replace('Copied!', '');\n",
       "\n",
       "    navigator.clipboard.writeText(fullParamName)\n",
       "        .then(() => {\n",
       "            element.style.width = originalWidth;\n",
       "            element.style.color = 'green';\n",
       "            element.innerHTML = \"Copied!\";\n",
       "\n",
       "            setTimeout(() => {\n",
       "                element.innerHTML = originalHTML;\n",
       "                element.style = originalStyle;\n",
       "            }, 2000);\n",
       "        })\n",
       "        .catch(err => {\n",
       "            console.error('Failed to copy:', err);\n",
       "            element.style.color = 'red';\n",
       "            element.innerHTML = \"Failed!\";\n",
       "            setTimeout(() => {\n",
       "                element.innerHTML = originalHTML;\n",
       "                element.style = originalStyle;\n",
       "            }, 2000);\n",
       "        });\n",
       "    return false;\n",
       "}\n",
       "\n",
       "document.querySelectorAll('.fa-regular.fa-copy').forEach(function(element) {\n",
       "    const toggleableContent = element.closest('.sk-toggleable__content');\n",
       "    const paramPrefix = toggleableContent ? toggleableContent.dataset.paramPrefix : '';\n",
       "    const paramName = element.parentElement.nextElementSibling.textContent.trim();\n",
       "    const fullParamName = paramPrefix ? `${paramPrefix}${paramName}` : paramName;\n",
       "\n",
       "    element.setAttribute('title', fullParamName);\n",
       "});\n",
       "</script></body>"
      ],
      "text/plain": [
       "LogisticRegression(class_weight='balanced', max_iter=1000, random_state=42)"
      ]
     },
     "execution_count": 58,
     "metadata": {},
     "output_type": "execute_result"
    }
   ],
   "source": [
    "# Stratified train/test split\n",
    "X_train, X_test, y_train, y_test = train_test_split(\n",
    "    df[\"text\"], df[\"partei\"],\n",
    "    test_size=0.2,\n",
    "    random_state=42,\n",
    "    stratify=df[\"partei\"]\n",
    ")\n",
    "\n",
    "# TF-IDF vectorization (keep hashtags, mentions, emojis, URLs for now)\n",
    "vectorizer = TfidfVectorizer(\n",
    "    max_features=10000,\n",
    "    ngram_range=(1, 2)\n",
    ")\n",
    "X_train_vec = vectorizer.fit_transform(X_train)\n",
    "X_test_vec = vectorizer.transform(X_test)\n",
    "\n",
    "# Logistic Regression baseline\n",
    "clf = LogisticRegression(max_iter=1000, class_weight=\"balanced\", random_state=42)\n",
    "clf.fit(X_train_vec, y_train)\n"
   ]
  },
  {
   "cell_type": "code",
   "execution_count": 59,
   "id": "2601b5e6",
   "metadata": {},
   "outputs": [
    {
     "name": "stdout",
     "output_type": "stream",
     "text": [
      "\n",
      "Classification Report:\n",
      "                        precision    recall  f1-score   support\n",
      "\n",
      "                  AfD      0.489     0.579     0.530       727\n",
      "Bündnis 90/Die Grünen      0.568     0.401     0.470      2441\n",
      "                  CDU      0.465     0.395     0.427      1641\n",
      "                  CSU      0.212     0.453     0.289       439\n",
      "            Die Linke      0.421     0.452     0.436      1424\n",
      "                  FDP      0.404     0.406     0.405      1006\n",
      "         Fraktionslos      0.070     0.283     0.113       223\n",
      "                  SPD      0.497     0.390     0.437      2099\n",
      "\n",
      "             accuracy                          0.418     10000\n",
      "            macro avg      0.391     0.420     0.388     10000\n",
      "         weighted avg      0.466     0.418     0.433     10000\n",
      "\n",
      "\n",
      "Confusion Matrix:\n",
      " [[421  32  36  45  48  39  67  39]\n",
      " [114 980 215 170 330 176 188 268]\n",
      " [ 72 157 648 157 132 121 148 206]\n",
      " [ 15  41  69 199  30  14  29  42]\n",
      " [ 56 184  92 103 643  77 125 144]\n",
      " [ 56  96  84  65  97 408  99 101]\n",
      " [ 33  30  18  10  20  20  63  29]\n",
      " [ 94 206 233 189 227 156 175 819]]\n"
     ]
    }
   ],
   "source": [
    "# Evaluation\n",
    "y_pred = clf.predict(X_test_vec)\n",
    "print(\"\\nClassification Report:\\n\", classification_report(y_test, y_pred, digits=3))\n",
    "print(\"\\nConfusion Matrix:\\n\", confusion_matrix(y_test, y_pred))"
   ]
  },
  {
   "cell_type": "markdown",
   "id": "563421d5",
   "metadata": {},
   "source": [
    "## **3. Explorative Datenanalyse**\n",
    "Wir untersuchen grundlegende Eigenschaften des Datensatzes. Die Einblicke helfen uns später bei Entscheidungen für das Preprocessing."
   ]
  },
  {
   "cell_type": "code",
   "execution_count": 60,
   "id": "54f03dfa",
   "metadata": {},
   "outputs": [],
   "source": [
    "import pandas as pd\n",
    "import emoji\n",
    "import re\n",
    "import matplotlib.pyplot as plt\n",
    "import seaborn as sns\n",
    "\n",
    "# Filter out small/unknown parties for clearer analysis\n",
    "min_tweet_count = 1000\n",
    "df = df[df[\"partei\"].map(df[\"partei\"].value_counts()) >= min_tweet_count]\n",
    "df = df[df[\"partei\"] != \"Unbekannt\"]"
   ]
  },
  {
   "cell_type": "code",
   "execution_count": 61,
   "id": "d2151999",
   "metadata": {},
   "outputs": [],
   "source": [
    "# Feature extraction functions\n",
    "def count_emojis(text):\n",
    "    return sum(char in emoji.EMOJI_DATA for char in str(text))\n",
    "\n",
    "def count_hashtags(text):\n",
    "    return len(re.findall(r\"#\\w+\", str(text)))\n",
    "\n",
    "def count_mentions(text):\n",
    "    return len(re.findall(r\"@\\w+\", str(text)))\n",
    "\n",
    "def count_urls(text):\n",
    "    return len(re.findall(r\"http\\S+|www\\S+|https\\S+\", str(text)))\n",
    "\n",
    "# Apply features\n",
    "df[\"num_emojis\"] = df[\"text\"].apply(count_emojis)\n",
    "df[\"num_hashtags\"] = df[\"text\"].apply(count_hashtags)\n",
    "df[\"num_mentions\"] = df[\"text\"].apply(count_mentions)\n",
    "df[\"num_urls\"] = df[\"text\"].apply(count_urls)"
   ]
  },
  {
   "cell_type": "code",
   "execution_count": 63,
   "id": "59a397be",
   "metadata": {},
   "outputs": [
    {
     "name": "stdout",
     "output_type": "stream",
     "text": [
      "\n",
      "Durchschnittliche Feature-Anzahl pro Partei:\n",
      "                        num_emojis  num_hashtags  num_mentions  num_urls\n",
      "partei                                                                 \n",
      "FDP                      0.255666      0.862425      1.245726  0.423459\n",
      "AfD                      0.249656      1.384383      1.025296  0.553478\n",
      "CSU                      0.164920      0.608656      1.146241  0.384055\n",
      "Fraktionslos             0.154399      0.416517      1.050269  0.433573\n",
      "SPD                      0.138529      0.684165      1.163396  0.418540\n",
      "Bündnis 90/Die Grünen    0.138058      0.897173      1.254076  0.430807\n",
      "CDU                      0.123203      0.808555      1.180600  0.441506\n",
      "Die Linke                0.100745      1.010960      1.015175  0.498806\n"
     ]
    }
   ],
   "source": [
    "# Show descriptive statistics\n",
    "summary = df.groupby(\"partei\")[[\"num_emojis\", \"num_hashtags\", \"num_mentions\", \"num_urls\"]].mean().sort_values(by=\"num_emojis\", ascending=False)\n",
    "print(\"\\nDurchschnittliche Feature-Anzahl pro Partei:\\n\", summary)"
   ]
  },
  {
   "cell_type": "code",
   "execution_count": 64,
   "id": "afd0406c",
   "metadata": {},
   "outputs": [
    {
     "data": {
      "image/png": "[encoded data removed]",
      "text/plain": [
       "<Figure size 1200x800 with 2 Axes>"
      ]
     },
     "metadata": {},
     "output_type": "display_data"
    }
   ],
   "source": [
    "# Plot heatmap\n",
    "plt.figure(figsize=(12, 8))\n",
    "sns.heatmap(summary, annot=True, fmt=\".2f\", cmap=\"Blues\")\n",
    "plt.title(\"Durchschnittliche Anzahl von Emojis, Hashtags, Mentions und URLs pro Tweet (nach Partei)\")\n",
    "plt.tight_layout()\n",
    "plt.show()"
   ]
  },
  {
   "cell_type": "code",
   "execution_count": 65,
   "id": "aff7e3fb",
   "metadata": {},
   "outputs": [
    {
     "name": "stdout",
     "output_type": "stream",
     "text": [
      "\n",
      "Top 10 Hashtags insgesamt:\n",
      " text\n",
      "#AfD          921\n",
      "#Bundestag    578\n",
      "#SPD          494\n",
      "#CDU          382\n",
      "#Berlin       324\n",
      "#Corona       320\n",
      "#Merkel       304\n",
      "#FDP          272\n",
      "#EU           209\n",
      "#CSU          201\n",
      "Name: count, dtype: int64\n",
      "\n",
      "Top 10 Mentions insgesamt:\n",
      " text\n",
      "@cducsubt           543\n",
      "@spdde              498\n",
      "@spdbt              452\n",
      "@GrueneBundestag    447\n",
      "@CDU                402\n",
      "@Die_Gruenen        371\n",
      "@fdpbt              334\n",
      "@fdp                318\n",
      "@c_lindner          306\n",
      "@Linksfraktion      294\n",
      "Name: count, dtype: int64\n"
     ]
    }
   ],
   "source": [
    "# Example for hashtags:\n",
    "def get_top_n(pattern, n=10):\n",
    "    all_matches = df[\"text\"].str.findall(pattern).explode()\n",
    "    return all_matches.value_counts().head(n)\n",
    "\n",
    "print(\"\\nTop 10 Hashtags insgesamt:\\n\", get_top_n(r\"#\\w+\"))\n",
    "print(\"\\nTop 10 Mentions insgesamt:\\n\", get_top_n(r\"@\\w+\"))"
   ]
  },
  {
   "cell_type": "markdown",
   "id": "3623b573",
   "metadata": {},
   "source": [
    "## **4. Preprocessing (mit Varianten)**\n",
    "Wir untersuchen verschiedene Preprocessing-Strategien. Ziel: Verschiedene Varianten vorbereiten, die wir anschließend in der Modellierung vergleichen können."
   ]
  },
  {
   "cell_type": "code",
   "execution_count": 54,
   "id": "25808f61",
   "metadata": {},
   "outputs": [],
   "source": [
    "import pandas as pd\n",
    "import re\n",
    "import emoji\n",
    "\n",
    "# Variant 1 functions\n",
    "def remove_urls(text):\n",
    "    return re.sub(r\"http\\S+|www\\S+|https\\S+\", \"\", str(text))\n",
    "\n",
    "def remove_mentions(text):\n",
    "    return re.sub(r\"@\\w+\", \"\", str(text))\n",
    "\n",
    "def clean_hashtags(text, keep_hash=True):\n",
    "    if keep_hash:\n",
    "        return str(text)\n",
    "    return re.sub(r\"#(\\w+)\", r\"\\1\", str(text))\n",
    "\n",
    "def emoji_to_text(text, demojize=True):\n",
    "    if demojize:\n",
    "        return emoji.demojize(str(text), delimiters=(\" \", \" \"))\n",
    "    return str(text)\n",
    "\n",
    "def preprocess_variant(\n",
    "    text,\n",
    "    lower=True,\n",
    "    remove_url=False,\n",
    "    remove_mention=False,\n",
    "    remove_hash_symbol=False,\n",
    "    demojize=False\n",
    "):\n",
    "    t = str(text)\n",
    "    if lower:\n",
    "        t = t.lower()\n",
    "    if remove_url:\n",
    "        t = remove_urls(t)\n",
    "    if remove_mention:\n",
    "        t = remove_mentions(t)\n",
    "    t = clean_hashtags(t, keep_hash=not remove_hash_symbol)\n",
    "    t = emoji_to_text(t, demojize=demojize)\n",
    "    t = re.sub(r\"\\s+\", \" \", t).strip()\n",
    "    return t\n"
   ]
  },
  {
   "cell_type": "code",
   "execution_count": 55,
   "id": "44ae4f3e",
   "metadata": {},
   "outputs": [],
   "source": [
    "# Variant 2 (special token) functions\n",
    "def replace_urls(text):\n",
    "    return re.sub(r\"http\\S+|www\\S+|https\\S+\", \" URL \", str(text))\n",
    "\n",
    "def replace_mentions(text):\n",
    "    return re.sub(r\"@\\w+\", \" USER \", str(text))\n",
    "\n",
    "def special_hashtags(text):\n",
    "    # Replace #hashtag with HASHTAG_hashtag\n",
    "    return re.sub(r\"#(\\w+)\", r\"HASHTAG_\\1\", str(text))\n",
    "\n",
    "def preprocess_specialtok(text):\n",
    "    t = str(text).lower()\n",
    "    t = replace_urls(t)\n",
    "    t = replace_mentions(t)\n",
    "    t = special_hashtags(t)\n",
    "    t = emoji_to_text(t, demojize=True)\n",
    "    t = re.sub(r\"\\s+\", \" \", t).strip()\n",
    "    return t"
   ]
  },
  {
   "cell_type": "code",
   "execution_count": 56,
   "id": "5ced775a",
   "metadata": {},
   "outputs": [
    {
     "name": "stdout",
     "output_type": "stream",
     "text": [
      "Saved variant: raw to tweets_bundestag_raw.csv\n",
      "Saved variant: lowercase to tweets_bundestag_lowercase.csv\n",
      "Saved variant: no_urls to tweets_bundestag_no_urls.csv\n",
      "Saved variant: no_mentions to tweets_bundestag_no_mentions.csv\n",
      "Saved variant: no_urls_mentions to tweets_bundestag_no_urls_mentions.csv\n",
      "Saved variant: demojize to tweets_bundestag_demojize.csv\n",
      "Saved variant: no_hashsymbol to tweets_bundestag_no_hashsymbol.csv\n",
      "Saved variant: no_urls_mentions_demojize to tweets_bundestag_no_urls_mentions_demojize.csv\n",
      "Example cleaned texts (Variant 1):\n",
      "                                                text\n",
      "0  RT @OleKreins: Aber bitte nicht das Tempelhofe...\n",
      "1  @tirsales Leider wird oft vergessen, dass Face...\n",
      "2  RT @SenIAS_Berlin: Arabisch, Farsi, Kurdisch, ...\n",
      "3  RT @DanielGollasch: Wann wird denn der Hashtag...\n",
      "4  RT @Dirk_Behrendt: Heute gedachten wir am @t4e...\n",
      "5  RT @berlinliebich: Wenn doch SPD und Grüne nur...\n",
      "6  RT @AndrejHunko: Drohnenangriffe: Regierung wi...\n",
      "7  RT @juhessen: Heute Abend kämpft Jennifer Brau...\n",
      "8  RT @JuliaKloeckner: Peinlich, MP traut sich ni...\n",
      "9  @DerWesten Hinzuweisen ist auch auf die ausufe...\n",
      "Example special token cleaned texts:\n",
      "0    rt USER : aber bitte nicht das tempelhofer fel...\n",
      "1    USER leider wird oft vergessen, dass facebook ...\n",
      "2    rt USER : arabisch, farsi, kurdisch, französis...\n",
      "3    rt USER : wann wird denn der hashtag HASHTAG_1...\n",
      "4    rt USER : heute gedachten wir am USER der opfe...\n",
      "5    rt USER : wenn doch spd und grüne nur nicht so...\n",
      "6    rt USER : drohnenangriffe: regierung will weit...\n",
      "7    rt USER : heute abend kämpft jennifer braun au...\n",
      "8    rt USER : peinlich, mp traut sich nicht, i der...\n",
      "9    USER hinzuweisen ist auch auf die ausufernde b...\n",
      "Name: specialtok_text, dtype: object\n"
     ]
    }
   ],
   "source": [
    "if __name__ == \"__main__\":\n",
    "    df = pd.read_csv(\"../tweets_bundestag.csv\", encoding=\"utf-8-sig\")\n",
    "    min_tweet_count = 1000\n",
    "    df = df[df[\"partei\"].map(df[\"partei\"].value_counts()) >= min_tweet_count]\n",
    "    df = df[df[\"partei\"] != \"Unbekannt\"]\n",
    "    df = df.sample(n=50000, random_state=42).reset_index(drop=True)\n",
    "\n",
    "    # Save different preprocessing variants for ablation studies (Variant 1)\n",
    "    variants = {\n",
    "        \"raw\": df[\"text\"],\n",
    "        \"lowercase\": df[\"text\"].apply(lambda x: preprocess_variant(x, lower=True, remove_url=False, remove_mention=False, demojize=False, remove_hash_symbol=False)),\n",
    "        \"no_urls\": df[\"text\"].apply(lambda x: preprocess_variant(x, lower=True, remove_url=True, remove_mention=False, demojize=False, remove_hash_symbol=False)),\n",
    "        \"no_mentions\": df[\"text\"].apply(lambda x: preprocess_variant(x, lower=True, remove_url=False, remove_mention=True, demojize=False, remove_hash_symbol=False)),\n",
    "        \"no_urls_mentions\": df[\"text\"].apply(lambda x: preprocess_variant(x, lower=True, remove_url=True, remove_mention=True, demojize=False, remove_hash_symbol=False)),\n",
    "        \"demojize\": df[\"text\"].apply(lambda x: preprocess_variant(x, lower=True, remove_url=False, remove_mention=False, demojize=True, remove_hash_symbol=False)),\n",
    "        \"no_hashsymbol\": df[\"text\"].apply(lambda x: preprocess_variant(x, lower=True, remove_url=False, remove_mention=False, demojize=False, remove_hash_symbol=True)),\n",
    "        \"no_urls_mentions_demojize\": df[\"text\"].apply(lambda x: preprocess_variant(x, lower=True, remove_url=True, remove_mention=True, demojize=True, remove_hash_symbol=False)),\n",
    "    }\n",
    "\n",
    "    for variant, series in variants.items():\n",
    "        out = df[[\"partei\"]].copy()\n",
    "        out[\"text\"] = series\n",
    "        out.to_csv(f\"tweets_bundestag_{variant}.csv\", index=False, encoding=\"utf-8-sig\")\n",
    "        print(f\"Saved variant: {variant} to tweets_bundestag_{variant}.csv\")\n",
    "\n",
    "    print(\"Example cleaned texts (Variant 1):\")\n",
    "    print(df.head(10)[[\"text\"]])\n",
    "\n",
    "    # Special token variant (Variant 2)\n",
    "    df[\"specialtok_text\"] = df[\"text\"].apply(preprocess_specialtok)\n",
    "    df[[\"specialtok_text\", \"partei\"]].to_csv(\"tweets_bundestag_specialtok.csv\", index=False, encoding=\"utf-8-sig\")\n",
    "    print(\"Example special token cleaned texts:\")\n",
    "    print(df[\"specialtok_text\"].head(10))"
   ]
  },
  {
   "cell_type": "markdown",
   "id": "77897807",
   "metadata": {},
   "source": [
    "## **5. Modellvergleich: Verschiedene Preprocessing-Varianten**\n",
    "\n",
    "In diesem Schritt evaluieren wir, wie sich verschiedene Text-Bereinigungsvarianten auf die Modellleistung auswirken.  \n",
    "Wir verwenden als Modell:\n",
    "- TF-IDF-Vektorisierung\n",
    "- Logistische Regression\n",
    "\n",
    "Kennzahlen:\n",
    "- Accuracy\n",
    "- F1-Score (macro & weighted)\n",
    "\n",
    "Verglichen werden u. a.:\n",
    "- Raw Text\n",
    "- Ohne URLs\n",
    "- Ohne Mentions\n",
    "- Emojis als Text\n",
    "- Spezielle Tokens wie USER / URL etc."
   ]
  },
  {
   "cell_type": "code",
   "execution_count": 66,
   "id": "0d1376e6",
   "metadata": {},
   "outputs": [
    {
     "name": "stdout",
     "output_type": "stream",
     "text": [
      "\n",
      "=== Testing variant: raw ===\n"
     ]
    },
    {
     "name": "stdout",
     "output_type": "stream",
     "text": [
      "Accuracy: 0.415, Macro F1: 0.387, Weighted F1: 0.431\n",
      "\n",
      "=== Testing variant: lowercase ===\n",
      "Accuracy: 0.415, Macro F1: 0.387, Weighted F1: 0.431\n",
      "\n",
      "=== Testing variant: no_urls ===\n",
      "Accuracy: 0.423, Macro F1: 0.389, Weighted F1: 0.437\n",
      "\n",
      "=== Testing variant: no_mentions ===\n",
      "Accuracy: 0.295, Macro F1: 0.276, Weighted F1: 0.305\n",
      "\n",
      "=== Testing variant: no_urls_mentions ===\n",
      "Accuracy: 0.299, Macro F1: 0.279, Weighted F1: 0.309\n",
      "\n",
      "=== Testing variant: demojize ===\n",
      "Accuracy: 0.416, Macro F1: 0.388, Weighted F1: 0.431\n",
      "\n",
      "=== Testing variant: no_hashsymbol ===\n",
      "Accuracy: 0.414, Macro F1: 0.386, Weighted F1: 0.430\n",
      "\n",
      "=== Testing variant: no_urls_mentions_demojize ===\n",
      "Accuracy: 0.307, Macro F1: 0.286, Weighted F1: 0.317\n",
      "\n",
      "=== Testing variant: specialtok ===\n",
      "Accuracy: 0.290, Macro F1: 0.274, Weighted F1: 0.300\n",
      "\n",
      "=== Summary Table ===\n",
      "                     variant  accuracy  macro_f1  weighted_f1\n",
      "0                        raw  0.415500  0.387152     0.430914\n",
      "1                  lowercase  0.415500  0.387152     0.430914\n",
      "2                    no_urls  0.423174  0.389051     0.437171\n",
      "3                no_mentions  0.295389  0.276226     0.305492\n",
      "4           no_urls_mentions  0.298881  0.278595     0.308512\n",
      "5                   demojize  0.416300  0.388493     0.430825\n",
      "6              no_hashsymbol  0.414300  0.386097     0.429702\n",
      "7  no_urls_mentions_demojize  0.306847  0.286434     0.316600\n",
      "8                 specialtok  0.290000  0.273709     0.300219\n"
     ]
    }
   ],
   "source": [
    "import pandas as pd\n",
    "from sklearn.model_selection import train_test_split\n",
    "from sklearn.feature_extraction.text import TfidfVectorizer\n",
    "from sklearn.linear_model import LogisticRegression\n",
    "from sklearn.metrics import accuracy_score, f1_score\n",
    "\n",
    "variants = [\n",
    "    \"raw\",\n",
    "    \"lowercase\",\n",
    "    \"no_urls\",\n",
    "    \"no_mentions\",\n",
    "    \"no_urls_mentions\",\n",
    "    \"demojize\",\n",
    "    \"no_hashsymbol\",\n",
    "    \"no_urls_mentions_demojize\",\n",
    "    \"specialtok\"\n",
    "]\n",
    "\n",
    "results = []\n",
    "\n",
    "for variant in variants:\n",
    "    print(f\"\\n=== Testing variant: {variant} ===\")\n",
    "    df = pd.read_csv(f\"tweets_bundestag_{variant}.csv\", encoding=\"utf-8-sig\")\n",
    "    df = df.dropna(subset=[\"text\" if variant != \"specialtok\" else \"specialtok_text\"])\n",
    "    text_col = \"text\" if variant != \"specialtok\" else \"specialtok_text\"\n",
    "    min_tweet_count = 1000\n",
    "    df = df[df[\"partei\"].map(df[\"partei\"].value_counts()) >= min_tweet_count]\n",
    "    sample_size = min(50000, len(df))\n",
    "    df = df.sample(n=sample_size, random_state=42)\n",
    "\n",
    "    X_train, X_test, y_train, y_test = train_test_split(\n",
    "        df[text_col], df[\"partei\"],\n",
    "        test_size=0.2,\n",
    "        random_state=42,\n",
    "        stratify=df[\"partei\"]\n",
    "    )\n",
    "\n",
    "    vectorizer = TfidfVectorizer(max_features=10000, ngram_range=(1, 2))\n",
    "    X_train_vec = vectorizer.fit_transform(X_train)\n",
    "    X_test_vec = vectorizer.transform(X_test)\n",
    "\n",
    "    clf = LogisticRegression(max_iter=1000, class_weight=\"balanced\", random_state=42)\n",
    "    clf.fit(X_train_vec, y_train)\n",
    "    y_pred = clf.predict(X_test_vec)\n",
    "\n",
    "    acc = accuracy_score(y_test, y_pred)\n",
    "    macro_f1 = f1_score(y_test, y_pred, average='macro')\n",
    "    weighted_f1 = f1_score(y_test, y_pred, average='weighted')\n",
    "    print(f\"Accuracy: {acc:.3f}, Macro F1: {macro_f1:.3f}, Weighted F1: {weighted_f1:.3f}\")\n",
    "    results.append({\n",
    "        \"variant\": variant,\n",
    "        \"accuracy\": acc,\n",
    "        \"macro_f1\": macro_f1,\n",
    "        \"weighted_f1\": weighted_f1\n",
    "    })\n",
    "\n",
    "print(\"\\n=== Summary Table ===\")\n",
    "print(pd.DataFrame(results))"
   ]
  },
  {
   "cell_type": "markdown",
   "id": "fe68e33c",
   "metadata": {},
   "source": [
    "## **6. TF-IDF Baseline**\n",
    "\n",
    "In diesem Abschnitt trainieren wir den Baseline Modell und speichern das Modell sowie den TF-IDF-Vektorisierer mit `joblib` für spätere Nutzung.\n"
   ]
  },
  {
   "cell_type": "code",
   "execution_count": 67,
   "id": "44ef1aa2",
   "metadata": {},
   "outputs": [
    {
     "name": "stdout",
     "output_type": "stream",
     "text": [
      "Class distribution in data:\n",
      " partei\n",
      "Bündnis 90/Die Grünen    12185\n",
      "SPD                      10424\n",
      "CDU                       8172\n",
      "Die Linke                 7071\n",
      "FDP                       5005\n",
      "AfD                       3619\n",
      "CSU                       2185\n",
      "Fraktionslos              1094\n",
      "Name: count, dtype: int64\n",
      "Classification report:\n",
      "                       precision    recall  f1-score   support\n",
      "\n",
      "                  AfD      0.483     0.569     0.523       724\n",
      "Bündnis 90/Die Grünen      0.580     0.391     0.467      2437\n",
      "                  CDU      0.464     0.390     0.424      1634\n",
      "                  CSU      0.177     0.384     0.242       437\n",
      "            Die Linke      0.435     0.482     0.457      1414\n",
      "                  FDP      0.410     0.444     0.426      1001\n",
      "         Fraktionslos      0.081     0.279     0.125       219\n",
      "                  SPD      0.496     0.410     0.449      2085\n",
      "\n",
      "             accuracy                          0.423      9951\n",
      "            macro avg      0.391     0.419     0.389      9951\n",
      "         weighted avg      0.470     0.423     0.437      9951\n",
      "\n",
      "Confusion matrix:\n",
      "[[412  37  40  33  62  27  58  55]\n",
      " [116 952 205 194 330 200 163 277]\n",
      " [ 77 134 637 195 133 125 130 203]\n",
      " [ 14  45  67 168  43  24  17  59]\n",
      " [ 81 130  83  99 682 101 104 134]\n",
      " [ 43  85  88  73  73 444  76 119]\n",
      " [ 22  24  19  15  26  29  61  23]\n",
      " [ 88 234 235 174 219 134 146 855]]\n"
     ]
    },
    {
     "data": {
      "text/plain": [
       "['tfidf_no_urls.joblib']"
      ]
     },
     "execution_count": 67,
     "metadata": {},
     "output_type": "execute_result"
    }
   ],
   "source": [
    "import pandas as pd\n",
    "from sklearn.model_selection import train_test_split\n",
    "from sklearn.feature_extraction.text import TfidfVectorizer\n",
    "from sklearn.linear_model import LogisticRegression\n",
    "from sklearn.metrics import classification_report, confusion_matrix\n",
    "\n",
    "# Choose variant here (e.g., 'raw', 'no_urls', etc.)\n",
    "VARIANT = \"no_urls\"\n",
    "\n",
    "df = pd.read_csv(f\"tweets_bundestag_{VARIANT}.csv\", encoding=\"utf-8-sig\")\n",
    "min_tweet_count = 1000\n",
    "df = df[df[\"partei\"].map(df[\"partei\"].value_counts()) >= min_tweet_count]\n",
    "df = df.dropna(subset=[\"text\"])\n",
    "\n",
    "sample_size = min(50000, len(df))\n",
    "df = df.sample(n=sample_size, random_state=42)\n",
    "\n",
    "print(\"Class distribution in data:\\n\", df[\"partei\"].value_counts())\n",
    "\n",
    "X_train, X_test, y_train, y_test = train_test_split(\n",
    "    df[\"text\"], df[\"partei\"],\n",
    "    test_size=0.2,\n",
    "    random_state=42,\n",
    "    stratify=df[\"partei\"]\n",
    ")\n",
    "\n",
    "# TF-IDF vectorization\n",
    "vectorizer = TfidfVectorizer(max_features=10000, ngram_range=(1, 2))\n",
    "X_train_vec = vectorizer.fit_transform(X_train)\n",
    "X_test_vec = vectorizer.transform(X_test)\n",
    "\n",
    "# Logistic Regression with balanced class weights\n",
    "clf = LogisticRegression(max_iter=1000, class_weight=\"balanced\", random_state=42)\n",
    "clf.fit(X_train_vec, y_train)\n",
    "\n",
    "y_pred = clf.predict(X_test_vec)\n",
    "\n",
    "print(\"Classification report:\")\n",
    "print(classification_report(y_test, y_pred, zero_division=0, digits=3))\n",
    "print(\"Confusion matrix:\")\n",
    "print(confusion_matrix(y_test, y_pred))\n",
    "\n",
    "# Save model and vectorizer for reproducibility/Streamlit\n",
    "import joblib\n",
    "joblib.dump(clf, f\"lr_model_{VARIANT}.joblib\")\n",
    "joblib.dump(vectorizer, f\"tfidf_{VARIANT}.joblib\")"
   ]
  },
  {
   "cell_type": "markdown",
   "id": "ee95db60",
   "metadata": {},
   "source": [
    "## **7. TF-IDF + Zusatzfeatures (Emojis, Hashtags, Mentions, URLs)**\n",
    "\n",
    "Wir erweitern unser Modell um Zusatzinformationen pro Tweet:\n",
    "\n",
    "- Anzahl Emojis\n",
    "- Anzahl Hashtags\n",
    "- Anzahl Mentions\n",
    "- Anzahl URLs\n",
    "\n",
    "Die Features werden standardisiert und mit dem TF-IDF-Vektor kombiniert.  \n",
    "Danach folgt erneut ein Training mit logistischer Regression."
   ]
  },
  {
   "cell_type": "code",
   "execution_count": 68,
   "id": "a75dbc2e",
   "metadata": {},
   "outputs": [
    {
     "name": "stdout",
     "output_type": "stream",
     "text": [
      "Classification report (with extra features):\n",
      "                       precision    recall  f1-score   support\n",
      "\n",
      "                  AfD      0.495     0.577     0.533       724\n",
      "Bündnis 90/Die Grünen      0.577     0.386     0.462      2437\n",
      "                  CDU      0.462     0.382     0.419      1634\n",
      "                  CSU      0.188     0.410     0.258       437\n",
      "            Die Linke      0.431     0.480     0.454      1414\n",
      "                  FDP      0.407     0.460     0.432      1001\n",
      "         Fraktionslos      0.078     0.274     0.122       219\n",
      "                  SPD      0.501     0.410     0.451      2085\n",
      "\n",
      "             accuracy                          0.424      9951\n",
      "            macro avg      0.393     0.422     0.391      9951\n",
      "         weighted avg      0.471     0.424     0.437      9951\n",
      "\n",
      "Confusion matrix:\n",
      "[[418  30  43  37  62  36  55  43]\n",
      " [ 98 940 203 198 346 211 164 277]\n",
      " [ 75 136 625 192 137 133 128 208]\n",
      " [ 10  46  63 179  34  25  23  57]\n",
      " [ 83 134  82  91 679  99 109 137]\n",
      " [ 54  83  82  65  77 460  78 102]\n",
      " [ 19  27  19  13  24  31  60  26]\n",
      " [ 87 232 235 176 217 135 149 854]]\n",
      "Numeric feature importances (per class):\n",
      "num_emojis: 0.0000\n",
      "num_hashtags: -0.0000\n",
      "num_mentions: 0.0000\n",
      "num_urls: 0.0000\n"
     ]
    }
   ],
   "source": [
    "import pandas as pd\n",
    "import re\n",
    "import emoji\n",
    "from sklearn.model_selection import train_test_split\n",
    "from sklearn.feature_extraction.text import TfidfVectorizer\n",
    "from sklearn.linear_model import LogisticRegression\n",
    "from sklearn.metrics import classification_report, confusion_matrix\n",
    "from sklearn.preprocessing import StandardScaler\n",
    "from scipy.sparse import hstack\n",
    "import joblib\n",
    "\n",
    "def count_emojis(text):\n",
    "    return sum(char in emoji.EMOJI_DATA for char in str(text))\n",
    "\n",
    "def count_hashtags(text):\n",
    "    return len(re.findall(r\"#\\w+\", str(text)))\n",
    "\n",
    "def count_mentions(text):\n",
    "    return len(re.findall(r\"@\\w+\", str(text)))\n",
    "\n",
    "def count_urls(text):\n",
    "    return len(re.findall(r\"http\\S+|www\\S+|https\\S+\", str(text)))\n",
    "\n",
    "# Choose best variant based on previous results\n",
    "VARIANT = \"no_urls\"\n",
    "df = pd.read_csv(f\"tweets_bundestag_{VARIANT}.csv\", encoding=\"utf-8-sig\")\n",
    "min_tweet_count = 1000\n",
    "df = df[df[\"partei\"].map(df[\"partei\"].value_counts()) >= min_tweet_count]\n",
    "df = df.dropna(subset=[\"text\"])\n",
    "\n",
    "# Add extra features\n",
    "df[\"num_emojis\"] = df[\"text\"].apply(count_emojis)\n",
    "df[\"num_hashtags\"] = df[\"text\"].apply(count_hashtags)\n",
    "df[\"num_mentions\"] = df[\"text\"].apply(count_mentions)\n",
    "df[\"num_urls\"] = df[\"text\"].apply(count_urls)\n",
    "\n",
    "sample_size = min(50000, len(df))\n",
    "df = df.sample(n=sample_size, random_state=42)\n",
    "\n",
    "X_text = df[\"text\"]\n",
    "X_extra = df[[\"num_emojis\", \"num_hashtags\", \"num_mentions\", \"num_urls\"]].values\n",
    "y = df[\"partei\"]\n",
    "\n",
    "X_train_text, X_test_text, X_train_extra, X_test_extra, y_train, y_test = train_test_split(\n",
    "    X_text, X_extra, y,\n",
    "    test_size=0.2,\n",
    "    stratify=y,\n",
    "    random_state=42\n",
    ")\n",
    "\n",
    "vectorizer = TfidfVectorizer(max_features=10000, ngram_range=(1, 2))\n",
    "X_train_vec = vectorizer.fit_transform(X_train_text)\n",
    "X_test_vec = vectorizer.transform(X_test_text)\n",
    "\n",
    "scaler = StandardScaler(with_mean=False)\n",
    "X_train_extra_scaled = scaler.fit_transform(X_train_extra)\n",
    "X_test_extra_scaled = scaler.transform(X_test_extra)\n",
    "\n",
    "X_train_combined = hstack([X_train_vec, X_train_extra_scaled])\n",
    "X_test_combined = hstack([X_test_vec, X_test_extra_scaled])\n",
    "\n",
    "clf = LogisticRegression(max_iter=1000, class_weight=\"balanced\", random_state=42)\n",
    "clf.fit(X_train_combined, y_train)\n",
    "\n",
    "y_pred = clf.predict(X_test_combined)\n",
    "print(\"Classification report (with extra features):\")\n",
    "print(classification_report(y_test, y_pred, zero_division=0, digits=3))\n",
    "print(\"Confusion matrix:\")\n",
    "print(confusion_matrix(y_test, y_pred))\n",
    "\n",
    "joblib.dump(clf, f\"lr_model_extra_{VARIANT}.joblib\")\n",
    "joblib.dump(vectorizer, f\"tfidf_extra_{VARIANT}.joblib\")\n",
    "joblib.dump(scaler, f\"scaler_extra_{VARIANT}.joblib\")\n",
    "\n",
    "# Feature importances for numeric features\n",
    "coef = clf.coef_\n",
    "print(\"Numeric feature importances (per class):\")\n",
    "for i, col in enumerate([\"num_emojis\", \"num_hashtags\", \"num_mentions\", \"num_urls\"]):\n",
    "    print(f\"{col}: {coef[:, -(i+1)].mean():.4f}\")"
   ]
  },
  {
   "cell_type": "markdown",
   "id": "a2603830",
   "metadata": {},
   "source": [
    "## **8. Feature Engineering (strukturierte Merkmale)**\n",
    "\n",
    "In diesem Schritt extrahieren wir zusätzliche Merkmale aus dem Text,\n",
    "die nicht durch TF-IDF oder BERT abgedeckt sind:\n",
    "\n",
    "- Länge des Tweets (in Zeichen/Wörtern)\n",
    "- durchschnittliche Wortlänge\n",
    "- Verhältnis von Großbuchstaben\n",
    "- Häufigkeit von !, ?, ..., Emojis, Mentions, Hashtags, URLs\n",
    "- Politische Begriffe\n",
    "- Retweet-Erkennung"
   ]
  },
  {
   "cell_type": "code",
   "execution_count": 69,
   "id": "9f602c2e",
   "metadata": {},
   "outputs": [
    {
     "name": "stdout",
     "output_type": "stream",
     "text": [
      "Feature file saved as tweets_bundestag_features.csv\n"
     ]
    }
   ],
   "source": [
    "import pandas as pd\n",
    "import re\n",
    "import emoji\n",
    "\n",
    "# List of important political terms (example, expand as needed)\n",
    "POLITICAL_TERMS = [\n",
    "    \"klimaschutz\", \"freiheit\", \"bürgergeld\", \"migration\", \"rente\", \"gerechtigkeit\",\n",
    "    \"steuern\", \"digitalisierung\", \"gesundheit\", \"bildung\", \"europa\", \"verteidigung\",\n",
    "    \"arbeitsmarkt\", \"soziales\", \"integration\", \"umweltschutz\", \"innenpolitik\"\n",
    "]\n",
    "\n",
    "def count_political_terms(text):\n",
    "    text = str(text).lower()\n",
    "    return sum(1 for word in POLITICAL_TERMS if word in text)\n",
    "\n",
    "def uppercase_ratio(text):\n",
    "    text = str(text)\n",
    "    if len(text) == 0:\n",
    "        return 0\n",
    "    return sum(1 for c in text if c.isupper()) / len(text)\n",
    "\n",
    "def avg_word_length(text):\n",
    "    words = re.findall(r\"\\w+\", str(text))\n",
    "    if not words:\n",
    "        return 0\n",
    "    return sum(len(w) for w in words) / len(words)\n",
    "\n",
    "def multi_punct_count(text):\n",
    "    return len(re.findall(r\"[!?]{2,}\", str(text)))\n",
    "\n",
    "def count_emojis(text):\n",
    "    return sum(1 for char in str(text) if char in emoji.EMOJI_DATA)\n",
    "\n",
    "def count_hashtags(text):\n",
    "    return len(re.findall(r\"#\\w+\", str(text)))\n",
    "\n",
    "def count_mentions(text):\n",
    "    return len(re.findall(r\"@\\w+\", str(text)))\n",
    "\n",
    "def count_urls(text):\n",
    "    return len(re.findall(r\"http\\S+|www\\S+|https\\S+\", str(text)))\n",
    "\n",
    "def count_dots(text):\n",
    "    return len(re.findall(r\"\\.\\.+\", str(text)))\n",
    "\n",
    "def is_retweet(text):\n",
    "    return int(str(text).strip().lower().startswith(\"rt @\"))\n",
    "\n",
    "if __name__ == \"__main__\":\n",
    "    # Use the best preprocessing variant as base\n",
    "    VARIANT = \"no_urls\"\n",
    "    df = pd.read_csv(f\"tweets_bundestag_{VARIANT}.csv\", encoding=\"utf-8-sig\")\n",
    "    df = df[df[\"text\"].notna() & (df[\"text\"].str.strip() != \"\")]\n",
    "    df = df.reset_index(drop=True)\n",
    "\n",
    "    # Feature extraction\n",
    "    df[\"tweet_length_chars\"] = df[\"text\"].apply(len)\n",
    "    df[\"tweet_length_words\"] = df[\"text\"].apply(lambda x: len(str(x).split()))\n",
    "    df[\"avg_word_length\"] = df[\"text\"].apply(avg_word_length)\n",
    "    df[\"uppercase_ratio\"] = df[\"text\"].apply(uppercase_ratio)\n",
    "    df[\"exclamations\"] = df[\"text\"].apply(lambda x: str(x).count(\"!\"))\n",
    "    df[\"questions\"] = df[\"text\"].apply(lambda x: str(x).count(\"?\"))\n",
    "    df[\"multi_punct_count\"] = df[\"text\"].apply(multi_punct_count)\n",
    "    df[\"political_term_count\"] = df[\"text\"].apply(count_political_terms)\n",
    "    df[\"num_emojis\"] = df[\"text\"].apply(count_emojis)\n",
    "    df[\"num_hashtags\"] = df[\"text\"].apply(count_hashtags)\n",
    "    df[\"num_mentions\"] = df[\"text\"].apply(count_mentions)\n",
    "    df[\"num_urls\"] = df[\"text\"].apply(count_urls)\n",
    "    df[\"dots\"] = df[\"text\"].apply(count_dots)\n",
    "    df[\"is_retweet\"] = df[\"text\"].apply(is_retweet)\n",
    "\n",
    "    # Save engineered features for downstream use\n",
    "    df.to_csv(\"tweets_bundestag_features.csv\", index=False, encoding=\"utf-8-sig\")\n",
    "    print(\"Feature file saved as tweets_bundestag_features.csv\")"
   ]
  },
  {
   "cell_type": "markdown",
   "id": "b3f12aa2",
   "metadata": {},
   "source": [
    "## **9. Kombiniertes Modell: BERT + strukturierte Features**\n",
    "\n",
    "In diesem Schritt kombinieren wir zwei Informationsquellen:\n",
    "\n",
    "- **Textrepräsentation** über vortrainiertes `bert-base-german-cased` (CLS-Embedding)\n",
    "- **Strukturierte Merkmale** aus dem vorherigen Feature Engineering (z. B. Emojis, Wortlänge, Großschreibung, politische Begriffe etc.)\n",
    "\n",
    "Ziel ist es, die Vorhersagegenauigkeit durch die Kombination von Kontext (BERT) und Stil/Merkmalen zu verbessern.\n"
   ]
  },
  {
   "cell_type": "code",
   "execution_count": 66,
   "id": "18c4148d",
   "metadata": {},
   "outputs": [
    {
     "name": "stdout",
     "output_type": "stream",
     "text": [
      "\n",
      "Classification report (combined features):\n",
      "                       precision    recall  f1-score   support\n",
      "\n",
      "                  AfD      0.390     0.425     0.407       200\n",
      "Bündnis 90/Die Grünen      0.191     0.195     0.193       200\n",
      "                  CDU      0.224     0.180     0.199       200\n",
      "                  CSU      0.357     0.410     0.381       200\n",
      "            Die Linke      0.274     0.260     0.267       200\n",
      "                  FDP      0.284     0.290     0.287       200\n",
      "         Fraktionslos      0.336     0.355     0.345       200\n",
      "                  SPD      0.192     0.175     0.183       200\n",
      "\n",
      "             accuracy                          0.286      1600\n",
      "            macro avg      0.281     0.286     0.283      1600\n",
      "         weighted avg      0.281     0.286     0.283      1600\n",
      "\n",
      "\n",
      "Confusion matrix:\n",
      "[[85 23 13 18 10 13 23 15]\n",
      " [15 39 19 28 31 31 19 18]\n",
      " [20 28 36 31 20 21 21 23]\n",
      " [14 16 24 82 15 11 15 23]\n",
      " [25 27 16 13 52 20 19 28]\n",
      " [20 26 17 13 21 58 23 22]\n",
      " [18 23 10 18 23 19 71 18]\n",
      " [21 22 26 27 18 31 20 35]]\n"
     ]
    },
    {
     "data": {
      "text/plain": [
       "['scaler_combined.joblib']"
      ]
     },
     "execution_count": 66,
     "metadata": {},
     "output_type": "execute_result"
    }
   ],
   "source": [
    "import pandas as pd\n",
    "import numpy as np\n",
    "from sklearn.model_selection import train_test_split\n",
    "from sklearn.linear_model import LogisticRegression\n",
    "from sklearn.metrics import classification_report, confusion_matrix\n",
    "from sklearn.preprocessing import StandardScaler\n",
    "import torch\n",
    "from transformers import AutoTokenizer, AutoModel\n",
    "import joblib\n",
    "import warnings\n",
    "\n",
    "warnings.filterwarnings(\"ignore\")\n",
    "\n",
    "# 1. Load features extracted in 07\n",
    "df = pd.read_csv(\"tweets_bundestag_features.csv\", encoding=\"utf-8-sig\")\n",
    "min_tweet_count = 1000\n",
    "df = df[df[\"partei\"].map(df[\"partei\"].value_counts()) >= min_tweet_count]\n",
    "df = df.dropna(subset=[\"text\"])\n",
    "df = df.reset_index(drop=True)\n",
    "sample_size = min(50000, len(df))\n",
    "df = df.sample(n=sample_size, random_state=42)\n",
    "\n",
    "# 2. BERT tokenizer and model (German BERT)\n",
    "tokenizer = AutoTokenizer.from_pretrained(\"bert-base-german-cased\")\n",
    "model = AutoModel.from_pretrained(\"bert-base-german-cased\")\n",
    "model.eval()  # Eval mode\n",
    "\n",
    "def embed_texts(texts, max_len=128, batch_size=32):\n",
    "    embeddings = []\n",
    "    with torch.no_grad():\n",
    "        for i in range(0, len(texts), batch_size):\n",
    "            batch_texts = texts[i:i+batch_size]\n",
    "            encoded = tokenizer(batch_texts, truncation=True, padding=\"max_length\", max_length=max_len, return_tensors=\"pt\")\n",
    "            output = model(**encoded)\n",
    "            # CLS token embedding (batch_size, hidden_size)\n",
    "            cls_emb = output.last_hidden_state[:, 0, :].cpu().numpy()\n",
    "            embeddings.append(cls_emb)\n",
    "    return np.vstack(embeddings)\n",
    "\n",
    "X_text = df[\"text\"].tolist()\n",
    "y = df[\"partei\"]\n",
    "\n",
    "# 3. Numeric features to use\n",
    "feature_cols = [\n",
    "    \"tweet_length_chars\", \"tweet_length_words\", \"avg_word_length\", \"uppercase_ratio\",\n",
    "    \"exclamations\", \"questions\", \"multi_punct_count\", \"political_term_count\",\n",
    "    \"num_emojis\", \"num_hashtags\", \"num_mentions\", \"num_urls\", \"dots\", \"is_retweet\"\n",
    "]\n",
    "X_numeric = df[feature_cols].values\n",
    "\n",
    "# (Optional) Balanced sampling: Max 1000 per party\n",
    "sample_per_party = 1000\n",
    "df_balanced = (\n",
    "    df.groupby(\"partei\", group_keys=False)\n",
    "      .apply(lambda x: x.sample(n=min(len(x), sample_per_party), random_state=42))\n",
    "      .reset_index(drop=True)\n",
    ")\n",
    "X_text_bal = df_balanced[\"text\"].tolist()\n",
    "X_numeric_bal = df_balanced[feature_cols].values\n",
    "y_bal = df_balanced[\"partei\"]\n",
    "\n",
    "# Train/test split on balanced data\n",
    "X_text_train, X_text_test, X_num_train, X_num_test, y_train, y_test = train_test_split(\n",
    "    X_text_bal, X_numeric_bal, y_bal,\n",
    "    test_size=0.2,\n",
    "    random_state=42,\n",
    "    stratify=y_bal\n",
    ")\n",
    "\n",
    "# 4. Compute BERT embeddings (can be cached if slow)\n",
    "X_text_train_emb = embed_texts(X_text_train)\n",
    "X_text_test_emb = embed_texts(X_text_test)\n",
    "\n",
    "# 5. Scale numeric features\n",
    "scaler = StandardScaler()\n",
    "X_num_train_scaled = scaler.fit_transform(X_num_train)\n",
    "X_num_test_scaled = scaler.transform(X_num_test)\n",
    "\n",
    "# 6. Combine BERT and numeric features\n",
    "X_train_combined = np.hstack([X_text_train_emb, X_num_train_scaled])\n",
    "X_test_combined = np.hstack([X_text_test_emb, X_num_test_scaled])\n",
    "\n",
    "# 7. Train Logistic Regression\n",
    "clf = LogisticRegression(max_iter=1000, class_weight='balanced', n_jobs=-1)\n",
    "clf.fit(X_train_combined, y_train)\n",
    "\n",
    "y_pred = clf.predict(X_test_combined)\n",
    "print(\"\\nClassification report (combined features):\")\n",
    "print(classification_report(y_test, y_pred, zero_division=0, digits=3))\n",
    "print(\"\\nConfusion matrix:\")\n",
    "print(confusion_matrix(y_test, y_pred))\n",
    "\n",
    "# Save model and scaler for reproducibility/Streamlit\n",
    "joblib.dump(clf, \"lr_model_combined.joblib\")\n",
    "joblib.dump(scaler, \"scaler_combined.joblib\")"
   ]
  },
  {
   "cell_type": "markdown",
   "id": "6434e248",
   "metadata": {},
   "source": [
    "## 10. **Klassifikation mit TF-IDF, BERT und Feature Engineering (Random Forest)**\n",
    "\n",
    "In diesem Abschnitt kombinieren wir drei Arten von Features:\n",
    "\n",
    "- **TF-IDF-Repräsentationen** der Tweets  \n",
    "- **BERT-Embeddings** aus dem `bert-base-german-cased` Modell  \n",
    "- **Manuell extrahierte Features** (z. B. Anzahl Emojis, Großbuchstaben, Hashtags etc.)\n",
    "\n",
    "Das Modell zur Klassifikation ist ein **Random Forest**, der alle kombinierten Features berücksichtigt."
   ]
  },
  {
   "cell_type": "code",
   "execution_count": 12,
   "id": "55399b08",
   "metadata": {},
   "outputs": [
    {
     "name": "stdout",
     "output_type": "stream",
     "text": [
      "Number of tweets used: 8000\n"
     ]
    }
   ],
   "source": [
    "import pandas as pd\n",
    "import numpy as np\n",
    "from sklearn.model_selection import train_test_split\n",
    "from sklearn.ensemble import RandomForestClassifier\n",
    "from sklearn.metrics import classification_report\n",
    "from sklearn.preprocessing import StandardScaler\n",
    "from sklearn.feature_extraction.text import TfidfVectorizer\n",
    "import torch\n",
    "from transformers import AutoTokenizer, AutoModel\n",
    "\n",
    "# Load features\n",
    "df = pd.read_csv(\"tweets_bundestag_features.csv\", encoding=\"utf-8-sig\")\n",
    "min_tweet_count = 1000\n",
    "df = df[df[\"partei\"].map(df[\"partei\"].value_counts()) >= min_tweet_count]\n",
    "df = df.dropna(subset=[\"text\"])\n",
    "\n",
    "# For a quick, balanced test, sample up to 1000 tweets per party\n",
    "sample_per_party = 1000\n",
    "df_sample = (\n",
    "    df.groupby('partei', group_keys=False)\n",
    "    .apply(lambda x: x.sample(n=min(len(x), sample_per_party), random_state=42))\n",
    "    .reset_index(drop=True)\n",
    ")\n",
    "\n",
    "print(f\"Number of tweets used: {len(df_sample)}\")"
   ]
  },
  {
   "cell_type": "code",
   "execution_count": 16,
   "id": "c1b5e5fe",
   "metadata": {},
   "outputs": [],
   "source": [
    "# TF-IDF\n",
    "vectorizer = TfidfVectorizer(max_features=5000)\n",
    "X_tfidf = vectorizer.fit_transform(df_sample[\"text\"])"
   ]
  },
  {
   "cell_type": "code",
   "execution_count": 8,
   "id": "2576f8ab",
   "metadata": {},
   "outputs": [
    {
     "name": "stdout",
     "output_type": "stream",
     "text": [
      "Calculating BERT embeddings (this may take several minutes)...\n"
     ]
    }
   ],
   "source": [
    "# BERT\n",
    "tokenizer = AutoTokenizer.from_pretrained(\"bert-base-german-cased\")\n",
    "model = AutoModel.from_pretrained(\"bert-base-german-cased\")\n",
    "model.eval()\n",
    "def embed_texts(texts, max_len=64):\n",
    "    embeddings = []\n",
    "    with torch.no_grad():\n",
    "        for text in texts:\n",
    "            encoded = tokenizer(text, truncation=True, padding=\"max_length\", max_length=max_len, return_tensors=\"pt\")\n",
    "            output = model(**encoded)\n",
    "            cls_emb = output.last_hidden_state[:, 0, :].squeeze().numpy()\n",
    "            embeddings.append(cls_emb)\n",
    "    return np.array(embeddings)\n",
    "\n",
    "print(\"Calculating BERT embeddings (this may take several minutes)...\")\n",
    "X_bert = embed_texts(df_sample[\"text\"].tolist())"
   ]
  },
  {
   "cell_type": "code",
   "execution_count": 11,
   "id": "b6bcabf9",
   "metadata": {},
   "outputs": [],
   "source": [
    "# Engineered features\n",
    "feature_cols = [\n",
    "    \"tweet_length_chars\", \"tweet_length_words\", \"avg_word_length\", \"uppercase_ratio\",\n",
    "    \"exclamations\", \"questions\", \"multi_punct_count\", \"political_term_count\",\n",
    "    \"num_emojis\", \"num_hashtags\", \"num_mentions\", \"num_urls\", \"dots\", \"is_retweet\"\n",
    "]\n",
    "scaler = StandardScaler()\n",
    "X_eng = scaler.fit_transform(df_sample[feature_cols])"
   ]
  },
  {
   "cell_type": "code",
   "execution_count": 17,
   "id": "163b4b35",
   "metadata": {},
   "outputs": [
    {
     "name": "stdout",
     "output_type": "stream",
     "text": [
      "                       precision    recall  f1-score   support\n",
      "\n",
      "                  AfD      0.373     0.575     0.453       200\n",
      "Bündnis 90/Die Grünen      0.203     0.180     0.191       200\n",
      "                  CDU      0.191     0.175     0.183       200\n",
      "                  CSU      0.300     0.315     0.307       200\n",
      "            Die Linke      0.193     0.165     0.178       200\n",
      "                  FDP      0.342     0.255     0.292       200\n",
      "         Fraktionslos      0.295     0.395     0.338       200\n",
      "                  SPD      0.201     0.135     0.162       200\n",
      "\n",
      "             accuracy                          0.274      1600\n",
      "            macro avg      0.262     0.274     0.263      1600\n",
      "         weighted avg      0.262     0.274     0.263      1600\n",
      "\n"
     ]
    }
   ],
   "source": [
    "# Combine all features\n",
    "X_all = np.hstack([X_tfidf.toarray(), X_bert, X_eng])\n",
    "y = df_sample[\"partei\"]\n",
    "\n",
    "X_train, X_test, y_train, y_test = train_test_split(X_all, y, test_size=0.2, stratify=y, random_state=42)\n",
    "\n",
    "clf = RandomForestClassifier(n_estimators=100, n_jobs=-1)\n",
    "clf.fit(X_train, y_train)\n",
    "y_pred_rf = clf.predict(X_test)\n",
    "print(classification_report(y_test, y_pred_rf, digits=3))"
   ]
  },
  {
   "cell_type": "markdown",
   "id": "5ecaca29",
   "metadata": {},
   "source": [
    "## **11. Klassifikation mit TF-IDF, BERT und Feature Engineering (Logistic Regression)**\n",
    "\n",
    "In diesem letzten Abschnitt kombinieren wir erneut:\n",
    "\n",
    "- **TF-IDF-Vektoren**\n",
    "- **BERT-Embeddings**\n",
    "- **Feature-Engineering (z. B. Emojis, Hashtags, Großschreibung, etc.)**\n",
    "\n",
    "Diesmal kommt ein **Logistic Regression-Modell** (mit `saga`-Solver) zum Einsatz.\n"
   ]
  },
  {
   "cell_type": "code",
   "execution_count": 19,
   "id": "6356be5c",
   "metadata": {},
   "outputs": [
    {
     "name": "stdout",
     "output_type": "stream",
     "text": [
      "Number of tweets used: 8000\n",
      "Calculating BERT embeddings...\n"
     ]
    }
   ],
   "source": [
    "import pandas as pd\n",
    "import numpy as np\n",
    "from sklearn.model_selection import train_test_split\n",
    "from sklearn.linear_model import LogisticRegression\n",
    "from sklearn.metrics import classification_report\n",
    "from sklearn.preprocessing import StandardScaler\n",
    "from sklearn.feature_extraction.text import TfidfVectorizer\n",
    "import torch\n",
    "from transformers import AutoTokenizer, AutoModel\n",
    "\n",
    "# Load features and sample as before...\n",
    "df = pd.read_csv(\"tweets_bundestag_features.csv\", encoding=\"utf-8-sig\")\n",
    "min_tweet_count = 1000\n",
    "df = df[df[\"partei\"].map(df[\"partei\"].value_counts()) >= min_tweet_count]\n",
    "df = df.dropna(subset=[\"text\"])\n",
    "sample_per_party = 1000\n",
    "df_sample = (\n",
    "    df.groupby('partei', group_keys=False)\n",
    "    .apply(lambda x: x.sample(n=min(len(x), sample_per_party), random_state=42))\n",
    "    .reset_index(drop=True)\n",
    ")\n",
    "print(f\"Number of tweets used: {len(df_sample)}\")\n",
    "\n",
    "vectorizer = TfidfVectorizer(max_features=5000)\n",
    "X_tfidf = vectorizer.fit_transform(df_sample[\"text\"])\n",
    "\n",
    "tokenizer = AutoTokenizer.from_pretrained(\"bert-base-german-cased\")\n",
    "model = AutoModel.from_pretrained(\"bert-base-german-cased\")\n",
    "model.eval()\n",
    "def embed_texts(texts, max_len=64):\n",
    "    embeddings = []\n",
    "    with torch.no_grad():\n",
    "        for text in texts:\n",
    "            encoded = tokenizer(text, truncation=True, padding=\"max_length\", max_length=max_len, return_tensors=\"pt\")\n",
    "            output = model(**encoded)\n",
    "            cls_emb = output.last_hidden_state[:, 0, :].squeeze().numpy()\n",
    "            embeddings.append(cls_emb)\n",
    "    return np.array(embeddings)\n",
    "print(\"Calculating BERT embeddings...\")\n",
    "X_bert = embed_texts(df_sample[\"text\"].tolist())\n",
    "\n",
    "feature_cols = [\n",
    "    \"tweet_length_chars\", \"tweet_length_words\", \"avg_word_length\", \"uppercase_ratio\",\n",
    "    \"exclamations\", \"questions\", \"multi_punct_count\", \"political_term_count\",\n",
    "    \"num_emojis\", \"num_hashtags\", \"num_mentions\", \"num_urls\", \"dots\", \"is_retweet\"\n",
    "]\n",
    "scaler = StandardScaler()\n",
    "X_eng = scaler.fit_transform(df_sample[feature_cols])\n",
    "\n",
    "X_all = np.hstack([X_tfidf.toarray(), X_bert, X_eng])\n",
    "y = df_sample[\"partei\"]\n",
    "\n",
    "X_train, X_test, y_train, y_test = train_test_split(X_all, y, test_size=0.2, stratify=y, random_state=42)\n"
   ]
  },
  {
   "cell_type": "code",
   "execution_count": 20,
   "id": "20bafb58",
   "metadata": {},
   "outputs": [
    {
     "name": "stdout",
     "output_type": "stream",
     "text": [
      "                       precision    recall  f1-score   support\n",
      "\n",
      "                  AfD      0.459     0.510     0.483       200\n",
      "Bündnis 90/Die Grünen      0.256     0.260     0.258       200\n",
      "                  CDU      0.245     0.225     0.234       200\n",
      "                  CSU      0.316     0.325     0.320       200\n",
      "            Die Linke      0.271     0.245     0.257       200\n",
      "                  FDP      0.366     0.340     0.352       200\n",
      "         Fraktionslos      0.276     0.305     0.290       200\n",
      "                  SPD      0.218     0.215     0.217       200\n",
      "\n",
      "             accuracy                          0.303      1600\n",
      "            macro avg      0.301     0.303     0.302      1600\n",
      "         weighted avg      0.301     0.303     0.302      1600\n",
      "\n"
     ]
    }
   ],
   "source": [
    "clf = LogisticRegression(max_iter=2000, class_weight='balanced', n_jobs=-1, solver='saga')\n",
    "clf.fit(X_train, y_train)\n",
    "y_pred_logreg = clf.predict(X_test)\n",
    "print(classification_report(y_test, y_pred_logreg, digits=3))"
   ]
  },
  {
   "cell_type": "markdown",
   "id": "a7cb593f",
   "metadata": {},
   "source": [
    "## **12. Klassifikation mit TF-IDF, BERT und Feature Engineering (LinearSVC)**\n"
   ]
  },
  {
   "cell_type": "code",
   "execution_count": 21,
   "id": "0f8ba40c",
   "metadata": {},
   "outputs": [
    {
     "name": "stdout",
     "output_type": "stream",
     "text": [
      "Number of tweets used: 8000\n",
      "Calculating BERT embeddings (this may take several minutes)...\n",
      "                       precision    recall  f1-score   support\n",
      "\n",
      "                  AfD      0.481     0.565     0.520       200\n",
      "Bündnis 90/Die Grünen      0.275     0.275     0.275       200\n",
      "                  CDU      0.333     0.305     0.319       200\n",
      "                  CSU      0.373     0.330     0.350       200\n",
      "            Die Linke      0.281     0.275     0.278       200\n",
      "                  FDP      0.382     0.365     0.373       200\n",
      "         Fraktionslos      0.300     0.330     0.314       200\n",
      "                  SPD      0.253     0.250     0.251       200\n",
      "\n",
      "             accuracy                          0.337      1600\n",
      "            macro avg      0.335     0.337     0.335      1600\n",
      "         weighted avg      0.335     0.337     0.335      1600\n",
      "\n"
     ]
    }
   ],
   "source": [
    "import numpy as np\n",
    "from sklearn.svm import LinearSVC\n",
    "from sklearn.model_selection import train_test_split\n",
    "from sklearn.metrics import classification_report\n",
    "from sklearn.preprocessing import StandardScaler\n",
    "from sklearn.feature_extraction.text import TfidfVectorizer\n",
    "import pandas as pd\n",
    "import torch\n",
    "from transformers import AutoTokenizer, AutoModel\n",
    "\n",
    "# Load features and sample as before...\n",
    "df = pd.read_csv(\"tweets_bundestag_features.csv\", encoding=\"utf-8-sig\")\n",
    "min_tweet_count = 1000\n",
    "df = df[df[\"partei\"].map(df[\"partei\"].value_counts()) >= min_tweet_count]\n",
    "df = df.dropna(subset=[\"text\"])\n",
    "sample_per_party = 1000\n",
    "df_sample = (\n",
    "    df.groupby('partei', group_keys=False)\n",
    "    .apply(lambda x: x.sample(n=min(len(x), sample_per_party), random_state=42))\n",
    "    .reset_index(drop=True)\n",
    ")\n",
    "\n",
    "print(f\"Number of tweets used: {len(df_sample)}\")\n",
    "\n",
    "# TF-IDF \n",
    "vectorizer = TfidfVectorizer(max_features=5000)\n",
    "X_tfidf = vectorizer.fit_transform(df_sample[\"text\"])\n",
    "\n",
    "# BERT \n",
    "tokenizer = AutoTokenizer.from_pretrained(\"bert-base-german-cased\")\n",
    "model = AutoModel.from_pretrained(\"bert-base-german-cased\")\n",
    "model.eval()\n",
    "\n",
    "def embed_texts(texts, max_len=64):\n",
    "    embeddings = []\n",
    "    with torch.no_grad():\n",
    "        for text in texts:\n",
    "            encoded = tokenizer(text, truncation=True, padding=\"max_length\", max_length=max_len, return_tensors=\"pt\")\n",
    "            output = model(**encoded)\n",
    "            cls_emb = output.last_hidden_state[:, 0, :].squeeze().numpy()\n",
    "            embeddings.append(cls_emb)\n",
    "    return np.array(embeddings)\n",
    "\n",
    "print(\"Calculating BERT embeddings (this may take several minutes)...\")\n",
    "X_bert = embed_texts(df_sample[\"text\"].tolist())\n",
    "\n",
    "# Engineered features\n",
    "feature_cols = [\n",
    "    \"tweet_length_chars\", \"tweet_length_words\", \"avg_word_length\", \"uppercase_ratio\",\n",
    "    \"exclamations\", \"questions\", \"multi_punct_count\", \"political_term_count\",\n",
    "    \"num_emojis\", \"num_hashtags\", \"num_mentions\", \"num_urls\", \"dots\", \"is_retweet\"\n",
    "]\n",
    "scaler = StandardScaler()\n",
    "X_eng = scaler.fit_transform(df_sample[feature_cols])\n",
    "\n",
    "# Combine all features \n",
    "X_all = np.hstack([X_tfidf.toarray(), X_bert, X_eng])\n",
    "y = df_sample[\"partei\"]\n",
    "\n",
    "X_train, X_test, y_train, y_test = train_test_split(\n",
    "    X_all, y, test_size=0.2, stratify=y, random_state=42\n",
    ")\n",
    "\n",
    "# Initialize and train LinearSVC\n",
    "svc_clf = LinearSVC(max_iter=10000, random_state=42)\n",
    "svc_clf.fit(X_train, y_train)\n",
    "\n",
    "y_pred_svc = svc_clf.predict(X_test)\n",
    "print(classification_report(y_test, y_pred_svc, digits=3))\n"
   ]
  },
  {
   "cell_type": "markdown",
   "id": "77b8211e",
   "metadata": {},
   "source": [
    "## **13. Klassifikation mit TF-IDF, BERT und Feature Engineering (XGBoost)**\n"
   ]
  },
  {
   "cell_type": "code",
   "execution_count": 2,
   "id": "23c1d98a",
   "metadata": {},
   "outputs": [
    {
     "name": "stderr",
     "output_type": "stream",
     "text": [
      "c:\\Users\\HEHEHE\\anaconda3\\envs\\hf-fresh\\lib\\site-packages\\tqdm\\auto.py:21: TqdmWarning: IProgress not found. Please update jupyter and ipywidgets. See https://ipywidgets.readthedocs.io/en/stable/user_install.html\n",
      "  from .autonotebook import tqdm as notebook_tqdm\n",
      "C:\\Users\\HEHEHE\\AppData\\Local\\Temp\\ipykernel_14288\\3436900608.py:19: FutureWarning: DataFrameGroupBy.apply operated on the grouping columns. This behavior is deprecated, and in a future version of pandas the grouping columns will be excluded from the operation. Either pass `include_groups=False` to exclude the groupings or explicitly select the grouping columns after groupby to silence this warning.\n",
      "  .apply(lambda x: x.sample(n=min(len(x), sample_per_party), random_state=42))\n"
     ]
    },
    {
     "name": "stdout",
     "output_type": "stream",
     "text": [
      "Number of tweets used: 8000\n",
      "Calculating BERT embeddings (this may take several minutes)...\n",
      "                       precision    recall  f1-score   support\n",
      "\n",
      "                  AfD      0.491     0.570     0.528       200\n",
      "Bündnis 90/Die Grünen      0.277     0.270     0.273       200\n",
      "                  CDU      0.279     0.275     0.277       200\n",
      "                  CSU      0.379     0.385     0.382       200\n",
      "            Die Linke      0.322     0.295     0.308       200\n",
      "                  FDP      0.474     0.410     0.440       200\n",
      "         Fraktionslos      0.313     0.385     0.345       200\n",
      "                  SPD      0.228     0.195     0.210       200\n",
      "\n",
      "             accuracy                          0.348      1600\n",
      "            macro avg      0.346     0.348     0.345      1600\n",
      "         weighted avg      0.346     0.348     0.345      1600\n",
      "\n"
     ]
    }
   ],
   "source": [
    "import numpy as np\n",
    "import xgboost as xgb\n",
    "from sklearn.model_selection import train_test_split\n",
    "from sklearn.metrics import classification_report\n",
    "from sklearn.preprocessing import StandardScaler, LabelEncoder\n",
    "from sklearn.feature_extraction.text import TfidfVectorizer\n",
    "import pandas as pd\n",
    "import torch\n",
    "from transformers import AutoTokenizer, AutoModel\n",
    "\n",
    "# Load features and sample as before...\n",
    "df = pd.read_csv(\"tweets_bundestag_features.csv\", encoding=\"utf-8-sig\")\n",
    "min_tweet_count = 1000\n",
    "df = df[df[\"partei\"].map(df[\"partei\"].value_counts()) >= min_tweet_count]\n",
    "df = df.dropna(subset=[\"text\"])\n",
    "sample_per_party = 1000\n",
    "df_sample = (\n",
    "    df.groupby('partei', group_keys=False)\n",
    "    .apply(lambda x: x.sample(n=min(len(x), sample_per_party), random_state=42))\n",
    "    .reset_index(drop=True)\n",
    ")\n",
    "\n",
    "print(f\"Number of tweets used: {len(df_sample)}\")\n",
    "\n",
    "# Label-Encoding \n",
    "label_encoder = LabelEncoder()\n",
    "df_sample[\"label\"] = label_encoder.fit_transform(df_sample[\"partei\"])\n",
    "\n",
    "# TF-IDF \n",
    "vectorizer = TfidfVectorizer(max_features=3000)\n",
    "X_tfidf = vectorizer.fit_transform(df_sample[\"text\"])\n",
    "\n",
    "# BERT \n",
    "tokenizer = AutoTokenizer.from_pretrained(\"bert-base-german-cased\")\n",
    "model = AutoModel.from_pretrained(\"bert-base-german-cased\")\n",
    "model.eval()\n",
    "\n",
    "def embed_texts(texts, max_len=64):\n",
    "    embeddings = []\n",
    "    with torch.no_grad():\n",
    "        for text in texts:\n",
    "            encoded = tokenizer(text, truncation=True, padding=\"max_length\", max_length=max_len, return_tensors=\"pt\")\n",
    "            output = model(**encoded)\n",
    "            cls_emb = output.last_hidden_state[:, 0, :].squeeze().numpy()\n",
    "            embeddings.append(cls_emb)\n",
    "    return np.array(embeddings)\n",
    "\n",
    "print(\"Calculating BERT embeddings (this may take several minutes)...\")\n",
    "X_bert = embed_texts(df_sample[\"text\"].tolist())\n",
    "\n",
    "# Engineered features\n",
    "feature_cols = [\n",
    "    \"tweet_length_chars\", \"tweet_length_words\", \"avg_word_length\", \"uppercase_ratio\",\n",
    "    \"exclamations\", \"questions\", \"multi_punct_count\", \"political_term_count\",\n",
    "    \"num_emojis\", \"num_hashtags\", \"num_mentions\", \"num_urls\", \"dots\", \"is_retweet\"\n",
    "]\n",
    "scaler = StandardScaler()\n",
    "X_eng = scaler.fit_transform(df_sample[feature_cols])\n",
    "\n",
    "# Combine all features \n",
    "X_all = np.hstack([X_tfidf.toarray(), X_bert, X_eng])\n",
    "y = df_sample[\"label\"]\n",
    "\n",
    "X_train, X_test, y_train, y_test = train_test_split(\n",
    "    X_all, y, test_size=0.2, stratify=y, random_state=42\n",
    ")\n",
    "\n",
    "# Train XGBoost classifier\n",
    "xgb_clf = xgb.XGBClassifier(\n",
    "    objective=\"multi:softmax\",\n",
    "    num_class=len(np.unique(y)),\n",
    "    eval_metric=\"mlogloss\",\n",
    "    n_estimators=100,\n",
    "    max_depth=6,\n",
    "    learning_rate=0.1,\n",
    "    random_state=42,\n",
    "    n_jobs=-1\n",
    ")\n",
    "\n",
    "xgb_clf.fit(X_train, y_train)\n",
    "\n",
    "y_pred_xgb = xgb_clf.predict(X_test)\n",
    "y_test_labels = label_encoder.inverse_transform(y_test)\n",
    "y_pred_labels = label_encoder.inverse_transform(y_pred_xgb)\n",
    "print(classification_report(y_test_labels, y_pred_labels, digits=3))"
   ]
  },
  {
   "cell_type": "code",
   "execution_count": 1,
   "id": "1ea70922",
   "metadata": {},
   "outputs": [
    {
     "data": {
      "image/png": "[encoded data removed]",
      "text/plain": [
       "<Figure size 1400x800 with 1 Axes>"
      ]
     },
     "metadata": {},
     "output_type": "display_data"
    },
    {
     "data": {
      "image/png": "[encoded data removed]",
      "text/plain": [
       "<Figure size 1000x800 with 2 Axes>"
      ]
     },
     "metadata": {},
     "output_type": "display_data"
    },
    {
     "data": {
      "image/png": "[encoded data removed]",
      "text/plain": [
       "<Figure size 1200x800 with 1 Axes>"
      ]
     },
     "metadata": {},
     "output_type": "display_data"
    },
    {
     "name": "stdout",
     "output_type": "stream",
     "text": [
      "================================================================================\n",
      "XGBoost (TF-IDF + BERT + Features) - DETAILLIERTE ERGEBNISSE\n",
      "================================================================================\n",
      "Partei                    Precision  Recall     F1-Score   Support \n",
      "--------------------------------------------------------------------------------\n",
      "AfD                       0.491      0.570      0.528      200     \n",
      "Bündnis 90/Die Grünen     0.277      0.270      0.273      200     \n",
      "CDU                       0.279      0.275      0.277      200     \n",
      "CSU                       0.379      0.385      0.382      200     \n",
      "Die Linke                 0.322      0.295      0.308      200     \n",
      "FDP                       0.474      0.410      0.440      200     \n",
      "Fraktionslos              0.313      0.385      0.345      200     \n",
      "SPD                       0.228      0.195      0.210      200     \n",
      "--------------------------------------------------------------------------------\n",
      "Overall Accuracy          0.348     \n",
      "Macro Avg                 0.346      0.348      0.345     \n",
      "Weighted Avg              0.346      0.348      0.345     \n",
      "\n",
      "================================================================================\n",
      "BESTE vs. SCHLECHTESTE PERFORMANCE:\n",
      "================================================================================\n",
      "Beste F1-Score:       AfD (0.528)\n",
      "Schlechteste F1-Score: SPD (0.210)\n",
      "Differenz:             0.318\n"
     ]
    },
    {
     "data": {
      "text/plain": [
       "<Figure size 1000x800 with 0 Axes>"
      ]
     },
     "metadata": {},
     "output_type": "display_data"
    },
    {
     "data": {
      "image/png": "[encoded data removed]",
      "text/plain": [
       "<Figure size 1400x800 with 1 Axes>"
      ]
     },
     "metadata": {},
     "output_type": "display_data"
    }
   ],
   "source": [
    "import matplotlib.pyplot as plt\n",
    "import numpy as np\n",
    "import pandas as pd\n",
    "import seaborn as sns\n",
    "\n",
    "# XGBoost Ergebnisse aus Teil 13 (TF-IDF + BERT + Features)\n",
    "parties = ['AfD', 'Bündnis 90/Die Grünen', 'CDU', 'CSU', 'Die Linke', 'FDP', 'Fraktionslos', 'SPD']\n",
    "precision = [0.491, 0.277, 0.279, 0.379, 0.322, 0.474, 0.313, 0.228]\n",
    "recall = [0.570, 0.270, 0.275, 0.385, 0.295, 0.410, 0.385, 0.195]\n",
    "f1_score = [0.528, 0.273, 0.277, 0.382, 0.308, 0.440, 0.345, 0.210]\n",
    "support = [200] * 8  # Alle Parteien haben 200 Test-Samples\n",
    "\n",
    "# Gesamtaccuracy\n",
    "overall_accuracy = 0.348\n",
    "macro_avg = {'precision': 0.346, 'recall': 0.348, 'f1': 0.345}\n",
    "weighted_avg = {'precision': 0.346, 'recall': 0.348, 'f1': 0.345}\n",
    "\n",
    "# 1. Balkendiagramm mit allen Metriken pro Partei\n",
    "fig, ax = plt.subplots(figsize=(14, 8))\n",
    "\n",
    "x = np.arange(len(parties))\n",
    "width = 0.25\n",
    "\n",
    "bars1 = ax.bar(x - width, precision, width, label='Precision', color='#1f77b4', alpha=0.8)\n",
    "bars2 = ax.bar(x, recall, width, label='Recall', color='#ff7f0e', alpha=0.8)\n",
    "bars3 = ax.bar(x + width, f1_score, width, label='F1-Score', color='#2ca02c', alpha=0.8)\n",
    "\n",
    "# Werte auf den Balken hinzufügen\n",
    "def add_value_labels(bars, values):\n",
    "    for bar, value in zip(bars, values):\n",
    "        height = bar.get_height()\n",
    "        ax.text(bar.get_x() + bar.get_width()/2., height + 0.01,\n",
    "                f'{value:.3f}', ha='center', va='bottom', fontsize=9, fontweight='bold')\n",
    "\n",
    "add_value_labels(bars1, precision)\n",
    "add_value_labels(bars2, recall)\n",
    "add_value_labels(bars3, f1_score)\n",
    "\n",
    "ax.set_xlabel('Parteien', fontsize=12, fontweight='bold')\n",
    "ax.set_ylabel('Score', fontsize=12, fontweight='bold')\n",
    "ax.set_title('XGBoost (TF-IDF + BERT + Features): Precision, Recall & F1-Score pro Partei', \n",
    "             fontsize=14, fontweight='bold', pad=20)\n",
    "ax.set_xticks(x)\n",
    "ax.set_xticklabels(parties, rotation=45, ha='right')\n",
    "ax.legend(fontsize=11)\n",
    "ax.grid(axis='y', alpha=0.3, linestyle='--')\n",
    "ax.set_ylim(0, 0.7)\n",
    "\n",
    "# Gesamtaccuracy als horizontale Linie\n",
    "ax.axhline(y=overall_accuracy, color='red', linestyle='--', alpha=0.7, \n",
    "           label=f'Overall Accuracy: {overall_accuracy:.3f}')\n",
    "ax.legend(fontsize=11)\n",
    "\n",
    "plt.tight_layout()\n",
    "plt.show()\n",
    "\n",
    "# 2. Heatmap für bessere Visualisierung\n",
    "metrics_data = {\n",
    "    'Precision': precision,\n",
    "    'Recall': recall,\n",
    "    'F1-Score': f1_score\n",
    "}\n",
    "\n",
    "df_metrics = pd.DataFrame(metrics_data, index=parties)\n",
    "\n",
    "plt.figure(figsize=(10, 8))\n",
    "sns.heatmap(df_metrics.T, annot=True, cmap='RdYlBu_r', center=0.35, \n",
    "            fmt='.3f', cbar_kws={'label': 'Score'}, linewidths=0.5)\n",
    "plt.title('XGBoost Performance Heatmap: Alle Metriken pro Partei', \n",
    "          fontsize=14, fontweight='bold', pad=20)\n",
    "plt.xlabel('Parteien', fontsize=12, fontweight='bold')\n",
    "plt.ylabel('Metriken', fontsize=12, fontweight='bold')\n",
    "plt.xticks(rotation=45, ha='right')\n",
    "plt.tight_layout()\n",
    "plt.show()\n",
    "\n",
    "# 3. Ranking der Parteien nach F1-Score\n",
    "party_performance = list(zip(parties, f1_score))\n",
    "party_performance_sorted = sorted(party_performance, key=lambda x: x[1], reverse=True)\n",
    "\n",
    "fig, ax = plt.subplots(figsize=(12, 8))\n",
    "parties_sorted, f1_sorted = zip(*party_performance_sorted)\n",
    "\n",
    "colors = plt.cm.RdYlGn([f1/max(f1_score) for f1 in f1_sorted])\n",
    "bars = ax.barh(range(len(parties_sorted)), f1_sorted, color=colors, alpha=0.8)\n",
    "\n",
    "# Werte rechts neben den Balken\n",
    "for i, (party, f1) in enumerate(party_performance_sorted):\n",
    "    ax.text(f1 + 0.01, i, f'{f1:.3f}', va='center', ha='left', fontweight='bold')\n",
    "\n",
    "ax.set_yticks(range(len(parties_sorted)))\n",
    "ax.set_yticklabels(parties_sorted)\n",
    "ax.set_xlabel('F1-Score', fontsize=12, fontweight='bold')\n",
    "ax.set_title('XGBoost: Partei-Ranking nach F1-Score', fontsize=14, fontweight='bold', pad=20)\n",
    "ax.grid(axis='x', alpha=0.3, linestyle='--')\n",
    "\n",
    "plt.tight_layout()\n",
    "plt.show()\n",
    "\n",
    "# 4. Zusammenfassung Tabelle\n",
    "print(\"=\" * 80)\n",
    "print(\"XGBoost (TF-IDF + BERT + Features) - DETAILLIERTE ERGEBNISSE\")\n",
    "print(\"=\" * 80)\n",
    "print(f\"{'Partei':<25} {'Precision':<10} {'Recall':<10} {'F1-Score':<10} {'Support':<8}\")\n",
    "print(\"-\" * 80)\n",
    "\n",
    "for i, party in enumerate(parties):\n",
    "    print(f\"{party:<25} {precision[i]:<10.3f} {recall[i]:<10.3f} {f1_score[i]:<10.3f} {support[i]:<8}\")\n",
    "\n",
    "print(\"-\" * 80)\n",
    "print(f\"{'Overall Accuracy':<25} {overall_accuracy:<10.3f}\")\n",
    "print(f\"{'Macro Avg':<25} {macro_avg['precision']:<10.3f} {macro_avg['recall']:<10.3f} {macro_avg['f1']:<10.3f}\")\n",
    "print(f\"{'Weighted Avg':<25} {weighted_avg['precision']:<10.3f} {weighted_avg['recall']:<10.3f} {weighted_avg['f1']:<10.3f}\")\n",
    "\n",
    "print(\"\\n\" + \"=\" * 80)\n",
    "print(\"BESTE vs. SCHLECHTESTE PERFORMANCE:\")\n",
    "print(\"=\" * 80)\n",
    "print(f\"Beste F1-Score:       {party_performance_sorted[0][0]} ({party_performance_sorted[0][1]:.3f})\")\n",
    "print(f\"Schlechteste F1-Score: {party_performance_sorted[-1][0]} ({party_performance_sorted[-1][1]:.3f})\")\n",
    "print(f\"Differenz:             {party_performance_sorted[0][1] - party_performance_sorted[-1][1]:.3f}\")\n",
    "\n",
    "# 5. Confusion Matrix Simulation (basierend auf den gegebenen Werten)\n",
    "# Berechnung der Confusion Matrix-Werte basierend auf Precision, Recall und Support\n",
    "plt.figure(figsize=(10, 8))\n",
    "\n",
    "# Berechne True Positives, False Positives, False Negatives\n",
    "tp = [recall[i] * support[i] for i in range(len(parties))]\n",
    "fp = [tp[i]/precision[i] - tp[i] if precision[i] > 0 else 0 for i in range(len(parties))]\n",
    "fn = [support[i] - tp[i] for i in range(len(parties))]\n",
    "\n",
    "# Erstelle ein einfaches Diagramm der TP, FP, FN pro Partei\n",
    "x = np.arange(len(parties))\n",
    "width = 0.25\n",
    "\n",
    "fig, ax = plt.subplots(figsize=(14, 8))\n",
    "bars1 = ax.bar(x - width, tp, width, label='True Positives', color='green', alpha=0.7)\n",
    "bars2 = ax.bar(x, fp, width, label='False Positives', color='orange', alpha=0.7)\n",
    "bars3 = ax.bar(x + width, fn, width, label='False Negatives', color='red', alpha=0.7)\n",
    "\n",
    "ax.set_xlabel('Parteien', fontsize=12, fontweight='bold')\n",
    "ax.set_ylabel('Anzahl Vorhersagen', fontsize=12, fontweight='bold')\n",
    "ax.set_title('XGBoost: True/False Positives & False Negatives pro Partei', \n",
    "             fontsize=14, fontweight='bold', pad=20)\n",
    "ax.set_xticks(x)\n",
    "ax.set_xticklabels(parties, rotation=45, ha='right')\n",
    "ax.legend()\n",
    "ax.grid(axis='y', alpha=0.3, linestyle='--')\n",
    "\n",
    "plt.tight_layout()\n",
    "plt.show()"
   ]
  },
  {
   "cell_type": "code",
   "execution_count": 3,
   "id": "80a7303e",
   "metadata": {},
   "outputs": [
    {
     "name": "stdout",
     "output_type": "stream",
     "text": [
      "XGBoost-Modell und Komponenten gespeichert!\n"
     ]
    }
   ],
   "source": [
    "import joblib\n",
    "\n",
    "# Speichern Sie die Modell-Komponenten:\n",
    "joblib.dump(xgb_clf, \"xgb_model_combined.joblib\")\n",
    "joblib.dump(vectorizer, \"tfidf_vectorizer_combined.joblib\") \n",
    "joblib.dump(scaler, \"scaler_combined.joblib\")\n",
    "joblib.dump(label_encoder, \"label_encoder_combined.joblib\")\n",
    "\n",
    "print(\"XGBoost-Modell und Komponenten gespeichert!\")"
   ]
  },
  {
   "cell_type": "markdown",
   "id": "07f27dda",
   "metadata": {},
   "source": [
    "## **14. Klassifikation mit BERT Fine-Tuning**\n"
   ]
  },
  {
   "cell_type": "code",
   "execution_count": null,
   "id": "047ad9da",
   "metadata": {},
   "outputs": [
    {
     "name": "stderr",
     "output_type": "stream",
     "text": [
      "c:\\Users\\HEHEHE\\anaconda3\\envs\\hf-fresh\\lib\\site-packages\\tqdm\\auto.py:21: TqdmWarning: IProgress not found. Please update jupyter and ipywidgets. See https://ipywidgets.readthedocs.io/en/stable/user_install.html\n",
      "  from .autonotebook import tqdm as notebook_tqdm\n",
      "C:\\Users\\HEHEHE\\AppData\\Local\\Temp\\ipykernel_15040\\2288613593.py:18: FutureWarning: DataFrameGroupBy.apply operated on the grouping columns. This behavior is deprecated, and in a future version of pandas the grouping columns will be excluded from the operation. Either pass `include_groups=False` to exclude the groupings or explicitly select the grouping columns after groupby to silence this warning.\n",
      "  .apply(lambda x: x.sample(n=min(len(x), sample_per_party), random_state=42))\n",
      "c:\\Users\\HEHEHE\\anaconda3\\envs\\hf-fresh\\lib\\site-packages\\huggingface_hub\\file_download.py:943: FutureWarning: `resume_download` is deprecated and will be removed in version 1.0.0. Downloads always resume when possible. If you want to force a new download, use `force_download=True`.\n",
      "  warnings.warn(\n"
     ]
    },
    {
     "name": "stdout",
     "output_type": "stream",
     "text": [
      "Number of tweets used: 8000\n"
     ]
    },
    {
     "name": "stderr",
     "output_type": "stream",
     "text": [
      "Some weights of BertForSequenceClassification were not initialized from the model checkpoint at bert-base-german-cased and are newly initialized: ['classifier.bias', 'classifier.weight']\n",
      "You should probably TRAIN this model on a down-stream task to be able to use it for predictions and inference.\n",
      "Map: 100%|██████████| 6400/6400 [00:03<00:00, 1647.37 examples/s]\n",
      "Map: 100%|██████████| 1600/1600 [00:00<00:00, 1742.63 examples/s]\n",
      "  0%|          | 0/2400 [00:00<?, ?it/s]c:\\Users\\HEHEHE\\anaconda3\\envs\\hf-fresh\\lib\\site-packages\\torch\\utils\\data\\dataloader.py:665: UserWarning: 'pin_memory' argument is set as true but no accelerator is found, then device pinned memory won't be used.\n",
      "  warnings.warn(warn_msg)\n",
      "  0%|          | 10/2400 [00:29<1:52:09,  2.82s/it]"
     ]
    },
    {
     "name": "stdout",
     "output_type": "stream",
     "text": [
      "{'loss': 2.0924, 'grad_norm': 8.350713729858398, 'learning_rate': 1.991666666666667e-05, 'epoch': 0.01}\n"
     ]
    },
    {
     "name": "stderr",
     "output_type": "stream",
     "text": [
      "  1%|          | 20/2400 [00:53<1:30:42,  2.29s/it]"
     ]
    },
    {
     "name": "stdout",
     "output_type": "stream",
     "text": [
      "{'loss': 2.0914, 'grad_norm': 7.881750583648682, 'learning_rate': 1.9833333333333335e-05, 'epoch': 0.03}\n"
     ]
    },
    {
     "name": "stderr",
     "output_type": "stream",
     "text": [
      "  1%|▏         | 30/2400 [01:20<1:53:48,  2.88s/it]"
     ]
    },
    {
     "name": "stdout",
     "output_type": "stream",
     "text": [
      "{'loss': 2.0913, 'grad_norm': 6.843562602996826, 'learning_rate': 1.9750000000000002e-05, 'epoch': 0.04}\n"
     ]
    },
    {
     "name": "stderr",
     "output_type": "stream",
     "text": [
      "  2%|▏         | 40/2400 [01:45<1:31:27,  2.33s/it]"
     ]
    },
    {
     "name": "stdout",
     "output_type": "stream",
     "text": [
      "{'loss': 2.0914, 'grad_norm': 8.255105972290039, 'learning_rate': 1.9666666666666666e-05, 'epoch': 0.05}\n"
     ]
    },
    {
     "name": "stderr",
     "output_type": "stream",
     "text": [
      "  2%|▏         | 50/2400 [02:10<1:38:14,  2.51s/it]"
     ]
    },
    {
     "name": "stdout",
     "output_type": "stream",
     "text": [
      "{'loss': 2.0831, 'grad_norm': 12.03885555267334, 'learning_rate': 1.9583333333333333e-05, 'epoch': 0.06}\n"
     ]
    },
    {
     "name": "stderr",
     "output_type": "stream",
     "text": [
      "  2%|▎         | 60/2400 [02:40<1:52:46,  2.89s/it]"
     ]
    },
    {
     "name": "stdout",
     "output_type": "stream",
     "text": [
      "{'loss': 2.1062, 'grad_norm': 5.906978607177734, 'learning_rate': 1.95e-05, 'epoch': 0.07}\n"
     ]
    },
    {
     "name": "stderr",
     "output_type": "stream",
     "text": [
      "  3%|▎         | 70/2400 [03:06<1:47:38,  2.77s/it]"
     ]
    },
    {
     "name": "stdout",
     "output_type": "stream",
     "text": [
      "{'loss': 2.0535, 'grad_norm': 8.258084297180176, 'learning_rate': 1.9416666666666667e-05, 'epoch': 0.09}\n"
     ]
    },
    {
     "name": "stderr",
     "output_type": "stream",
     "text": [
      "  3%|▎         | 80/2400 [03:30<1:37:15,  2.52s/it]"
     ]
    },
    {
     "name": "stdout",
     "output_type": "stream",
     "text": [
      "{'loss': 2.0316, 'grad_norm': 8.843032836914062, 'learning_rate': 1.9333333333333333e-05, 'epoch': 0.1}\n"
     ]
    },
    {
     "name": "stderr",
     "output_type": "stream",
     "text": [
      "  4%|▍         | 90/2400 [03:54<1:24:56,  2.21s/it]"
     ]
    },
    {
     "name": "stdout",
     "output_type": "stream",
     "text": [
      "{'loss': 1.9255, 'grad_norm': 8.984526634216309, 'learning_rate': 1.925e-05, 'epoch': 0.11}\n"
     ]
    },
    {
     "name": "stderr",
     "output_type": "stream",
     "text": [
      "  4%|▍         | 100/2400 [04:20<1:54:28,  2.99s/it]"
     ]
    },
    {
     "name": "stdout",
     "output_type": "stream",
     "text": [
      "{'loss': 1.9894, 'grad_norm': 8.093070030212402, 'learning_rate': 1.916666666666667e-05, 'epoch': 0.12}\n"
     ]
    },
    {
     "name": "stderr",
     "output_type": "stream",
     "text": [
      "  5%|▍         | 110/2400 [04:47<1:44:45,  2.74s/it]"
     ]
    },
    {
     "name": "stdout",
     "output_type": "stream",
     "text": [
      "{'loss': 1.9229, 'grad_norm': 9.531656265258789, 'learning_rate': 1.9083333333333338e-05, 'epoch': 0.14}\n"
     ]
    },
    {
     "name": "stderr",
     "output_type": "stream",
     "text": [
      "  5%|▌         | 120/2400 [05:14<1:38:36,  2.60s/it]"
     ]
    },
    {
     "name": "stdout",
     "output_type": "stream",
     "text": [
      "{'loss': 2.065, 'grad_norm': 9.476533889770508, 'learning_rate': 1.9e-05, 'epoch': 0.15}\n"
     ]
    },
    {
     "name": "stderr",
     "output_type": "stream",
     "text": [
      "  5%|▌         | 130/2400 [05:42<1:45:04,  2.78s/it]"
     ]
    },
    {
     "name": "stdout",
     "output_type": "stream",
     "text": [
      "{'loss': 1.9619, 'grad_norm': 10.495087623596191, 'learning_rate': 1.8916666666666668e-05, 'epoch': 0.16}\n"
     ]
    },
    {
     "name": "stderr",
     "output_type": "stream",
     "text": [
      "  6%|▌         | 140/2400 [06:09<1:35:06,  2.53s/it]"
     ]
    },
    {
     "name": "stdout",
     "output_type": "stream",
     "text": [
      "{'loss': 1.9384, 'grad_norm': 10.851954460144043, 'learning_rate': 1.8833333333333335e-05, 'epoch': 0.17}\n"
     ]
    },
    {
     "name": "stderr",
     "output_type": "stream",
     "text": [
      "  6%|▋         | 150/2400 [06:32<1:23:11,  2.22s/it]"
     ]
    },
    {
     "name": "stdout",
     "output_type": "stream",
     "text": [
      "{'loss': 2.0271, 'grad_norm': 9.131749153137207, 'learning_rate': 1.8750000000000002e-05, 'epoch': 0.19}\n"
     ]
    },
    {
     "name": "stderr",
     "output_type": "stream",
     "text": [
      "  7%|▋         | 160/2400 [06:57<1:35:40,  2.56s/it]"
     ]
    },
    {
     "name": "stdout",
     "output_type": "stream",
     "text": [
      "{'loss': 1.967, 'grad_norm': 8.894372940063477, 'learning_rate': 1.866666666666667e-05, 'epoch': 0.2}\n"
     ]
    },
    {
     "name": "stderr",
     "output_type": "stream",
     "text": [
      "  7%|▋         | 170/2400 [07:22<1:32:29,  2.49s/it]"
     ]
    },
    {
     "name": "stdout",
     "output_type": "stream",
     "text": [
      "{'loss': 1.9586, 'grad_norm': 8.505788803100586, 'learning_rate': 1.8583333333333336e-05, 'epoch': 0.21}\n"
     ]
    },
    {
     "name": "stderr",
     "output_type": "stream",
     "text": [
      "  8%|▊         | 180/2400 [07:47<1:31:25,  2.47s/it]"
     ]
    },
    {
     "name": "stdout",
     "output_type": "stream",
     "text": [
      "{'loss': 1.9706, 'grad_norm': 10.646028518676758, 'learning_rate': 1.8500000000000002e-05, 'epoch': 0.23}\n"
     ]
    },
    {
     "name": "stderr",
     "output_type": "stream",
     "text": [
      "  8%|▊         | 190/2400 [08:12<1:31:19,  2.48s/it]"
     ]
    },
    {
     "name": "stdout",
     "output_type": "stream",
     "text": [
      "{'loss': 1.8743, 'grad_norm': 8.514060974121094, 'learning_rate': 1.8416666666666666e-05, 'epoch': 0.24}\n"
     ]
    },
    {
     "name": "stderr",
     "output_type": "stream",
     "text": [
      "  8%|▊         | 200/2400 [08:35<1:21:33,  2.22s/it]"
     ]
    },
    {
     "name": "stdout",
     "output_type": "stream",
     "text": [
      "{'loss': 1.989, 'grad_norm': 7.239096641540527, 'learning_rate': 1.8333333333333333e-05, 'epoch': 0.25}\n"
     ]
    },
    {
     "name": "stderr",
     "output_type": "stream",
     "text": [
      "  9%|▉         | 210/2400 [09:01<1:30:54,  2.49s/it]"
     ]
    },
    {
     "name": "stdout",
     "output_type": "stream",
     "text": [
      "{'loss': 1.9372, 'grad_norm': 8.52074146270752, 'learning_rate': 1.825e-05, 'epoch': 0.26}\n"
     ]
    },
    {
     "name": "stderr",
     "output_type": "stream",
     "text": [
      "  9%|▉         | 220/2400 [09:26<1:31:16,  2.51s/it]"
     ]
    },
    {
     "name": "stdout",
     "output_type": "stream",
     "text": [
      "{'loss': 1.9854, 'grad_norm': 7.193432331085205, 'learning_rate': 1.8166666666666667e-05, 'epoch': 0.28}\n"
     ]
    },
    {
     "name": "stderr",
     "output_type": "stream",
     "text": [
      " 10%|▉         | 230/2400 [09:51<1:24:33,  2.34s/it]"
     ]
    },
    {
     "name": "stdout",
     "output_type": "stream",
     "text": [
      "{'loss': 1.9008, 'grad_norm': 11.008445739746094, 'learning_rate': 1.8083333333333334e-05, 'epoch': 0.29}\n"
     ]
    },
    {
     "name": "stderr",
     "output_type": "stream",
     "text": [
      " 10%|█         | 240/2400 [10:16<1:27:33,  2.43s/it]"
     ]
    },
    {
     "name": "stdout",
     "output_type": "stream",
     "text": [
      "{'loss': 1.9229, 'grad_norm': 7.651762962341309, 'learning_rate': 1.8e-05, 'epoch': 0.3}\n"
     ]
    },
    {
     "name": "stderr",
     "output_type": "stream",
     "text": [
      " 10%|█         | 250/2400 [10:42<1:31:54,  2.56s/it]"
     ]
    },
    {
     "name": "stdout",
     "output_type": "stream",
     "text": [
      "{'loss': 1.8948, 'grad_norm': 8.128543853759766, 'learning_rate': 1.7916666666666667e-05, 'epoch': 0.31}\n"
     ]
    },
    {
     "name": "stderr",
     "output_type": "stream",
     "text": [
      " 11%|█         | 260/2400 [11:07<1:27:40,  2.46s/it]"
     ]
    },
    {
     "name": "stdout",
     "output_type": "stream",
     "text": [
      "{'loss': 1.9265, 'grad_norm': 9.415719985961914, 'learning_rate': 1.7833333333333334e-05, 'epoch': 0.33}\n"
     ]
    },
    {
     "name": "stderr",
     "output_type": "stream",
     "text": [
      " 11%|█▏        | 270/2400 [11:33<1:36:18,  2.71s/it]"
     ]
    },
    {
     "name": "stdout",
     "output_type": "stream",
     "text": [
      "{'loss': 1.8687, 'grad_norm': 8.459992408752441, 'learning_rate': 1.775e-05, 'epoch': 0.34}\n"
     ]
    },
    {
     "name": "stderr",
     "output_type": "stream",
     "text": [
      " 12%|█▏        | 280/2400 [11:58<1:28:29,  2.50s/it]"
     ]
    },
    {
     "name": "stdout",
     "output_type": "stream",
     "text": [
      "{'loss': 2.0015, 'grad_norm': 11.470193862915039, 'learning_rate': 1.7666666666666668e-05, 'epoch': 0.35}\n"
     ]
    },
    {
     "name": "stderr",
     "output_type": "stream",
     "text": [
      " 12%|█▏        | 290/2400 [12:22<1:33:53,  2.67s/it]"
     ]
    },
    {
     "name": "stdout",
     "output_type": "stream",
     "text": [
      "{'loss': 1.9023, 'grad_norm': 13.73088264465332, 'learning_rate': 1.7583333333333335e-05, 'epoch': 0.36}\n"
     ]
    },
    {
     "name": "stderr",
     "output_type": "stream",
     "text": [
      " 12%|█▎        | 300/2400 [12:48<1:30:11,  2.58s/it]"
     ]
    },
    {
     "name": "stdout",
     "output_type": "stream",
     "text": [
      "{'loss': 1.9583, 'grad_norm': 9.369878768920898, 'learning_rate': 1.7500000000000002e-05, 'epoch': 0.38}\n"
     ]
    },
    {
     "name": "stderr",
     "output_type": "stream",
     "text": [
      " 13%|█▎        | 310/2400 [13:14<1:28:32,  2.54s/it]"
     ]
    },
    {
     "name": "stdout",
     "output_type": "stream",
     "text": [
      "{'loss': 1.7307, 'grad_norm': 8.098487854003906, 'learning_rate': 1.741666666666667e-05, 'epoch': 0.39}\n"
     ]
    },
    {
     "name": "stderr",
     "output_type": "stream",
     "text": [
      " 13%|█▎        | 320/2400 [13:39<1:25:29,  2.47s/it]"
     ]
    },
    {
     "name": "stdout",
     "output_type": "stream",
     "text": [
      "{'loss': 1.7925, 'grad_norm': 10.383824348449707, 'learning_rate': 1.7333333333333336e-05, 'epoch': 0.4}\n"
     ]
    },
    {
     "name": "stderr",
     "output_type": "stream",
     "text": [
      " 14%|█▍        | 330/2400 [14:03<1:25:22,  2.47s/it]"
     ]
    },
    {
     "name": "stdout",
     "output_type": "stream",
     "text": [
      "{'loss': 1.8456, 'grad_norm': 11.73619556427002, 'learning_rate': 1.7250000000000003e-05, 'epoch': 0.41}\n"
     ]
    },
    {
     "name": "stderr",
     "output_type": "stream",
     "text": [
      " 14%|█▍        | 340/2400 [14:27<1:23:27,  2.43s/it]"
     ]
    },
    {
     "name": "stdout",
     "output_type": "stream",
     "text": [
      "{'loss': 1.9948, 'grad_norm': 10.942867279052734, 'learning_rate': 1.7166666666666666e-05, 'epoch': 0.42}\n"
     ]
    },
    {
     "name": "stderr",
     "output_type": "stream",
     "text": [
      " 15%|█▍        | 350/2400 [14:50<1:18:06,  2.29s/it]"
     ]
    },
    {
     "name": "stdout",
     "output_type": "stream",
     "text": [
      "{'loss': 1.7789, 'grad_norm': 10.295965194702148, 'learning_rate': 1.7083333333333333e-05, 'epoch': 0.44}\n"
     ]
    },
    {
     "name": "stderr",
     "output_type": "stream",
     "text": [
      " 15%|█▌        | 360/2400 [15:18<1:33:42,  2.76s/it]"
     ]
    },
    {
     "name": "stdout",
     "output_type": "stream",
     "text": [
      "{'loss': 1.8384, 'grad_norm': 12.921257972717285, 'learning_rate': 1.7e-05, 'epoch': 0.45}\n"
     ]
    },
    {
     "name": "stderr",
     "output_type": "stream",
     "text": [
      " 15%|█▌        | 370/2400 [15:44<1:20:51,  2.39s/it]"
     ]
    },
    {
     "name": "stdout",
     "output_type": "stream",
     "text": [
      "{'loss': 1.8516, 'grad_norm': 9.37833023071289, 'learning_rate': 1.6916666666666667e-05, 'epoch': 0.46}\n"
     ]
    },
    {
     "name": "stderr",
     "output_type": "stream",
     "text": [
      " 16%|█▌        | 380/2400 [16:12<1:39:53,  2.97s/it]"
     ]
    },
    {
     "name": "stdout",
     "output_type": "stream",
     "text": [
      "{'loss': 1.9142, 'grad_norm': 9.37505054473877, 'learning_rate': 1.6833333333333334e-05, 'epoch': 0.47}\n"
     ]
    },
    {
     "name": "stderr",
     "output_type": "stream",
     "text": [
      " 16%|█▋        | 390/2400 [16:38<1:16:48,  2.29s/it]"
     ]
    },
    {
     "name": "stdout",
     "output_type": "stream",
     "text": [
      "{'loss': 1.9063, 'grad_norm': 14.349824905395508, 'learning_rate': 1.675e-05, 'epoch': 0.49}\n"
     ]
    },
    {
     "name": "stderr",
     "output_type": "stream",
     "text": [
      " 17%|█▋        | 400/2400 [17:02<1:22:13,  2.47s/it]"
     ]
    },
    {
     "name": "stdout",
     "output_type": "stream",
     "text": [
      "{'loss': 1.7944, 'grad_norm': 11.828536987304688, 'learning_rate': 1.6666666666666667e-05, 'epoch': 0.5}\n"
     ]
    },
    {
     "name": "stderr",
     "output_type": "stream",
     "text": [
      " 17%|█▋        | 410/2400 [17:30<1:29:08,  2.69s/it]"
     ]
    },
    {
     "name": "stdout",
     "output_type": "stream",
     "text": [
      "{'loss': 1.8544, 'grad_norm': 9.869861602783203, 'learning_rate': 1.6583333333333334e-05, 'epoch': 0.51}\n"
     ]
    },
    {
     "name": "stderr",
     "output_type": "stream",
     "text": [
      " 18%|█▊        | 420/2400 [17:57<1:30:18,  2.74s/it]"
     ]
    },
    {
     "name": "stdout",
     "output_type": "stream",
     "text": [
      "{'loss': 1.8942, 'grad_norm': 10.777247428894043, 'learning_rate': 1.65e-05, 'epoch': 0.53}\n"
     ]
    },
    {
     "name": "stderr",
     "output_type": "stream",
     "text": [
      " 18%|█▊        | 430/2400 [18:23<1:24:20,  2.57s/it]"
     ]
    },
    {
     "name": "stdout",
     "output_type": "stream",
     "text": [
      "{'loss': 1.8424, 'grad_norm': 11.898816108703613, 'learning_rate': 1.6416666666666668e-05, 'epoch': 0.54}\n"
     ]
    },
    {
     "name": "stderr",
     "output_type": "stream",
     "text": [
      " 18%|█▊        | 440/2400 [18:49<1:28:28,  2.71s/it]"
     ]
    },
    {
     "name": "stdout",
     "output_type": "stream",
     "text": [
      "{'loss': 1.8607, 'grad_norm': 9.69448471069336, 'learning_rate': 1.6333333333333335e-05, 'epoch': 0.55}\n"
     ]
    },
    {
     "name": "stderr",
     "output_type": "stream",
     "text": [
      " 19%|█▉        | 450/2400 [19:14<1:15:54,  2.34s/it]"
     ]
    },
    {
     "name": "stdout",
     "output_type": "stream",
     "text": [
      "{'loss': 1.8761, 'grad_norm': 10.297186851501465, 'learning_rate': 1.6250000000000002e-05, 'epoch': 0.56}\n"
     ]
    },
    {
     "name": "stderr",
     "output_type": "stream",
     "text": [
      " 19%|█▉        | 460/2400 [19:39<1:22:38,  2.56s/it]"
     ]
    },
    {
     "name": "stdout",
     "output_type": "stream",
     "text": [
      "{'loss': 2.0262, 'grad_norm': 9.897808074951172, 'learning_rate': 1.616666666666667e-05, 'epoch': 0.57}\n"
     ]
    },
    {
     "name": "stderr",
     "output_type": "stream",
     "text": [
      " 20%|█▉        | 470/2400 [20:10<2:01:07,  3.77s/it]"
     ]
    },
    {
     "name": "stdout",
     "output_type": "stream",
     "text": [
      "{'loss': 1.8635, 'grad_norm': 9.840559005737305, 'learning_rate': 1.6083333333333336e-05, 'epoch': 0.59}\n"
     ]
    },
    {
     "name": "stderr",
     "output_type": "stream",
     "text": [
      " 20%|██        | 480/2400 [20:41<1:45:30,  3.30s/it]"
     ]
    },
    {
     "name": "stdout",
     "output_type": "stream",
     "text": [
      "{'loss': 1.8952, 'grad_norm': 8.786773681640625, 'learning_rate': 1.6000000000000003e-05, 'epoch': 0.6}\n"
     ]
    },
    {
     "name": "stderr",
     "output_type": "stream",
     "text": [
      " 20%|██        | 490/2400 [21:08<1:18:38,  2.47s/it]"
     ]
    },
    {
     "name": "stdout",
     "output_type": "stream",
     "text": [
      "{'loss': 1.8402, 'grad_norm': 9.10578727722168, 'learning_rate': 1.5916666666666666e-05, 'epoch': 0.61}\n"
     ]
    },
    {
     "name": "stderr",
     "output_type": "stream",
     "text": [
      " 21%|██        | 500/2400 [21:34<1:28:35,  2.80s/it]"
     ]
    },
    {
     "name": "stdout",
     "output_type": "stream",
     "text": [
      "{'loss': 1.8793, 'grad_norm': 12.171138763427734, 'learning_rate': 1.5833333333333333e-05, 'epoch': 0.62}\n"
     ]
    },
    {
     "name": "stderr",
     "output_type": "stream",
     "text": [
      " 21%|██▏       | 510/2400 [21:57<1:16:16,  2.42s/it]"
     ]
    },
    {
     "name": "stdout",
     "output_type": "stream",
     "text": [
      "{'loss': 1.7541, 'grad_norm': 9.735100746154785, 'learning_rate': 1.575e-05, 'epoch': 0.64}\n"
     ]
    },
    {
     "name": "stderr",
     "output_type": "stream",
     "text": [
      " 22%|██▏       | 520/2400 [22:22<1:15:09,  2.40s/it]"
     ]
    },
    {
     "name": "stdout",
     "output_type": "stream",
     "text": [
      "{'loss': 1.9301, 'grad_norm': 8.795551300048828, 'learning_rate': 1.5666666666666667e-05, 'epoch': 0.65}\n"
     ]
    },
    {
     "name": "stderr",
     "output_type": "stream",
     "text": [
      " 22%|██▏       | 530/2400 [22:46<1:16:11,  2.44s/it]"
     ]
    },
    {
     "name": "stdout",
     "output_type": "stream",
     "text": [
      "{'loss': 1.8512, 'grad_norm': 8.842655181884766, 'learning_rate': 1.5583333333333334e-05, 'epoch': 0.66}\n"
     ]
    },
    {
     "name": "stderr",
     "output_type": "stream",
     "text": [
      " 22%|██▎       | 540/2400 [23:12<1:16:55,  2.48s/it]"
     ]
    },
    {
     "name": "stdout",
     "output_type": "stream",
     "text": [
      "{'loss': 1.9146, 'grad_norm': 11.722885131835938, 'learning_rate': 1.55e-05, 'epoch': 0.68}\n"
     ]
    },
    {
     "name": "stderr",
     "output_type": "stream",
     "text": [
      " 23%|██▎       | 550/2400 [23:36<1:15:04,  2.43s/it]"
     ]
    },
    {
     "name": "stdout",
     "output_type": "stream",
     "text": [
      "{'loss': 1.8895, 'grad_norm': 10.276792526245117, 'learning_rate': 1.5416666666666668e-05, 'epoch': 0.69}\n"
     ]
    },
    {
     "name": "stderr",
     "output_type": "stream",
     "text": [
      " 23%|██▎       | 560/2400 [24:00<1:11:43,  2.34s/it]"
     ]
    },
    {
     "name": "stdout",
     "output_type": "stream",
     "text": [
      "{'loss': 1.906, 'grad_norm': 12.088305473327637, 'learning_rate': 1.5333333333333334e-05, 'epoch': 0.7}\n"
     ]
    },
    {
     "name": "stderr",
     "output_type": "stream",
     "text": [
      " 24%|██▍       | 570/2400 [24:23<1:05:49,  2.16s/it]"
     ]
    },
    {
     "name": "stdout",
     "output_type": "stream",
     "text": [
      "{'loss': 1.8804, 'grad_norm': 10.379556655883789, 'learning_rate': 1.525e-05, 'epoch': 0.71}\n"
     ]
    },
    {
     "name": "stderr",
     "output_type": "stream",
     "text": [
      " 24%|██▍       | 580/2400 [24:49<1:19:38,  2.63s/it]"
     ]
    },
    {
     "name": "stdout",
     "output_type": "stream",
     "text": [
      "{'loss': 1.8609, 'grad_norm': 8.468949317932129, 'learning_rate': 1.5166666666666667e-05, 'epoch': 0.72}\n"
     ]
    },
    {
     "name": "stderr",
     "output_type": "stream",
     "text": [
      " 25%|██▍       | 590/2400 [25:15<1:14:37,  2.47s/it]"
     ]
    },
    {
     "name": "stdout",
     "output_type": "stream",
     "text": [
      "{'loss': 1.7178, 'grad_norm': 9.1732759475708, 'learning_rate': 1.5083333333333333e-05, 'epoch': 0.74}\n"
     ]
    },
    {
     "name": "stderr",
     "output_type": "stream",
     "text": [
      " 25%|██▌       | 600/2400 [25:41<1:17:38,  2.59s/it]"
     ]
    },
    {
     "name": "stdout",
     "output_type": "stream",
     "text": [
      "{'loss': 1.8008, 'grad_norm': 20.721378326416016, 'learning_rate': 1.5000000000000002e-05, 'epoch': 0.75}\n"
     ]
    },
    {
     "name": "stderr",
     "output_type": "stream",
     "text": [
      " 25%|██▌       | 610/2400 [26:06<1:11:04,  2.38s/it]"
     ]
    },
    {
     "name": "stdout",
     "output_type": "stream",
     "text": [
      "{'loss': 1.772, 'grad_norm': 12.82089900970459, 'learning_rate': 1.4916666666666669e-05, 'epoch': 0.76}\n"
     ]
    },
    {
     "name": "stderr",
     "output_type": "stream",
     "text": [
      " 26%|██▌       | 620/2400 [26:31<1:15:38,  2.55s/it]"
     ]
    },
    {
     "name": "stdout",
     "output_type": "stream",
     "text": [
      "{'loss': 1.8797, 'grad_norm': 12.419257164001465, 'learning_rate': 1.4833333333333336e-05, 'epoch': 0.78}\n"
     ]
    },
    {
     "name": "stderr",
     "output_type": "stream",
     "text": [
      " 26%|██▋       | 630/2400 [26:56<1:11:53,  2.44s/it]"
     ]
    },
    {
     "name": "stdout",
     "output_type": "stream",
     "text": [
      "{'loss': 1.9149, 'grad_norm': 14.120026588439941, 'learning_rate': 1.4750000000000003e-05, 'epoch': 0.79}\n"
     ]
    },
    {
     "name": "stderr",
     "output_type": "stream",
     "text": [
      " 27%|██▋       | 640/2400 [27:23<1:16:36,  2.61s/it]"
     ]
    },
    {
     "name": "stdout",
     "output_type": "stream",
     "text": [
      "{'loss': 1.7244, 'grad_norm': 10.985640525817871, 'learning_rate': 1.4666666666666666e-05, 'epoch': 0.8}\n"
     ]
    },
    {
     "name": "stderr",
     "output_type": "stream",
     "text": [
      " 27%|██▋       | 650/2400 [27:48<1:12:02,  2.47s/it]"
     ]
    },
    {
     "name": "stdout",
     "output_type": "stream",
     "text": [
      "{'loss': 1.8367, 'grad_norm': 10.001824378967285, 'learning_rate': 1.4583333333333333e-05, 'epoch': 0.81}\n"
     ]
    },
    {
     "name": "stderr",
     "output_type": "stream",
     "text": [
      " 28%|██▊       | 660/2400 [28:15<1:20:12,  2.77s/it]"
     ]
    },
    {
     "name": "stdout",
     "output_type": "stream",
     "text": [
      "{'loss': 1.8795, 'grad_norm': 10.567731857299805, 'learning_rate': 1.45e-05, 'epoch': 0.82}\n"
     ]
    },
    {
     "name": "stderr",
     "output_type": "stream",
     "text": [
      " 28%|██▊       | 670/2400 [28:40<1:12:08,  2.50s/it]"
     ]
    },
    {
     "name": "stdout",
     "output_type": "stream",
     "text": [
      "{'loss': 1.9033, 'grad_norm': 9.927452087402344, 'learning_rate': 1.4416666666666667e-05, 'epoch': 0.84}\n"
     ]
    },
    {
     "name": "stderr",
     "output_type": "stream",
     "text": [
      " 28%|██▊       | 680/2400 [29:09<1:44:24,  3.64s/it]"
     ]
    },
    {
     "name": "stdout",
     "output_type": "stream",
     "text": [
      "{'loss': 1.7699, 'grad_norm': 10.653829574584961, 'learning_rate': 1.4333333333333334e-05, 'epoch': 0.85}\n"
     ]
    },
    {
     "name": "stderr",
     "output_type": "stream",
     "text": [
      " 29%|██▉       | 690/2400 [29:34<1:10:26,  2.47s/it]"
     ]
    },
    {
     "name": "stdout",
     "output_type": "stream",
     "text": [
      "{'loss': 1.765, 'grad_norm': 9.977685928344727, 'learning_rate': 1.425e-05, 'epoch': 0.86}\n"
     ]
    },
    {
     "name": "stderr",
     "output_type": "stream",
     "text": [
      " 29%|██▉       | 700/2400 [29:58<1:10:26,  2.49s/it]"
     ]
    },
    {
     "name": "stdout",
     "output_type": "stream",
     "text": [
      "{'loss': 1.8079, 'grad_norm': 10.250344276428223, 'learning_rate': 1.416666666666667e-05, 'epoch': 0.88}\n"
     ]
    },
    {
     "name": "stderr",
     "output_type": "stream",
     "text": [
      " 30%|██▉       | 710/2400 [30:23<1:06:35,  2.36s/it]"
     ]
    },
    {
     "name": "stdout",
     "output_type": "stream",
     "text": [
      "{'loss': 1.8533, 'grad_norm': 10.262310981750488, 'learning_rate': 1.4083333333333336e-05, 'epoch': 0.89}\n"
     ]
    },
    {
     "name": "stderr",
     "output_type": "stream",
     "text": [
      " 30%|███       | 720/2400 [30:47<1:06:32,  2.38s/it]"
     ]
    },
    {
     "name": "stdout",
     "output_type": "stream",
     "text": [
      "{'loss': 1.8125, 'grad_norm': 11.422394752502441, 'learning_rate': 1.4e-05, 'epoch': 0.9}\n"
     ]
    },
    {
     "name": "stderr",
     "output_type": "stream",
     "text": [
      " 30%|███       | 730/2400 [31:11<1:08:00,  2.44s/it]"
     ]
    },
    {
     "name": "stdout",
     "output_type": "stream",
     "text": [
      "{'loss': 1.7338, 'grad_norm': 10.26927375793457, 'learning_rate': 1.3916666666666667e-05, 'epoch': 0.91}\n"
     ]
    },
    {
     "name": "stderr",
     "output_type": "stream",
     "text": [
      " 31%|███       | 740/2400 [31:34<58:30,  2.11s/it]  "
     ]
    },
    {
     "name": "stdout",
     "output_type": "stream",
     "text": [
      "{'loss': 1.7128, 'grad_norm': 10.187807083129883, 'learning_rate': 1.3833333333333334e-05, 'epoch': 0.93}\n"
     ]
    },
    {
     "name": "stderr",
     "output_type": "stream",
     "text": [
      " 31%|███▏      | 750/2400 [32:00<1:07:55,  2.47s/it]"
     ]
    },
    {
     "name": "stdout",
     "output_type": "stream",
     "text": [
      "{'loss': 1.8116, 'grad_norm': 10.47148609161377, 'learning_rate': 1.375e-05, 'epoch': 0.94}\n"
     ]
    },
    {
     "name": "stderr",
     "output_type": "stream",
     "text": [
      " 32%|███▏      | 760/2400 [32:24<1:05:31,  2.40s/it]"
     ]
    },
    {
     "name": "stdout",
     "output_type": "stream",
     "text": [
      "{'loss': 1.8646, 'grad_norm': 12.134384155273438, 'learning_rate': 1.3666666666666667e-05, 'epoch': 0.95}\n"
     ]
    },
    {
     "name": "stderr",
     "output_type": "stream",
     "text": [
      " 32%|███▏      | 770/2400 [32:48<1:04:40,  2.38s/it]"
     ]
    },
    {
     "name": "stdout",
     "output_type": "stream",
     "text": [
      "{'loss': 1.7886, 'grad_norm': 10.6884183883667, 'learning_rate': 1.3583333333333334e-05, 'epoch': 0.96}\n"
     ]
    },
    {
     "name": "stderr",
     "output_type": "stream",
     "text": [
      " 32%|███▎      | 780/2400 [33:13<1:08:04,  2.52s/it]"
     ]
    },
    {
     "name": "stdout",
     "output_type": "stream",
     "text": [
      "{'loss': 1.7649, 'grad_norm': 11.45004653930664, 'learning_rate': 1.3500000000000001e-05, 'epoch': 0.97}\n"
     ]
    },
    {
     "name": "stderr",
     "output_type": "stream",
     "text": [
      " 33%|███▎      | 790/2400 [33:36<1:07:39,  2.52s/it]"
     ]
    },
    {
     "name": "stdout",
     "output_type": "stream",
     "text": [
      "{'loss': 1.7555, 'grad_norm': 10.690589904785156, 'learning_rate': 1.3416666666666666e-05, 'epoch': 0.99}\n"
     ]
    },
    {
     "name": "stderr",
     "output_type": "stream",
     "text": [
      " 33%|███▎      | 800/2400 [34:01<1:02:58,  2.36s/it]"
     ]
    },
    {
     "name": "stdout",
     "output_type": "stream",
     "text": [
      "{'loss': 1.8264, 'grad_norm': 11.518694877624512, 'learning_rate': 1.3333333333333333e-05, 'epoch': 1.0}\n"
     ]
    },
    {
     "name": "stderr",
     "output_type": "stream",
     "text": [
      "                                                    \n",
      " 33%|███▎      | 800/2400 [35:42<1:02:58,  2.36s/it]"
     ]
    },
    {
     "name": "stdout",
     "output_type": "stream",
     "text": [
      "{'eval_loss': 1.7576913833618164, 'eval_runtime': 100.1813, 'eval_samples_per_second': 15.971, 'eval_steps_per_second': 1.996, 'epoch': 1.0}\n"
     ]
    },
    {
     "name": "stderr",
     "output_type": "stream",
     "text": [
      " 34%|███▍      | 810/2400 [36:07<1:38:23,  3.71s/it] "
     ]
    },
    {
     "name": "stdout",
     "output_type": "stream",
     "text": [
      "{'loss': 1.6201, 'grad_norm': 13.11844539642334, 'learning_rate': 1.325e-05, 'epoch': 1.01}\n"
     ]
    },
    {
     "name": "stderr",
     "output_type": "stream",
     "text": [
      " 34%|███▍      | 820/2400 [36:31<1:04:56,  2.47s/it]"
     ]
    },
    {
     "name": "stdout",
     "output_type": "stream",
     "text": [
      "{'loss': 1.6518, 'grad_norm': 13.063304901123047, 'learning_rate': 1.3166666666666667e-05, 'epoch': 1.02}\n"
     ]
    },
    {
     "name": "stderr",
     "output_type": "stream",
     "text": [
      " 35%|███▍      | 830/2400 [36:57<1:10:53,  2.71s/it]"
     ]
    },
    {
     "name": "stdout",
     "output_type": "stream",
     "text": [
      "{'loss': 1.7198, 'grad_norm': 11.816039085388184, 'learning_rate': 1.3083333333333334e-05, 'epoch': 1.04}\n"
     ]
    },
    {
     "name": "stderr",
     "output_type": "stream",
     "text": [
      " 35%|███▌      | 840/2400 [37:24<1:12:13,  2.78s/it]"
     ]
    },
    {
     "name": "stdout",
     "output_type": "stream",
     "text": [
      "{'loss': 1.5583, 'grad_norm': 9.835536003112793, 'learning_rate': 1.3000000000000001e-05, 'epoch': 1.05}\n"
     ]
    },
    {
     "name": "stderr",
     "output_type": "stream",
     "text": [
      " 35%|███▌      | 850/2400 [37:48<1:00:12,  2.33s/it]"
     ]
    },
    {
     "name": "stdout",
     "output_type": "stream",
     "text": [
      "{'loss': 1.693, 'grad_norm': 12.552860260009766, 'learning_rate': 1.2916666666666668e-05, 'epoch': 1.06}\n"
     ]
    },
    {
     "name": "stderr",
     "output_type": "stream",
     "text": [
      " 36%|███▌      | 860/2400 [38:14<1:03:33,  2.48s/it]"
     ]
    },
    {
     "name": "stdout",
     "output_type": "stream",
     "text": [
      "{'loss': 1.7137, 'grad_norm': 17.303852081298828, 'learning_rate': 1.2833333333333335e-05, 'epoch': 1.07}\n"
     ]
    },
    {
     "name": "stderr",
     "output_type": "stream",
     "text": [
      " 36%|███▋      | 870/2400 [38:42<1:09:04,  2.71s/it]"
     ]
    },
    {
     "name": "stdout",
     "output_type": "stream",
     "text": [
      "{'loss': 1.7075, 'grad_norm': 12.022406578063965, 'learning_rate': 1.275e-05, 'epoch': 1.09}\n"
     ]
    },
    {
     "name": "stderr",
     "output_type": "stream",
     "text": [
      " 37%|███▋      | 880/2400 [39:06<57:36,  2.27s/it]  "
     ]
    },
    {
     "name": "stdout",
     "output_type": "stream",
     "text": [
      "{'loss': 1.6343, 'grad_norm': 15.001123428344727, 'learning_rate': 1.2666666666666667e-05, 'epoch': 1.1}\n"
     ]
    },
    {
     "name": "stderr",
     "output_type": "stream",
     "text": [
      " 37%|███▋      | 890/2400 [39:31<1:02:39,  2.49s/it]"
     ]
    },
    {
     "name": "stdout",
     "output_type": "stream",
     "text": [
      "{'loss': 1.7173, 'grad_norm': 12.098132133483887, 'learning_rate': 1.2583333333333334e-05, 'epoch': 1.11}\n"
     ]
    },
    {
     "name": "stderr",
     "output_type": "stream",
     "text": [
      " 38%|███▊      | 900/2400 [39:58<1:02:01,  2.48s/it]"
     ]
    },
    {
     "name": "stdout",
     "output_type": "stream",
     "text": [
      "{'loss': 1.6548, 'grad_norm': 13.222574234008789, 'learning_rate': 1.25e-05, 'epoch': 1.12}\n"
     ]
    },
    {
     "name": "stderr",
     "output_type": "stream",
     "text": [
      " 38%|███▊      | 910/2400 [40:23<1:01:58,  2.50s/it]"
     ]
    },
    {
     "name": "stdout",
     "output_type": "stream",
     "text": [
      "{'loss': 1.3683, 'grad_norm': 10.722518920898438, 'learning_rate': 1.2416666666666667e-05, 'epoch': 1.14}\n"
     ]
    },
    {
     "name": "stderr",
     "output_type": "stream",
     "text": [
      " 38%|███▊      | 920/2400 [40:48<1:00:49,  2.47s/it]"
     ]
    },
    {
     "name": "stdout",
     "output_type": "stream",
     "text": [
      "{'loss': 1.4885, 'grad_norm': 12.803043365478516, 'learning_rate': 1.2333333333333334e-05, 'epoch': 1.15}\n"
     ]
    },
    {
     "name": "stderr",
     "output_type": "stream",
     "text": [
      " 39%|███▉      | 930/2400 [41:14<1:07:02,  2.74s/it]"
     ]
    },
    {
     "name": "stdout",
     "output_type": "stream",
     "text": [
      "{'loss': 1.6942, 'grad_norm': 11.307826042175293, 'learning_rate': 1.2250000000000001e-05, 'epoch': 1.16}\n"
     ]
    },
    {
     "name": "stderr",
     "output_type": "stream",
     "text": [
      " 39%|███▉      | 940/2400 [41:37<55:11,  2.27s/it]  "
     ]
    },
    {
     "name": "stdout",
     "output_type": "stream",
     "text": [
      "{'loss': 1.6242, 'grad_norm': 15.09947681427002, 'learning_rate': 1.2166666666666667e-05, 'epoch': 1.18}\n"
     ]
    },
    {
     "name": "stderr",
     "output_type": "stream",
     "text": [
      " 40%|███▉      | 950/2400 [42:01<57:07,  2.36s/it]  "
     ]
    },
    {
     "name": "stdout",
     "output_type": "stream",
     "text": [
      "{'loss': 1.6706, 'grad_norm': 13.903898239135742, 'learning_rate': 1.2083333333333333e-05, 'epoch': 1.19}\n"
     ]
    },
    {
     "name": "stderr",
     "output_type": "stream",
     "text": [
      " 40%|████      | 960/2400 [42:26<1:04:01,  2.67s/it]"
     ]
    },
    {
     "name": "stdout",
     "output_type": "stream",
     "text": [
      "{'loss': 1.6678, 'grad_norm': 15.672843933105469, 'learning_rate': 1.2e-05, 'epoch': 1.2}\n"
     ]
    },
    {
     "name": "stderr",
     "output_type": "stream",
     "text": [
      " 40%|████      | 970/2400 [42:50<55:26,  2.33s/it]  "
     ]
    },
    {
     "name": "stdout",
     "output_type": "stream",
     "text": [
      "{'loss': 1.5856, 'grad_norm': 18.250471115112305, 'learning_rate': 1.1916666666666667e-05, 'epoch': 1.21}\n"
     ]
    },
    {
     "name": "stderr",
     "output_type": "stream",
     "text": [
      " 41%|████      | 980/2400 [43:18<1:01:58,  2.62s/it]"
     ]
    },
    {
     "name": "stdout",
     "output_type": "stream",
     "text": [
      "{'loss': 1.5595, 'grad_norm': 12.843202590942383, 'learning_rate': 1.1833333333333334e-05, 'epoch': 1.23}\n"
     ]
    },
    {
     "name": "stderr",
     "output_type": "stream",
     "text": [
      " 41%|████▏     | 990/2400 [43:47<1:14:06,  3.15s/it]"
     ]
    },
    {
     "name": "stdout",
     "output_type": "stream",
     "text": [
      "{'loss': 1.8077, 'grad_norm': 12.991405487060547, 'learning_rate': 1.1750000000000001e-05, 'epoch': 1.24}\n"
     ]
    },
    {
     "name": "stderr",
     "output_type": "stream",
     "text": [
      " 42%|████▏     | 1000/2400 [44:12<57:46,  2.48s/it] "
     ]
    },
    {
     "name": "stdout",
     "output_type": "stream",
     "text": [
      "{'loss': 1.4829, 'grad_norm': 13.41298770904541, 'learning_rate': 1.1666666666666668e-05, 'epoch': 1.25}\n"
     ]
    },
    {
     "name": "stderr",
     "output_type": "stream",
     "text": [
      " 42%|████▏     | 1010/2400 [44:37<56:18,  2.43s/it]  "
     ]
    },
    {
     "name": "stdout",
     "output_type": "stream",
     "text": [
      "{'loss': 1.5331, 'grad_norm': 11.846578598022461, 'learning_rate': 1.1583333333333335e-05, 'epoch': 1.26}\n"
     ]
    },
    {
     "name": "stderr",
     "output_type": "stream",
     "text": [
      " 42%|████▎     | 1020/2400 [45:02<1:00:40,  2.64s/it]"
     ]
    },
    {
     "name": "stdout",
     "output_type": "stream",
     "text": [
      "{'loss': 1.524, 'grad_norm': 10.688423156738281, 'learning_rate': 1.15e-05, 'epoch': 1.27}\n"
     ]
    },
    {
     "name": "stderr",
     "output_type": "stream",
     "text": [
      " 43%|████▎     | 1030/2400 [45:25<54:28,  2.39s/it]  "
     ]
    },
    {
     "name": "stdout",
     "output_type": "stream",
     "text": [
      "{'loss': 1.5897, 'grad_norm': 14.454080581665039, 'learning_rate': 1.1416666666666667e-05, 'epoch': 1.29}\n"
     ]
    },
    {
     "name": "stderr",
     "output_type": "stream",
     "text": [
      " 43%|████▎     | 1040/2400 [45:50<58:07,  2.56s/it]"
     ]
    },
    {
     "name": "stdout",
     "output_type": "stream",
     "text": [
      "{'loss': 1.5323, 'grad_norm': 12.993416786193848, 'learning_rate': 1.1333333333333334e-05, 'epoch': 1.3}\n"
     ]
    },
    {
     "name": "stderr",
     "output_type": "stream",
     "text": [
      " 44%|████▍     | 1050/2400 [46:15<56:36,  2.52s/it]  "
     ]
    },
    {
     "name": "stdout",
     "output_type": "stream",
     "text": [
      "{'loss': 1.6085, 'grad_norm': 13.569378852844238, 'learning_rate': 1.125e-05, 'epoch': 1.31}\n"
     ]
    },
    {
     "name": "stderr",
     "output_type": "stream",
     "text": [
      " 44%|████▍     | 1060/2400 [46:43<1:04:39,  2.89s/it]"
     ]
    },
    {
     "name": "stdout",
     "output_type": "stream",
     "text": [
      "{'loss': 1.533, 'grad_norm': 11.865676879882812, 'learning_rate': 1.1166666666666668e-05, 'epoch': 1.32}\n"
     ]
    },
    {
     "name": "stderr",
     "output_type": "stream",
     "text": [
      " 45%|████▍     | 1070/2400 [47:07<46:25,  2.09s/it]  "
     ]
    },
    {
     "name": "stdout",
     "output_type": "stream",
     "text": [
      "{'loss': 1.5333, 'grad_norm': 17.224218368530273, 'learning_rate': 1.1083333333333335e-05, 'epoch': 1.34}\n"
     ]
    },
    {
     "name": "stderr",
     "output_type": "stream",
     "text": [
      " 45%|████▌     | 1080/2400 [47:34<58:29,  2.66s/it]  "
     ]
    },
    {
     "name": "stdout",
     "output_type": "stream",
     "text": [
      "{'loss': 1.6185, 'grad_norm': 13.628844261169434, 'learning_rate': 1.1000000000000001e-05, 'epoch': 1.35}\n"
     ]
    },
    {
     "name": "stderr",
     "output_type": "stream",
     "text": [
      " 45%|████▌     | 1090/2400 [47:57<51:25,  2.36s/it]"
     ]
    },
    {
     "name": "stdout",
     "output_type": "stream",
     "text": [
      "{'loss': 1.5349, 'grad_norm': 16.01432991027832, 'learning_rate': 1.0916666666666667e-05, 'epoch': 1.36}\n"
     ]
    },
    {
     "name": "stderr",
     "output_type": "stream",
     "text": [
      " 46%|████▌     | 1100/2400 [48:23<58:45,  2.71s/it]"
     ]
    },
    {
     "name": "stdout",
     "output_type": "stream",
     "text": [
      "{'loss': 1.5697, 'grad_norm': 14.66815185546875, 'learning_rate': 1.0833333333333334e-05, 'epoch': 1.38}\n"
     ]
    },
    {
     "name": "stderr",
     "output_type": "stream",
     "text": [
      " 46%|████▋     | 1110/2400 [48:49<53:45,  2.50s/it]  "
     ]
    },
    {
     "name": "stdout",
     "output_type": "stream",
     "text": [
      "{'loss': 1.5821, 'grad_norm': 18.68622398376465, 'learning_rate': 1.075e-05, 'epoch': 1.39}\n"
     ]
    },
    {
     "name": "stderr",
     "output_type": "stream",
     "text": [
      " 47%|████▋     | 1120/2400 [49:13<49:48,  2.33s/it]"
     ]
    },
    {
     "name": "stdout",
     "output_type": "stream",
     "text": [
      "{'loss': 1.4654, 'grad_norm': 16.093931198120117, 'learning_rate': 1.0666666666666667e-05, 'epoch': 1.4}\n"
     ]
    },
    {
     "name": "stderr",
     "output_type": "stream",
     "text": [
      " 47%|████▋     | 1130/2400 [49:39<53:33,  2.53s/it]"
     ]
    },
    {
     "name": "stdout",
     "output_type": "stream",
     "text": [
      "{'loss': 1.5465, 'grad_norm': 13.624674797058105, 'learning_rate': 1.0583333333333334e-05, 'epoch': 1.41}\n"
     ]
    },
    {
     "name": "stderr",
     "output_type": "stream",
     "text": [
      " 48%|████▊     | 1140/2400 [50:06<53:53,  2.57s/it]  "
     ]
    },
    {
     "name": "stdout",
     "output_type": "stream",
     "text": [
      "{'loss': 1.4072, 'grad_norm': 17.218704223632812, 'learning_rate': 1.0500000000000001e-05, 'epoch': 1.43}\n"
     ]
    },
    {
     "name": "stderr",
     "output_type": "stream",
     "text": [
      " 48%|████▊     | 1150/2400 [50:30<51:17,  2.46s/it]"
     ]
    },
    {
     "name": "stdout",
     "output_type": "stream",
     "text": [
      "{'loss': 1.4203, 'grad_norm': 13.491786003112793, 'learning_rate': 1.0416666666666668e-05, 'epoch': 1.44}\n"
     ]
    },
    {
     "name": "stderr",
     "output_type": "stream",
     "text": [
      " 48%|████▊     | 1160/2400 [50:56<50:06,  2.42s/it]"
     ]
    },
    {
     "name": "stdout",
     "output_type": "stream",
     "text": [
      "{'loss': 1.6057, 'grad_norm': 21.41084861755371, 'learning_rate': 1.0333333333333335e-05, 'epoch': 1.45}\n"
     ]
    },
    {
     "name": "stderr",
     "output_type": "stream",
     "text": [
      " 49%|████▉     | 1170/2400 [51:21<50:30,  2.46s/it]"
     ]
    },
    {
     "name": "stdout",
     "output_type": "stream",
     "text": [
      "{'loss': 1.4506, 'grad_norm': 17.1430721282959, 'learning_rate': 1.025e-05, 'epoch': 1.46}\n"
     ]
    },
    {
     "name": "stderr",
     "output_type": "stream",
     "text": [
      " 49%|████▉     | 1180/2400 [51:46<50:48,  2.50s/it]"
     ]
    },
    {
     "name": "stdout",
     "output_type": "stream",
     "text": [
      "{'loss': 1.4426, 'grad_norm': 11.279911041259766, 'learning_rate': 1.0166666666666667e-05, 'epoch': 1.48}\n"
     ]
    },
    {
     "name": "stderr",
     "output_type": "stream",
     "text": [
      " 50%|████▉     | 1190/2400 [52:16<53:36,  2.66s/it]  "
     ]
    },
    {
     "name": "stdout",
     "output_type": "stream",
     "text": [
      "{'loss': 1.5978, 'grad_norm': 16.863122940063477, 'learning_rate': 1.0083333333333334e-05, 'epoch': 1.49}\n"
     ]
    },
    {
     "name": "stderr",
     "output_type": "stream",
     "text": [
      " 50%|█████     | 1200/2400 [52:40<48:02,  2.40s/it]"
     ]
    },
    {
     "name": "stdout",
     "output_type": "stream",
     "text": [
      "{'loss': 1.6821, 'grad_norm': 19.471935272216797, 'learning_rate': 1e-05, 'epoch': 1.5}\n"
     ]
    },
    {
     "name": "stderr",
     "output_type": "stream",
     "text": [
      " 50%|█████     | 1210/2400 [53:08<52:48,  2.66s/it]"
     ]
    },
    {
     "name": "stdout",
     "output_type": "stream",
     "text": [
      "{'loss': 1.5192, 'grad_norm': 18.33249282836914, 'learning_rate': 9.916666666666668e-06, 'epoch': 1.51}\n"
     ]
    },
    {
     "name": "stderr",
     "output_type": "stream",
     "text": [
      " 51%|█████     | 1220/2400 [53:32<49:20,  2.51s/it]"
     ]
    },
    {
     "name": "stdout",
     "output_type": "stream",
     "text": [
      "{'loss': 1.5329, 'grad_norm': 17.481847763061523, 'learning_rate': 9.833333333333333e-06, 'epoch': 1.52}\n"
     ]
    },
    {
     "name": "stderr",
     "output_type": "stream",
     "text": [
      " 51%|█████▏    | 1230/2400 [53:57<49:26,  2.54s/it]"
     ]
    },
    {
     "name": "stdout",
     "output_type": "stream",
     "text": [
      "{'loss': 1.518, 'grad_norm': 18.005775451660156, 'learning_rate': 9.75e-06, 'epoch': 1.54}\n"
     ]
    },
    {
     "name": "stderr",
     "output_type": "stream",
     "text": [
      " 52%|█████▏    | 1240/2400 [54:23<47:38,  2.46s/it]"
     ]
    },
    {
     "name": "stdout",
     "output_type": "stream",
     "text": [
      "{'loss': 1.4665, 'grad_norm': 13.847536087036133, 'learning_rate': 9.666666666666667e-06, 'epoch': 1.55}\n"
     ]
    },
    {
     "name": "stderr",
     "output_type": "stream",
     "text": [
      " 52%|█████▏    | 1250/2400 [54:46<41:49,  2.18s/it]"
     ]
    },
    {
     "name": "stdout",
     "output_type": "stream",
     "text": [
      "{'loss': 1.5984, 'grad_norm': 17.275070190429688, 'learning_rate': 9.583333333333335e-06, 'epoch': 1.56}\n"
     ]
    },
    {
     "name": "stderr",
     "output_type": "stream",
     "text": [
      " 52%|█████▎    | 1260/2400 [55:12<50:07,  2.64s/it]"
     ]
    },
    {
     "name": "stdout",
     "output_type": "stream",
     "text": [
      "{'loss': 1.3546, 'grad_norm': 21.26565170288086, 'learning_rate': 9.5e-06, 'epoch': 1.57}\n"
     ]
    },
    {
     "name": "stderr",
     "output_type": "stream",
     "text": [
      " 53%|█████▎    | 1270/2400 [55:38<49:30,  2.63s/it]"
     ]
    },
    {
     "name": "stdout",
     "output_type": "stream",
     "text": [
      "{'loss': 1.4058, 'grad_norm': 13.772555351257324, 'learning_rate': 9.416666666666667e-06, 'epoch': 1.59}\n"
     ]
    },
    {
     "name": "stderr",
     "output_type": "stream",
     "text": [
      " 53%|█████▎    | 1280/2400 [56:02<42:57,  2.30s/it]"
     ]
    },
    {
     "name": "stdout",
     "output_type": "stream",
     "text": [
      "{'loss': 1.5299, 'grad_norm': 14.189899444580078, 'learning_rate': 9.333333333333334e-06, 'epoch': 1.6}\n"
     ]
    },
    {
     "name": "stderr",
     "output_type": "stream",
     "text": [
      " 54%|█████▍    | 1290/2400 [56:25<41:28,  2.24s/it]"
     ]
    },
    {
     "name": "stdout",
     "output_type": "stream",
     "text": [
      "{'loss': 1.3406, 'grad_norm': 16.214584350585938, 'learning_rate': 9.250000000000001e-06, 'epoch': 1.61}\n"
     ]
    },
    {
     "name": "stderr",
     "output_type": "stream",
     "text": [
      " 54%|█████▍    | 1300/2400 [56:50<45:56,  2.51s/it]"
     ]
    },
    {
     "name": "stdout",
     "output_type": "stream",
     "text": [
      "{'loss': 1.4966, 'grad_norm': 18.854604721069336, 'learning_rate': 9.166666666666666e-06, 'epoch': 1.62}\n"
     ]
    },
    {
     "name": "stderr",
     "output_type": "stream",
     "text": [
      " 55%|█████▍    | 1310/2400 [57:15<44:44,  2.46s/it]"
     ]
    },
    {
     "name": "stdout",
     "output_type": "stream",
     "text": [
      "{'loss': 1.291, 'grad_norm': 16.039077758789062, 'learning_rate': 9.083333333333333e-06, 'epoch': 1.64}\n"
     ]
    },
    {
     "name": "stderr",
     "output_type": "stream",
     "text": [
      " 55%|█████▌    | 1320/2400 [57:40<43:28,  2.42s/it]"
     ]
    },
    {
     "name": "stdout",
     "output_type": "stream",
     "text": [
      "{'loss': 1.435, 'grad_norm': 19.93840217590332, 'learning_rate': 9e-06, 'epoch': 1.65}\n"
     ]
    },
    {
     "name": "stderr",
     "output_type": "stream",
     "text": [
      " 55%|█████▌    | 1330/2400 [58:06<47:40,  2.67s/it]"
     ]
    },
    {
     "name": "stdout",
     "output_type": "stream",
     "text": [
      "{'loss': 1.4865, 'grad_norm': 22.715482711791992, 'learning_rate': 8.916666666666667e-06, 'epoch': 1.66}\n"
     ]
    },
    {
     "name": "stderr",
     "output_type": "stream",
     "text": [
      " 56%|█████▌    | 1340/2400 [58:33<45:12,  2.56s/it]"
     ]
    },
    {
     "name": "stdout",
     "output_type": "stream",
     "text": [
      "{'loss': 1.5991, 'grad_norm': 18.223941802978516, 'learning_rate': 8.833333333333334e-06, 'epoch': 1.68}\n"
     ]
    },
    {
     "name": "stderr",
     "output_type": "stream",
     "text": [
      " 56%|█████▋    | 1350/2400 [58:59<50:08,  2.86s/it]"
     ]
    },
    {
     "name": "stdout",
     "output_type": "stream",
     "text": [
      "{'loss': 1.5162, 'grad_norm': 15.716521263122559, 'learning_rate': 8.750000000000001e-06, 'epoch': 1.69}\n"
     ]
    },
    {
     "name": "stderr",
     "output_type": "stream",
     "text": [
      " 57%|█████▋    | 1360/2400 [59:26<43:39,  2.52s/it]"
     ]
    },
    {
     "name": "stdout",
     "output_type": "stream",
     "text": [
      "{'loss': 1.3985, 'grad_norm': 16.687389373779297, 'learning_rate': 8.666666666666668e-06, 'epoch': 1.7}\n"
     ]
    },
    {
     "name": "stderr",
     "output_type": "stream",
     "text": [
      " 57%|█████▋    | 1370/2400 [59:50<42:46,  2.49s/it]"
     ]
    },
    {
     "name": "stdout",
     "output_type": "stream",
     "text": [
      "{'loss': 1.4647, 'grad_norm': 18.019996643066406, 'learning_rate': 8.583333333333333e-06, 'epoch': 1.71}\n"
     ]
    },
    {
     "name": "stderr",
     "output_type": "stream",
     "text": [
      " 57%|█████▊    | 1380/2400 [1:00:13<36:52,  2.17s/it]"
     ]
    },
    {
     "name": "stdout",
     "output_type": "stream",
     "text": [
      "{'loss': 1.5152, 'grad_norm': 25.30169677734375, 'learning_rate': 8.5e-06, 'epoch': 1.73}\n"
     ]
    },
    {
     "name": "stderr",
     "output_type": "stream",
     "text": [
      " 58%|█████▊    | 1390/2400 [1:00:42<59:45,  3.55s/it]"
     ]
    },
    {
     "name": "stdout",
     "output_type": "stream",
     "text": [
      "{'loss': 1.4299, 'grad_norm': 19.109920501708984, 'learning_rate': 8.416666666666667e-06, 'epoch': 1.74}\n"
     ]
    },
    {
     "name": "stderr",
     "output_type": "stream",
     "text": [
      " 58%|█████▊    | 1400/2400 [1:01:07<43:57,  2.64s/it]"
     ]
    },
    {
     "name": "stdout",
     "output_type": "stream",
     "text": [
      "{'loss': 1.4677, 'grad_norm': 20.164499282836914, 'learning_rate': 8.333333333333334e-06, 'epoch': 1.75}\n"
     ]
    },
    {
     "name": "stderr",
     "output_type": "stream",
     "text": [
      " 59%|█████▉    | 1410/2400 [1:01:35<42:44,  2.59s/it]"
     ]
    },
    {
     "name": "stdout",
     "output_type": "stream",
     "text": [
      "{'loss': 1.479, 'grad_norm': 15.223575592041016, 'learning_rate': 8.25e-06, 'epoch': 1.76}\n"
     ]
    },
    {
     "name": "stderr",
     "output_type": "stream",
     "text": [
      " 59%|█████▉    | 1420/2400 [1:02:02<45:30,  2.79s/it]"
     ]
    },
    {
     "name": "stdout",
     "output_type": "stream",
     "text": [
      "{'loss': 1.4665, 'grad_norm': 15.914782524108887, 'learning_rate': 8.166666666666668e-06, 'epoch': 1.77}\n"
     ]
    },
    {
     "name": "stderr",
     "output_type": "stream",
     "text": [
      " 60%|█████▉    | 1430/2400 [1:02:30<46:51,  2.90s/it]"
     ]
    },
    {
     "name": "stdout",
     "output_type": "stream",
     "text": [
      "{'loss': 1.3865, 'grad_norm': 14.608563423156738, 'learning_rate': 8.083333333333334e-06, 'epoch': 1.79}\n"
     ]
    },
    {
     "name": "stderr",
     "output_type": "stream",
     "text": [
      " 60%|██████    | 1440/2400 [1:02:59<47:19,  2.96s/it]"
     ]
    },
    {
     "name": "stdout",
     "output_type": "stream",
     "text": [
      "{'loss': 1.5859, 'grad_norm': 23.744998931884766, 'learning_rate': 8.000000000000001e-06, 'epoch': 1.8}\n"
     ]
    },
    {
     "name": "stderr",
     "output_type": "stream",
     "text": [
      " 60%|██████    | 1450/2400 [1:03:27<45:23,  2.87s/it]"
     ]
    },
    {
     "name": "stdout",
     "output_type": "stream",
     "text": [
      "{'loss': 1.5031, 'grad_norm': 17.998807907104492, 'learning_rate': 7.916666666666667e-06, 'epoch': 1.81}\n"
     ]
    },
    {
     "name": "stderr",
     "output_type": "stream",
     "text": [
      " 61%|██████    | 1460/2400 [1:03:51<40:44,  2.60s/it]"
     ]
    },
    {
     "name": "stdout",
     "output_type": "stream",
     "text": [
      "{'loss': 1.3169, 'grad_norm': 18.299884796142578, 'learning_rate': 7.833333333333333e-06, 'epoch': 1.82}\n"
     ]
    },
    {
     "name": "stderr",
     "output_type": "stream",
     "text": [
      " 61%|██████▏   | 1470/2400 [1:04:17<40:39,  2.62s/it]"
     ]
    },
    {
     "name": "stdout",
     "output_type": "stream",
     "text": [
      "{'loss': 1.4038, 'grad_norm': 22.949243545532227, 'learning_rate': 7.75e-06, 'epoch': 1.84}\n"
     ]
    },
    {
     "name": "stderr",
     "output_type": "stream",
     "text": [
      " 62%|██████▏   | 1480/2400 [1:04:42<40:52,  2.67s/it]"
     ]
    },
    {
     "name": "stdout",
     "output_type": "stream",
     "text": [
      "{'loss': 1.4138, 'grad_norm': 14.328954696655273, 'learning_rate': 7.666666666666667e-06, 'epoch': 1.85}\n"
     ]
    },
    {
     "name": "stderr",
     "output_type": "stream",
     "text": [
      " 62%|██████▏   | 1490/2400 [1:05:09<38:48,  2.56s/it]"
     ]
    },
    {
     "name": "stdout",
     "output_type": "stream",
     "text": [
      "{'loss': 1.3707, 'grad_norm': 13.638834953308105, 'learning_rate': 7.583333333333333e-06, 'epoch': 1.86}\n"
     ]
    },
    {
     "name": "stderr",
     "output_type": "stream",
     "text": [
      " 62%|██████▎   | 1500/2400 [1:05:34<37:29,  2.50s/it]"
     ]
    },
    {
     "name": "stdout",
     "output_type": "stream",
     "text": [
      "{'loss': 1.4681, 'grad_norm': 18.640592575073242, 'learning_rate': 7.500000000000001e-06, 'epoch': 1.88}\n"
     ]
    },
    {
     "name": "stderr",
     "output_type": "stream",
     "text": [
      " 63%|██████▎   | 1510/2400 [1:06:00<39:34,  2.67s/it]"
     ]
    },
    {
     "name": "stdout",
     "output_type": "stream",
     "text": [
      "{'loss': 1.3859, 'grad_norm': 24.20545768737793, 'learning_rate': 7.416666666666668e-06, 'epoch': 1.89}\n"
     ]
    },
    {
     "name": "stderr",
     "output_type": "stream",
     "text": [
      " 63%|██████▎   | 1520/2400 [1:06:26<39:58,  2.73s/it]"
     ]
    },
    {
     "name": "stdout",
     "output_type": "stream",
     "text": [
      "{'loss': 1.2905, 'grad_norm': 13.466401100158691, 'learning_rate': 7.333333333333333e-06, 'epoch': 1.9}\n"
     ]
    },
    {
     "name": "stderr",
     "output_type": "stream",
     "text": [
      " 64%|██████▍   | 1530/2400 [1:06:51<33:56,  2.34s/it]"
     ]
    },
    {
     "name": "stdout",
     "output_type": "stream",
     "text": [
      "{'loss': 1.4315, 'grad_norm': 15.72610855102539, 'learning_rate': 7.25e-06, 'epoch': 1.91}\n"
     ]
    },
    {
     "name": "stderr",
     "output_type": "stream",
     "text": [
      " 64%|██████▍   | 1540/2400 [1:07:19<35:42,  2.49s/it]"
     ]
    },
    {
     "name": "stdout",
     "output_type": "stream",
     "text": [
      "{'loss': 1.4873, 'grad_norm': 25.24359893798828, 'learning_rate': 7.166666666666667e-06, 'epoch': 1.93}\n"
     ]
    },
    {
     "name": "stderr",
     "output_type": "stream",
     "text": [
      " 65%|██████▍   | 1550/2400 [1:07:43<31:33,  2.23s/it]"
     ]
    },
    {
     "name": "stdout",
     "output_type": "stream",
     "text": [
      "{'loss': 1.3464, 'grad_norm': 16.787086486816406, 'learning_rate': 7.083333333333335e-06, 'epoch': 1.94}\n"
     ]
    },
    {
     "name": "stderr",
     "output_type": "stream",
     "text": [
      " 65%|██████▌   | 1560/2400 [1:08:09<37:28,  2.68s/it]"
     ]
    },
    {
     "name": "stdout",
     "output_type": "stream",
     "text": [
      "{'loss': 1.4036, 'grad_norm': 17.868318557739258, 'learning_rate': 7e-06, 'epoch': 1.95}\n"
     ]
    },
    {
     "name": "stderr",
     "output_type": "stream",
     "text": [
      " 65%|██████▌   | 1570/2400 [1:08:34<34:41,  2.51s/it]"
     ]
    },
    {
     "name": "stdout",
     "output_type": "stream",
     "text": [
      "{'loss': 1.3615, 'grad_norm': 11.634182929992676, 'learning_rate': 6.916666666666667e-06, 'epoch': 1.96}\n"
     ]
    },
    {
     "name": "stderr",
     "output_type": "stream",
     "text": [
      " 66%|██████▌   | 1580/2400 [1:09:01<36:04,  2.64s/it]"
     ]
    },
    {
     "name": "stdout",
     "output_type": "stream",
     "text": [
      "{'loss': 1.5456, 'grad_norm': 19.088659286499023, 'learning_rate': 6.833333333333334e-06, 'epoch': 1.98}\n"
     ]
    },
    {
     "name": "stderr",
     "output_type": "stream",
     "text": [
      " 66%|██████▋   | 1590/2400 [1:09:26<32:06,  2.38s/it]"
     ]
    },
    {
     "name": "stdout",
     "output_type": "stream",
     "text": [
      "{'loss': 1.3679, 'grad_norm': 19.265260696411133, 'learning_rate': 6.750000000000001e-06, 'epoch': 1.99}\n"
     ]
    },
    {
     "name": "stderr",
     "output_type": "stream",
     "text": [
      " 67%|██████▋   | 1600/2400 [1:09:55<40:35,  3.04s/it]"
     ]
    },
    {
     "name": "stdout",
     "output_type": "stream",
     "text": [
      "{'loss': 1.5227, 'grad_norm': 22.284116744995117, 'learning_rate': 6.666666666666667e-06, 'epoch': 2.0}\n"
     ]
    },
    {
     "name": "stderr",
     "output_type": "stream",
     "text": [
      "                                                     \n",
      " 67%|██████▋   | 1600/2400 [1:11:35<40:35,  3.04s/it]"
     ]
    },
    {
     "name": "stdout",
     "output_type": "stream",
     "text": [
      "{'eval_loss': 1.688917875289917, 'eval_runtime': 99.8908, 'eval_samples_per_second': 16.017, 'eval_steps_per_second': 2.002, 'epoch': 2.0}\n"
     ]
    },
    {
     "name": "stderr",
     "output_type": "stream",
     "text": [
      " 67%|██████▋   | 1610/2400 [1:11:58<45:49,  3.48s/it]  "
     ]
    },
    {
     "name": "stdout",
     "output_type": "stream",
     "text": [
      "{'loss': 1.1065, 'grad_norm': 19.300519943237305, 'learning_rate': 6.5833333333333335e-06, 'epoch': 2.01}\n"
     ]
    },
    {
     "name": "stderr",
     "output_type": "stream",
     "text": [
      " 68%|██████▊   | 1620/2400 [1:12:28<37:46,  2.91s/it]"
     ]
    },
    {
     "name": "stdout",
     "output_type": "stream",
     "text": [
      "{'loss': 1.298, 'grad_norm': 19.776599884033203, 'learning_rate': 6.5000000000000004e-06, 'epoch': 2.02}\n"
     ]
    },
    {
     "name": "stderr",
     "output_type": "stream",
     "text": [
      " 68%|██████▊   | 1630/2400 [1:12:55<33:05,  2.58s/it]"
     ]
    },
    {
     "name": "stdout",
     "output_type": "stream",
     "text": [
      "{'loss': 1.2363, 'grad_norm': 16.370433807373047, 'learning_rate': 6.416666666666667e-06, 'epoch': 2.04}\n"
     ]
    },
    {
     "name": "stderr",
     "output_type": "stream",
     "text": [
      " 68%|██████▊   | 1640/2400 [1:13:19<29:39,  2.34s/it]"
     ]
    },
    {
     "name": "stdout",
     "output_type": "stream",
     "text": [
      "{'loss': 1.3463, 'grad_norm': 21.05567741394043, 'learning_rate': 6.333333333333333e-06, 'epoch': 2.05}\n"
     ]
    },
    {
     "name": "stderr",
     "output_type": "stream",
     "text": [
      " 69%|██████▉   | 1650/2400 [1:13:45<32:59,  2.64s/it]"
     ]
    },
    {
     "name": "stdout",
     "output_type": "stream",
     "text": [
      "{'loss': 1.0314, 'grad_norm': 15.867915153503418, 'learning_rate': 6.25e-06, 'epoch': 2.06}\n"
     ]
    },
    {
     "name": "stderr",
     "output_type": "stream",
     "text": [
      " 69%|██████▉   | 1660/2400 [1:14:08<28:41,  2.33s/it]"
     ]
    },
    {
     "name": "stdout",
     "output_type": "stream",
     "text": [
      "{'loss': 1.2127, 'grad_norm': 16.802305221557617, 'learning_rate': 6.166666666666667e-06, 'epoch': 2.08}\n"
     ]
    },
    {
     "name": "stderr",
     "output_type": "stream",
     "text": [
      " 70%|██████▉   | 1670/2400 [1:14:34<31:04,  2.55s/it]"
     ]
    },
    {
     "name": "stdout",
     "output_type": "stream",
     "text": [
      "{'loss': 1.2518, 'grad_norm': 11.283979415893555, 'learning_rate': 6.083333333333333e-06, 'epoch': 2.09}\n"
     ]
    },
    {
     "name": "stderr",
     "output_type": "stream",
     "text": [
      " 70%|███████   | 1680/2400 [1:14:58<27:40,  2.31s/it]"
     ]
    },
    {
     "name": "stdout",
     "output_type": "stream",
     "text": [
      "{'loss': 1.1836, 'grad_norm': 25.37207794189453, 'learning_rate': 6e-06, 'epoch': 2.1}\n"
     ]
    },
    {
     "name": "stderr",
     "output_type": "stream",
     "text": [
      " 70%|███████   | 1690/2400 [1:15:24<30:52,  2.61s/it]"
     ]
    },
    {
     "name": "stdout",
     "output_type": "stream",
     "text": [
      "{'loss': 1.1318, 'grad_norm': 18.79288673400879, 'learning_rate': 5.916666666666667e-06, 'epoch': 2.11}\n"
     ]
    },
    {
     "name": "stderr",
     "output_type": "stream",
     "text": [
      " 71%|███████   | 1700/2400 [1:15:48<27:39,  2.37s/it]"
     ]
    },
    {
     "name": "stdout",
     "output_type": "stream",
     "text": [
      "{'loss': 1.2664, 'grad_norm': 21.09343147277832, 'learning_rate': 5.833333333333334e-06, 'epoch': 2.12}\n"
     ]
    },
    {
     "name": "stderr",
     "output_type": "stream",
     "text": [
      " 71%|███████▏  | 1710/2400 [1:16:12<26:40,  2.32s/it]"
     ]
    },
    {
     "name": "stdout",
     "output_type": "stream",
     "text": [
      "{'loss': 1.145, 'grad_norm': 25.710010528564453, 'learning_rate': 5.75e-06, 'epoch': 2.14}\n"
     ]
    },
    {
     "name": "stderr",
     "output_type": "stream",
     "text": [
      " 72%|███████▏  | 1720/2400 [1:16:38<30:09,  2.66s/it]"
     ]
    },
    {
     "name": "stdout",
     "output_type": "stream",
     "text": [
      "{'loss': 1.2212, 'grad_norm': 19.250465393066406, 'learning_rate': 5.666666666666667e-06, 'epoch': 2.15}\n"
     ]
    },
    {
     "name": "stderr",
     "output_type": "stream",
     "text": [
      " 72%|███████▏  | 1730/2400 [1:17:03<28:04,  2.51s/it]"
     ]
    },
    {
     "name": "stdout",
     "output_type": "stream",
     "text": [
      "{'loss': 1.0865, 'grad_norm': 22.263545989990234, 'learning_rate': 5.583333333333334e-06, 'epoch': 2.16}\n"
     ]
    },
    {
     "name": "stderr",
     "output_type": "stream",
     "text": [
      " 72%|███████▎  | 1740/2400 [1:17:27<25:01,  2.27s/it]"
     ]
    },
    {
     "name": "stdout",
     "output_type": "stream",
     "text": [
      "{'loss': 1.3375, 'grad_norm': 17.82074546813965, 'learning_rate': 5.500000000000001e-06, 'epoch': 2.17}\n"
     ]
    },
    {
     "name": "stderr",
     "output_type": "stream",
     "text": [
      " 73%|███████▎  | 1750/2400 [1:17:52<25:11,  2.33s/it]"
     ]
    },
    {
     "name": "stdout",
     "output_type": "stream",
     "text": [
      "{'loss': 1.1203, 'grad_norm': 23.558088302612305, 'learning_rate': 5.416666666666667e-06, 'epoch': 2.19}\n"
     ]
    },
    {
     "name": "stderr",
     "output_type": "stream",
     "text": [
      " 73%|███████▎  | 1760/2400 [1:18:17<27:07,  2.54s/it]"
     ]
    },
    {
     "name": "stdout",
     "output_type": "stream",
     "text": [
      "{'loss': 1.1688, 'grad_norm': 14.501508712768555, 'learning_rate': 5.333333333333334e-06, 'epoch': 2.2}\n"
     ]
    },
    {
     "name": "stderr",
     "output_type": "stream",
     "text": [
      " 74%|███████▍  | 1770/2400 [1:18:42<24:54,  2.37s/it]"
     ]
    },
    {
     "name": "stdout",
     "output_type": "stream",
     "text": [
      "{'loss': 0.9079, 'grad_norm': 13.240062713623047, 'learning_rate': 5.2500000000000006e-06, 'epoch': 2.21}\n"
     ]
    },
    {
     "name": "stderr",
     "output_type": "stream",
     "text": [
      " 74%|███████▍  | 1780/2400 [1:19:08<25:07,  2.43s/it]"
     ]
    },
    {
     "name": "stdout",
     "output_type": "stream",
     "text": [
      "{'loss': 1.2582, 'grad_norm': 19.41443634033203, 'learning_rate': 5.1666666666666675e-06, 'epoch': 2.23}\n"
     ]
    },
    {
     "name": "stderr",
     "output_type": "stream",
     "text": [
      " 75%|███████▍  | 1790/2400 [1:19:36<29:04,  2.86s/it]"
     ]
    },
    {
     "name": "stdout",
     "output_type": "stream",
     "text": [
      "{'loss': 1.0318, 'grad_norm': 15.350768089294434, 'learning_rate': 5.0833333333333335e-06, 'epoch': 2.24}\n"
     ]
    },
    {
     "name": "stderr",
     "output_type": "stream",
     "text": [
      " 75%|███████▌  | 1800/2400 [1:20:01<23:23,  2.34s/it]"
     ]
    },
    {
     "name": "stdout",
     "output_type": "stream",
     "text": [
      "{'loss': 1.1363, 'grad_norm': 23.16328239440918, 'learning_rate': 5e-06, 'epoch': 2.25}\n"
     ]
    },
    {
     "name": "stderr",
     "output_type": "stream",
     "text": [
      " 75%|███████▌  | 1810/2400 [1:20:29<26:14,  2.67s/it]"
     ]
    },
    {
     "name": "stdout",
     "output_type": "stream",
     "text": [
      "{'loss': 1.1654, 'grad_norm': 11.887479782104492, 'learning_rate': 4.9166666666666665e-06, 'epoch': 2.26}\n"
     ]
    },
    {
     "name": "stderr",
     "output_type": "stream",
     "text": [
      " 76%|███████▌  | 1820/2400 [1:20:56<25:09,  2.60s/it]"
     ]
    },
    {
     "name": "stdout",
     "output_type": "stream",
     "text": [
      "{'loss': 1.151, 'grad_norm': 17.812931060791016, 'learning_rate': 4.833333333333333e-06, 'epoch': 2.27}\n"
     ]
    },
    {
     "name": "stderr",
     "output_type": "stream",
     "text": [
      " 76%|███████▋  | 1830/2400 [1:21:22<24:59,  2.63s/it]"
     ]
    },
    {
     "name": "stdout",
     "output_type": "stream",
     "text": [
      "{'loss': 1.1946, 'grad_norm': 18.28278350830078, 'learning_rate': 4.75e-06, 'epoch': 2.29}\n"
     ]
    },
    {
     "name": "stderr",
     "output_type": "stream",
     "text": [
      " 77%|███████▋  | 1840/2400 [1:21:52<24:30,  2.63s/it]"
     ]
    },
    {
     "name": "stdout",
     "output_type": "stream",
     "text": [
      "{'loss': 1.1142, 'grad_norm': 18.172550201416016, 'learning_rate': 4.666666666666667e-06, 'epoch': 2.3}\n"
     ]
    },
    {
     "name": "stderr",
     "output_type": "stream",
     "text": [
      " 77%|███████▋  | 1850/2400 [1:22:17<22:09,  2.42s/it]"
     ]
    },
    {
     "name": "stdout",
     "output_type": "stream",
     "text": [
      "{'loss': 1.2866, 'grad_norm': 17.3522891998291, 'learning_rate': 4.583333333333333e-06, 'epoch': 2.31}\n"
     ]
    },
    {
     "name": "stderr",
     "output_type": "stream",
     "text": [
      " 78%|███████▊  | 1860/2400 [1:22:43<22:43,  2.52s/it]"
     ]
    },
    {
     "name": "stdout",
     "output_type": "stream",
     "text": [
      "{'loss': 0.9914, 'grad_norm': 21.434293746948242, 'learning_rate': 4.5e-06, 'epoch': 2.33}\n"
     ]
    },
    {
     "name": "stderr",
     "output_type": "stream",
     "text": [
      " 78%|███████▊  | 1870/2400 [1:23:09<22:09,  2.51s/it]"
     ]
    },
    {
     "name": "stdout",
     "output_type": "stream",
     "text": [
      "{'loss': 1.1198, 'grad_norm': 12.658257484436035, 'learning_rate': 4.416666666666667e-06, 'epoch': 2.34}\n"
     ]
    },
    {
     "name": "stderr",
     "output_type": "stream",
     "text": [
      " 78%|███████▊  | 1880/2400 [1:23:35<20:57,  2.42s/it]"
     ]
    },
    {
     "name": "stdout",
     "output_type": "stream",
     "text": [
      "{'loss': 1.1132, 'grad_norm': 19.30548667907715, 'learning_rate': 4.333333333333334e-06, 'epoch': 2.35}\n"
     ]
    },
    {
     "name": "stderr",
     "output_type": "stream",
     "text": [
      " 79%|███████▉  | 1890/2400 [1:23:59<20:11,  2.37s/it]"
     ]
    },
    {
     "name": "stdout",
     "output_type": "stream",
     "text": [
      "{'loss': 1.249, 'grad_norm': 19.017683029174805, 'learning_rate': 4.25e-06, 'epoch': 2.36}\n"
     ]
    },
    {
     "name": "stderr",
     "output_type": "stream",
     "text": [
      " 79%|███████▉  | 1900/2400 [1:24:29<23:05,  2.77s/it]"
     ]
    },
    {
     "name": "stdout",
     "output_type": "stream",
     "text": [
      "{'loss': 1.2955, 'grad_norm': 24.615991592407227, 'learning_rate': 4.166666666666667e-06, 'epoch': 2.38}\n"
     ]
    },
    {
     "name": "stderr",
     "output_type": "stream",
     "text": [
      " 80%|███████▉  | 1910/2400 [1:24:53<18:40,  2.29s/it]"
     ]
    },
    {
     "name": "stdout",
     "output_type": "stream",
     "text": [
      "{'loss': 1.1103, 'grad_norm': 23.445066452026367, 'learning_rate': 4.083333333333334e-06, 'epoch': 2.39}\n"
     ]
    },
    {
     "name": "stderr",
     "output_type": "stream",
     "text": [
      " 80%|████████  | 1920/2400 [1:25:18<19:51,  2.48s/it]"
     ]
    },
    {
     "name": "stdout",
     "output_type": "stream",
     "text": [
      "{'loss': 1.1683, 'grad_norm': 16.897031784057617, 'learning_rate': 4.000000000000001e-06, 'epoch': 2.4}\n"
     ]
    },
    {
     "name": "stderr",
     "output_type": "stream",
     "text": [
      " 80%|████████  | 1930/2400 [1:25:42<17:04,  2.18s/it]"
     ]
    },
    {
     "name": "stdout",
     "output_type": "stream",
     "text": [
      "{'loss': 1.2083, 'grad_norm': 24.367935180664062, 'learning_rate': 3.916666666666667e-06, 'epoch': 2.41}\n"
     ]
    },
    {
     "name": "stderr",
     "output_type": "stream",
     "text": [
      " 81%|████████  | 1940/2400 [1:26:08<19:58,  2.61s/it]"
     ]
    },
    {
     "name": "stdout",
     "output_type": "stream",
     "text": [
      "{'loss': 1.2411, 'grad_norm': 19.6485538482666, 'learning_rate': 3.833333333333334e-06, 'epoch': 2.42}\n"
     ]
    },
    {
     "name": "stderr",
     "output_type": "stream",
     "text": [
      " 81%|████████▏ | 1950/2400 [1:26:33<19:38,  2.62s/it]"
     ]
    },
    {
     "name": "stdout",
     "output_type": "stream",
     "text": [
      "{'loss': 1.0714, 'grad_norm': 18.402019500732422, 'learning_rate': 3.7500000000000005e-06, 'epoch': 2.44}\n"
     ]
    },
    {
     "name": "stderr",
     "output_type": "stream",
     "text": [
      " 82%|████████▏ | 1960/2400 [1:26:57<17:46,  2.42s/it]"
     ]
    },
    {
     "name": "stdout",
     "output_type": "stream",
     "text": [
      "{'loss': 1.097, 'grad_norm': 18.184011459350586, 'learning_rate': 3.6666666666666666e-06, 'epoch': 2.45}\n"
     ]
    },
    {
     "name": "stderr",
     "output_type": "stream",
     "text": [
      " 82%|████████▏ | 1970/2400 [1:27:21<17:57,  2.51s/it]"
     ]
    },
    {
     "name": "stdout",
     "output_type": "stream",
     "text": [
      "{'loss': 1.0786, 'grad_norm': 17.02843475341797, 'learning_rate': 3.5833333333333335e-06, 'epoch': 2.46}\n"
     ]
    },
    {
     "name": "stderr",
     "output_type": "stream",
     "text": [
      " 82%|████████▎ | 1980/2400 [1:27:46<17:58,  2.57s/it]"
     ]
    },
    {
     "name": "stdout",
     "output_type": "stream",
     "text": [
      "{'loss': 1.0928, 'grad_norm': 17.399471282958984, 'learning_rate': 3.5e-06, 'epoch': 2.48}\n"
     ]
    },
    {
     "name": "stderr",
     "output_type": "stream",
     "text": [
      " 83%|████████▎ | 1990/2400 [1:28:11<17:54,  2.62s/it]"
     ]
    },
    {
     "name": "stdout",
     "output_type": "stream",
     "text": [
      "{'loss': 1.2205, 'grad_norm': 24.805639266967773, 'learning_rate': 3.416666666666667e-06, 'epoch': 2.49}\n"
     ]
    },
    {
     "name": "stderr",
     "output_type": "stream",
     "text": [
      " 83%|████████▎ | 2000/2400 [1:28:35<16:36,  2.49s/it]"
     ]
    },
    {
     "name": "stdout",
     "output_type": "stream",
     "text": [
      "{'loss': 1.1426, 'grad_norm': 19.649738311767578, 'learning_rate': 3.3333333333333333e-06, 'epoch': 2.5}\n"
     ]
    },
    {
     "name": "stderr",
     "output_type": "stream",
     "text": [
      " 84%|████████▍ | 2010/2400 [1:29:02<16:32,  2.55s/it]"
     ]
    },
    {
     "name": "stdout",
     "output_type": "stream",
     "text": [
      "{'loss': 1.135, 'grad_norm': 19.869394302368164, 'learning_rate': 3.2500000000000002e-06, 'epoch': 2.51}\n"
     ]
    },
    {
     "name": "stderr",
     "output_type": "stream",
     "text": [
      " 84%|████████▍ | 2020/2400 [1:29:27<16:19,  2.58s/it]"
     ]
    },
    {
     "name": "stdout",
     "output_type": "stream",
     "text": [
      "{'loss': 1.0694, 'grad_norm': 26.980609893798828, 'learning_rate': 3.1666666666666667e-06, 'epoch': 2.52}\n"
     ]
    },
    {
     "name": "stderr",
     "output_type": "stream",
     "text": [
      " 85%|████████▍ | 2030/2400 [1:29:53<15:35,  2.53s/it]"
     ]
    },
    {
     "name": "stdout",
     "output_type": "stream",
     "text": [
      "{'loss': 1.0875, 'grad_norm': 14.382356643676758, 'learning_rate': 3.0833333333333336e-06, 'epoch': 2.54}\n"
     ]
    },
    {
     "name": "stderr",
     "output_type": "stream",
     "text": [
      " 85%|████████▌ | 2040/2400 [1:30:20<16:12,  2.70s/it]"
     ]
    },
    {
     "name": "stdout",
     "output_type": "stream",
     "text": [
      "{'loss': 1.1235, 'grad_norm': 22.709806442260742, 'learning_rate': 3e-06, 'epoch': 2.55}\n"
     ]
    },
    {
     "name": "stderr",
     "output_type": "stream",
     "text": [
      " 85%|████████▌ | 2050/2400 [1:30:43<13:51,  2.37s/it]"
     ]
    },
    {
     "name": "stdout",
     "output_type": "stream",
     "text": [
      "{'loss': 1.1112, 'grad_norm': 23.420310974121094, 'learning_rate': 2.916666666666667e-06, 'epoch': 2.56}\n"
     ]
    },
    {
     "name": "stderr",
     "output_type": "stream",
     "text": [
      " 86%|████████▌ | 2060/2400 [1:31:08<13:48,  2.44s/it]"
     ]
    },
    {
     "name": "stdout",
     "output_type": "stream",
     "text": [
      "{'loss': 1.2603, 'grad_norm': 21.579143524169922, 'learning_rate': 2.8333333333333335e-06, 'epoch': 2.58}\n"
     ]
    },
    {
     "name": "stderr",
     "output_type": "stream",
     "text": [
      " 86%|████████▋ | 2070/2400 [1:31:32<12:47,  2.33s/it]"
     ]
    },
    {
     "name": "stdout",
     "output_type": "stream",
     "text": [
      "{'loss': 1.0234, 'grad_norm': 20.276546478271484, 'learning_rate': 2.7500000000000004e-06, 'epoch': 2.59}\n"
     ]
    },
    {
     "name": "stderr",
     "output_type": "stream",
     "text": [
      " 87%|████████▋ | 2080/2400 [1:31:58<13:03,  2.45s/it]"
     ]
    },
    {
     "name": "stdout",
     "output_type": "stream",
     "text": [
      "{'loss': 1.1646, 'grad_norm': 27.041614532470703, 'learning_rate': 2.666666666666667e-06, 'epoch': 2.6}\n"
     ]
    },
    {
     "name": "stderr",
     "output_type": "stream",
     "text": [
      " 87%|████████▋ | 2090/2400 [1:32:22<12:03,  2.33s/it]"
     ]
    },
    {
     "name": "stdout",
     "output_type": "stream",
     "text": [
      "{'loss': 1.0454, 'grad_norm': 18.662246704101562, 'learning_rate': 2.5833333333333337e-06, 'epoch': 2.61}\n"
     ]
    },
    {
     "name": "stderr",
     "output_type": "stream",
     "text": [
      " 88%|████████▊ | 2100/2400 [1:32:45<11:31,  2.31s/it]"
     ]
    },
    {
     "name": "stdout",
     "output_type": "stream",
     "text": [
      "{'loss': 1.1797, 'grad_norm': 12.498507499694824, 'learning_rate': 2.5e-06, 'epoch': 2.62}\n"
     ]
    },
    {
     "name": "stderr",
     "output_type": "stream",
     "text": [
      " 88%|████████▊ | 2110/2400 [1:33:11<11:45,  2.43s/it]"
     ]
    },
    {
     "name": "stdout",
     "output_type": "stream",
     "text": [
      "{'loss': 1.0962, 'grad_norm': 21.680028915405273, 'learning_rate': 2.4166666666666667e-06, 'epoch': 2.64}\n"
     ]
    },
    {
     "name": "stderr",
     "output_type": "stream",
     "text": [
      " 88%|████████▊ | 2120/2400 [1:33:37<11:46,  2.52s/it]"
     ]
    },
    {
     "name": "stdout",
     "output_type": "stream",
     "text": [
      "{'loss': 1.0975, 'grad_norm': 16.22684669494629, 'learning_rate': 2.3333333333333336e-06, 'epoch': 2.65}\n"
     ]
    },
    {
     "name": "stderr",
     "output_type": "stream",
     "text": [
      " 89%|████████▉ | 2130/2400 [1:34:02<11:12,  2.49s/it]"
     ]
    },
    {
     "name": "stdout",
     "output_type": "stream",
     "text": [
      "{'loss': 1.1073, 'grad_norm': 18.91463851928711, 'learning_rate': 2.25e-06, 'epoch': 2.66}\n"
     ]
    },
    {
     "name": "stderr",
     "output_type": "stream",
     "text": [
      " 89%|████████▉ | 2140/2400 [1:34:27<11:28,  2.65s/it]"
     ]
    },
    {
     "name": "stdout",
     "output_type": "stream",
     "text": [
      "{'loss': 1.0869, 'grad_norm': 23.843061447143555, 'learning_rate': 2.166666666666667e-06, 'epoch': 2.67}\n"
     ]
    },
    {
     "name": "stderr",
     "output_type": "stream",
     "text": [
      " 90%|████████▉ | 2150/2400 [1:34:51<09:18,  2.23s/it]"
     ]
    },
    {
     "name": "stdout",
     "output_type": "stream",
     "text": [
      "{'loss': 1.1997, 'grad_norm': 26.78914451599121, 'learning_rate': 2.0833333333333334e-06, 'epoch': 2.69}\n"
     ]
    },
    {
     "name": "stderr",
     "output_type": "stream",
     "text": [
      " 90%|█████████ | 2160/2400 [1:35:18<11:12,  2.80s/it]"
     ]
    },
    {
     "name": "stdout",
     "output_type": "stream",
     "text": [
      "{'loss': 1.0908, 'grad_norm': 30.965974807739258, 'learning_rate': 2.0000000000000003e-06, 'epoch': 2.7}\n"
     ]
    },
    {
     "name": "stderr",
     "output_type": "stream",
     "text": [
      " 90%|█████████ | 2170/2400 [1:35:48<10:52,  2.84s/it]"
     ]
    },
    {
     "name": "stdout",
     "output_type": "stream",
     "text": [
      "{'loss': 0.938, 'grad_norm': 25.372482299804688, 'learning_rate': 1.916666666666667e-06, 'epoch': 2.71}\n"
     ]
    },
    {
     "name": "stderr",
     "output_type": "stream",
     "text": [
      " 91%|█████████ | 2180/2400 [1:36:17<10:07,  2.76s/it]"
     ]
    },
    {
     "name": "stdout",
     "output_type": "stream",
     "text": [
      "{'loss': 1.2147, 'grad_norm': 15.326739311218262, 'learning_rate': 1.8333333333333333e-06, 'epoch': 2.73}\n"
     ]
    },
    {
     "name": "stderr",
     "output_type": "stream",
     "text": [
      " 91%|█████████▏| 2190/2400 [1:36:46<11:52,  3.39s/it]"
     ]
    },
    {
     "name": "stdout",
     "output_type": "stream",
     "text": [
      "{'loss': 1.2166, 'grad_norm': 28.824005126953125, 'learning_rate': 1.75e-06, 'epoch': 2.74}\n"
     ]
    },
    {
     "name": "stderr",
     "output_type": "stream",
     "text": [
      " 92%|█████████▏| 2200/2400 [1:37:11<07:54,  2.37s/it]"
     ]
    },
    {
     "name": "stdout",
     "output_type": "stream",
     "text": [
      "{'loss': 1.1776, 'grad_norm': 24.04218864440918, 'learning_rate': 1.6666666666666667e-06, 'epoch': 2.75}\n"
     ]
    },
    {
     "name": "stderr",
     "output_type": "stream",
     "text": [
      " 92%|█████████▏| 2210/2400 [1:37:38<08:18,  2.63s/it]"
     ]
    },
    {
     "name": "stdout",
     "output_type": "stream",
     "text": [
      "{'loss': 0.9342, 'grad_norm': 25.104429244995117, 'learning_rate': 1.5833333333333333e-06, 'epoch': 2.76}\n"
     ]
    },
    {
     "name": "stderr",
     "output_type": "stream",
     "text": [
      " 92%|█████████▎| 2220/2400 [1:38:04<07:57,  2.65s/it]"
     ]
    },
    {
     "name": "stdout",
     "output_type": "stream",
     "text": [
      "{'loss': 1.3229, 'grad_norm': 29.62108039855957, 'learning_rate': 1.5e-06, 'epoch': 2.77}\n"
     ]
    },
    {
     "name": "stderr",
     "output_type": "stream",
     "text": [
      " 93%|█████████▎| 2230/2400 [1:38:31<07:19,  2.59s/it]"
     ]
    },
    {
     "name": "stdout",
     "output_type": "stream",
     "text": [
      "{'loss': 1.1862, 'grad_norm': 24.775230407714844, 'learning_rate': 1.4166666666666667e-06, 'epoch': 2.79}\n"
     ]
    },
    {
     "name": "stderr",
     "output_type": "stream",
     "text": [
      " 93%|█████████▎| 2240/2400 [1:38:58<07:24,  2.78s/it]"
     ]
    },
    {
     "name": "stdout",
     "output_type": "stream",
     "text": [
      "{'loss': 1.2661, 'grad_norm': 19.823972702026367, 'learning_rate': 1.3333333333333334e-06, 'epoch': 2.8}\n"
     ]
    },
    {
     "name": "stderr",
     "output_type": "stream",
     "text": [
      " 94%|█████████▍| 2250/2400 [1:39:23<06:08,  2.45s/it]"
     ]
    },
    {
     "name": "stdout",
     "output_type": "stream",
     "text": [
      "{'loss': 1.0108, 'grad_norm': 28.994112014770508, 'learning_rate': 1.25e-06, 'epoch': 2.81}\n"
     ]
    },
    {
     "name": "stderr",
     "output_type": "stream",
     "text": [
      " 94%|█████████▍| 2260/2400 [1:39:52<06:59,  2.99s/it]"
     ]
    },
    {
     "name": "stdout",
     "output_type": "stream",
     "text": [
      "{'loss': 1.1182, 'grad_norm': 17.156776428222656, 'learning_rate': 1.1666666666666668e-06, 'epoch': 2.83}\n"
     ]
    },
    {
     "name": "stderr",
     "output_type": "stream",
     "text": [
      " 95%|█████████▍| 2270/2400 [1:40:18<05:24,  2.50s/it]"
     ]
    },
    {
     "name": "stdout",
     "output_type": "stream",
     "text": [
      "{'loss': 1.2698, 'grad_norm': 21.893600463867188, 'learning_rate': 1.0833333333333335e-06, 'epoch': 2.84}\n"
     ]
    },
    {
     "name": "stderr",
     "output_type": "stream",
     "text": [
      " 95%|█████████▌| 2280/2400 [1:40:43<05:05,  2.55s/it]"
     ]
    },
    {
     "name": "stdout",
     "output_type": "stream",
     "text": [
      "{'loss': 1.0994, 'grad_norm': 17.85591697692871, 'learning_rate': 1.0000000000000002e-06, 'epoch': 2.85}\n"
     ]
    },
    {
     "name": "stderr",
     "output_type": "stream",
     "text": [
      " 95%|█████████▌| 2290/2400 [1:41:08<04:29,  2.45s/it]"
     ]
    },
    {
     "name": "stdout",
     "output_type": "stream",
     "text": [
      "{'loss': 1.1148, 'grad_norm': 22.4663143157959, 'learning_rate': 9.166666666666666e-07, 'epoch': 2.86}\n"
     ]
    },
    {
     "name": "stderr",
     "output_type": "stream",
     "text": [
      " 96%|█████████▌| 2300/2400 [1:41:33<04:03,  2.44s/it]"
     ]
    },
    {
     "name": "stdout",
     "output_type": "stream",
     "text": [
      "{'loss': 1.146, 'grad_norm': 24.989364624023438, 'learning_rate': 8.333333333333333e-07, 'epoch': 2.88}\n"
     ]
    },
    {
     "name": "stderr",
     "output_type": "stream",
     "text": [
      " 96%|█████████▋| 2310/2400 [1:41:57<03:55,  2.62s/it]"
     ]
    },
    {
     "name": "stdout",
     "output_type": "stream",
     "text": [
      "{'loss': 1.1007, 'grad_norm': 21.566064834594727, 'learning_rate': 7.5e-07, 'epoch': 2.89}\n"
     ]
    },
    {
     "name": "stderr",
     "output_type": "stream",
     "text": [
      " 97%|█████████▋| 2320/2400 [1:42:21<02:59,  2.25s/it]"
     ]
    },
    {
     "name": "stdout",
     "output_type": "stream",
     "text": [
      "{'loss': 1.07, 'grad_norm': 23.433238983154297, 'learning_rate': 6.666666666666667e-07, 'epoch': 2.9}\n"
     ]
    },
    {
     "name": "stderr",
     "output_type": "stream",
     "text": [
      " 97%|█████████▋| 2330/2400 [1:42:48<03:26,  2.96s/it]"
     ]
    },
    {
     "name": "stdout",
     "output_type": "stream",
     "text": [
      "{'loss': 0.9919, 'grad_norm': 17.8897762298584, 'learning_rate': 5.833333333333334e-07, 'epoch': 2.91}\n"
     ]
    },
    {
     "name": "stderr",
     "output_type": "stream",
     "text": [
      " 98%|█████████▊| 2340/2400 [1:43:11<02:32,  2.54s/it]"
     ]
    },
    {
     "name": "stdout",
     "output_type": "stream",
     "text": [
      "{'loss': 1.1614, 'grad_norm': 21.93153953552246, 'learning_rate': 5.000000000000001e-07, 'epoch': 2.92}\n"
     ]
    },
    {
     "name": "stderr",
     "output_type": "stream",
     "text": [
      " 98%|█████████▊| 2350/2400 [1:43:36<02:01,  2.42s/it]"
     ]
    },
    {
     "name": "stdout",
     "output_type": "stream",
     "text": [
      "{'loss': 1.2465, 'grad_norm': 31.028268814086914, 'learning_rate': 4.1666666666666667e-07, 'epoch': 2.94}\n"
     ]
    },
    {
     "name": "stderr",
     "output_type": "stream",
     "text": [
      " 98%|█████████▊| 2360/2400 [1:44:02<01:45,  2.63s/it]"
     ]
    },
    {
     "name": "stdout",
     "output_type": "stream",
     "text": [
      "{'loss': 1.0441, 'grad_norm': 21.75223159790039, 'learning_rate': 3.3333333333333335e-07, 'epoch': 2.95}\n"
     ]
    },
    {
     "name": "stderr",
     "output_type": "stream",
     "text": [
      " 99%|█████████▉| 2370/2400 [1:44:26<01:17,  2.60s/it]"
     ]
    },
    {
     "name": "stdout",
     "output_type": "stream",
     "text": [
      "{'loss': 1.1546, 'grad_norm': 23.680082321166992, 'learning_rate': 2.5000000000000004e-07, 'epoch': 2.96}\n"
     ]
    },
    {
     "name": "stderr",
     "output_type": "stream",
     "text": [
      " 99%|█████████▉| 2380/2400 [1:44:50<00:52,  2.63s/it]"
     ]
    },
    {
     "name": "stdout",
     "output_type": "stream",
     "text": [
      "{'loss': 1.0282, 'grad_norm': 18.940141677856445, 'learning_rate': 1.6666666666666668e-07, 'epoch': 2.98}\n"
     ]
    },
    {
     "name": "stderr",
     "output_type": "stream",
     "text": [
      "100%|█████████▉| 2390/2400 [1:45:16<00:26,  2.65s/it]"
     ]
    },
    {
     "name": "stdout",
     "output_type": "stream",
     "text": [
      "{'loss': 1.2496, 'grad_norm': 23.508712768554688, 'learning_rate': 8.333333333333334e-08, 'epoch': 2.99}\n"
     ]
    },
    {
     "name": "stderr",
     "output_type": "stream",
     "text": [
      "100%|██████████| 2400/2400 [1:45:42<00:00,  2.85s/it]"
     ]
    },
    {
     "name": "stdout",
     "output_type": "stream",
     "text": [
      "{'loss': 1.0534, 'grad_norm': 26.850053787231445, 'learning_rate': 0.0, 'epoch': 3.0}\n"
     ]
    },
    {
     "name": "stderr",
     "output_type": "stream",
     "text": [
      "                                                     \n",
      "100%|██████████| 2400/2400 [1:47:22<00:00,  2.68s/it]\n"
     ]
    },
    {
     "name": "stdout",
     "output_type": "stream",
     "text": [
      "{'eval_loss': 1.730912208557129, 'eval_runtime': 100.1057, 'eval_samples_per_second': 15.983, 'eval_steps_per_second': 1.998, 'epoch': 3.0}\n",
      "{'train_runtime': 6442.9537, 'train_samples_per_second': 2.98, 'train_steps_per_second': 0.372, 'train_loss': 1.5182314932346344, 'epoch': 3.0}\n"
     ]
    },
    {
     "name": "stderr",
     "output_type": "stream",
     "text": [
      "100%|██████████| 200/200 [01:38<00:00,  2.03it/s]"
     ]
    },
    {
     "name": "stdout",
     "output_type": "stream",
     "text": [
      "                       precision    recall  f1-score   support\n",
      "\n",
      "                  AfD       0.58      0.68      0.62       200\n",
      "Bündnis 90/Die Grünen       0.28      0.28      0.28       200\n",
      "                  CDU       0.34      0.29      0.31       200\n",
      "                  CSU       0.47      0.52      0.49       200\n",
      "            Die Linke       0.32      0.32      0.32       200\n",
      "                  FDP       0.51      0.43      0.47       200\n",
      "         Fraktionslos       0.39      0.43      0.41       200\n",
      "                  SPD       0.31      0.28      0.29       200\n",
      "\n",
      "             accuracy                           0.40      1600\n",
      "            macro avg       0.40      0.40      0.40      1600\n",
      "         weighted avg       0.40      0.40      0.40      1600\n",
      "\n"
     ]
    },
    {
     "name": "stderr",
     "output_type": "stream",
     "text": [
      "\n"
     ]
    }
   ],
   "source": [
    "import pandas as pd\n",
    "import numpy as np\n",
    "from sklearn.model_selection import train_test_split\n",
    "from sklearn.preprocessing import LabelEncoder\n",
    "from transformers import BertTokenizer, BertForSequenceClassification, Trainer, TrainingArguments\n",
    "from transformers import DataCollatorWithPadding\n",
    "from datasets import Dataset\n",
    "\n",
    "# Load features and sample as before...\n",
    "df = pd.read_csv(\"tweets_bundestag_features.csv\", encoding=\"utf-8-sig\")\n",
    "min_tweet_count = 1000\n",
    "df = df[df[\"partei\"].map(df[\"partei\"].value_counts()) >= min_tweet_count]\n",
    "df = df.dropna(subset=[\"text\"])\n",
    "\n",
    "sample_per_party = 1000\n",
    "df_sample = (\n",
    "    df.groupby(\"partei\", group_keys=False)\n",
    "    .apply(lambda x: x.sample(n=min(len(x), sample_per_party), random_state=42))\n",
    "    .reset_index(drop=True)\n",
    ")\n",
    "\n",
    "print(f\"Number of tweets used: {len(df_sample)}\")\n",
    "\n",
    "# Label encoding\n",
    "label_encoder = LabelEncoder()\n",
    "df_sample[\"label\"] = label_encoder.fit_transform(df_sample[\"partei\"])\n",
    "num_labels = len(label_encoder.classes_)\n",
    "\n",
    "# Train/test split\n",
    "train_texts, test_texts, train_labels, test_labels = train_test_split(\n",
    "    df_sample[\"text\"].tolist(), df_sample[\"label\"].tolist(),\n",
    "    test_size=0.2, stratify=df_sample[\"label\"], random_state=42\n",
    ")\n",
    "\n",
    "# Tokenizer and model\n",
    "tokenizer = BertTokenizer.from_pretrained(\"bert-base-german-cased\")\n",
    "model = BertForSequenceClassification.from_pretrained(\"bert-base-german-cased\", num_labels=num_labels)\n",
    "\n",
    "# Convert to HuggingFace Dataset\n",
    "train_ds = Dataset.from_dict({\"text\": train_texts, \"label\": train_labels})\n",
    "test_ds = Dataset.from_dict({\"text\": test_texts, \"label\": test_labels})\n",
    "\n",
    "# Tokenization\n",
    "def tokenize_function(example):\n",
    "    return tokenizer(example[\"text\"], truncation=True)\n",
    "\n",
    "train_ds = train_ds.map(tokenize_function, batched=True)\n",
    "test_ds = test_ds.map(tokenize_function, batched=True)\n",
    "\n",
    "# Data collator for dynamic padding\n",
    "data_collator = DataCollatorWithPadding(tokenizer=tokenizer)\n",
    "\n",
    "# Training arguments\n",
    "training_args = TrainingArguments(\n",
    "    output_dir=\"./results\",\n",
    "    evaluation_strategy=\"epoch\",\n",
    "    save_strategy=\"no\",\n",
    "    learning_rate=2e-5,\n",
    "    per_device_train_batch_size=8,\n",
    "    per_device_eval_batch_size=8,\n",
    "    num_train_epochs=3,\n",
    "    weight_decay=0.01,\n",
    "    logging_dir=\"./logs\",\n",
    "    logging_steps=10,\n",
    "    load_best_model_at_end=False,\n",
    ")\n",
    "\n",
    "# Trainer\n",
    "trainer = Trainer(\n",
    "    model=model,\n",
    "    args=training_args,\n",
    "    train_dataset=train_ds,\n",
    "    eval_dataset=test_ds,\n",
    "    tokenizer=tokenizer,\n",
    "    data_collator=data_collator\n",
    ")\n",
    "\n",
    "# Fine-tune BERT\n",
    "trainer.train()\n",
    "\n",
    "# Evaluate\n",
    "preds = trainer.predict(test_ds)\n",
    "y_pred = np.argmax(preds.predictions, axis=1)\n",
    "\n",
    "from sklearn.metrics import classification_report\n",
    "print(classification_report(test_labels, y_pred, target_names=label_encoder.classes_))\n"
   ]
  },
  {
   "cell_type": "markdown",
   "id": "b8f23389",
   "metadata": {},
   "source": [
    "## **15. Klassifikation mit TF-IDF, BERT and Feature Engineering (Neural Network)**"
   ]
  },
  {
   "cell_type": "code",
   "execution_count": 23,
   "id": "01957e5f",
   "metadata": {},
   "outputs": [
    {
     "name": "stdout",
     "output_type": "stream",
     "text": [
      "Number of tweets used: 8000\n",
      "Calculating BERT embeddings (this may take several minutes)...\n",
      "Epoch [1/50], Average Loss: 1.9946\n",
      "Epoch [11/50], Average Loss: 1.0689\n",
      "Epoch [21/50], Average Loss: 0.5920\n",
      "Epoch [31/50], Average Loss: 0.4003\n",
      "Epoch [41/50], Average Loss: 0.3145\n",
      "                       precision    recall  f1-score   support\n",
      "\n",
      "                  AfD      0.433     0.570     0.492       200\n",
      "Bündnis 90/Die Grünen      0.250     0.300     0.273       200\n",
      "                  CDU      0.288     0.325     0.305       200\n",
      "                  CSU      0.421     0.410     0.415       200\n",
      "            Die Linke      0.351     0.265     0.302       200\n",
      "                  FDP      0.367     0.360     0.364       200\n",
      "         Fraktionslos      0.328     0.295     0.311       200\n",
      "                  SPD      0.248     0.185     0.212       200\n",
      "\n",
      "             accuracy                          0.339      1600\n",
      "            macro avg      0.336     0.339     0.334      1600\n",
      "         weighted avg      0.336     0.339     0.334      1600\n",
      "\n"
     ]
    }
   ],
   "source": [
    "import pandas as pd\n",
    "import numpy as np\n",
    "from sklearn.model_selection import train_test_split\n",
    "from sklearn.metrics import classification_report\n",
    "from sklearn.preprocessing import StandardScaler, LabelEncoder\n",
    "from sklearn.feature_extraction.text import TfidfVectorizer\n",
    "import torch\n",
    "import torch.nn as nn\n",
    "import torch.optim as optim\n",
    "from torch.utils.data import TensorDataset, DataLoader\n",
    "from transformers import AutoTokenizer, AutoModel\n",
    "\n",
    "# Load features and sample data\n",
    "df = pd.read_csv(\"tweets_bundestag_features.csv\", encoding=\"utf-8-sig\")\n",
    "min_tweet_count = 1000\n",
    "df = df[df[\"partei\"].map(df[\"partei\"].value_counts()) >= min_tweet_count]\n",
    "df = df.dropna(subset=[\"text\"])\n",
    "\n",
    "sample_per_party = 1000\n",
    "df_sample = (\n",
    "    df.groupby('partei', group_keys=False)\n",
    "    .apply(lambda x: x.sample(n=min(len(x), sample_per_party), random_state=42))\n",
    "    .reset_index(drop=True)\n",
    ")\n",
    "\n",
    "print(f\"Number of tweets used: {len(df_sample)}\")\n",
    "\n",
    "# TF-IDF\n",
    "vectorizer = TfidfVectorizer(max_features=5000, ngram_range=(1, 2))\n",
    "X_tfidf = vectorizer.fit_transform(df_sample[\"text\"])\n",
    "\n",
    "# BERT\n",
    "tokenizer = AutoTokenizer.from_pretrained(\"bert-base-german-cased\")\n",
    "model_bert = AutoModel.from_pretrained(\"bert-base-german-cased\")\n",
    "model_bert.eval()\n",
    "\n",
    "def embed_texts(texts, max_len=64):\n",
    "    embeddings = []\n",
    "    with torch.no_grad():\n",
    "        for text in texts:\n",
    "            encoded = tokenizer(text, truncation=True, padding=\"max_length\", max_length=max_len, return_tensors=\"pt\")\n",
    "            output = model_bert(**encoded)\n",
    "            cls_emb = output.last_hidden_state[:, 0, :].squeeze().numpy()\n",
    "            embeddings.append(cls_emb)\n",
    "    return np.array(embeddings)\n",
    "\n",
    "print(\"Calculating BERT embeddings (this may take several minutes)...\")\n",
    "X_bert = embed_texts(df_sample[\"text\"].tolist())\n",
    "\n",
    "# Engineered features\n",
    "feature_cols = [\n",
    "    \"tweet_length_chars\", \"tweet_length_words\", \"avg_word_length\", \"uppercase_ratio\",\n",
    "    \"exclamations\", \"questions\", \"multi_punct_count\", \"political_term_count\",\n",
    "    \"num_emojis\", \"num_hashtags\", \"num_mentions\", \"num_urls\", \"dots\", \"is_retweet\"\n",
    "]\n",
    "scaler = StandardScaler()\n",
    "X_eng = scaler.fit_transform(df_sample[feature_cols])\n",
    "\n",
    "# Combine all features\n",
    "X_all = np.hstack([X_tfidf.toarray(), X_bert, X_eng])\n",
    "y = df_sample[\"partei\"]\n",
    "\n",
    "X_train, X_test, y_train, y_test = train_test_split(X_all, y, test_size=0.2, stratify=y, random_state=42)\n",
    "\n",
    "# Label encode for neural network\n",
    "label_encoder = LabelEncoder()\n",
    "y_train_encoded = label_encoder.fit_transform(y_train)\n",
    "y_test_encoded = label_encoder.transform(y_test)\n",
    "num_classes = len(label_encoder.classes_)\n",
    "\n",
    "# Convert to PyTorch tensors\n",
    "X_train_tensor = torch.FloatTensor(X_train)\n",
    "X_test_tensor = torch.FloatTensor(X_test)\n",
    "y_train_tensor = torch.LongTensor(y_train_encoded)\n",
    "y_test_tensor = torch.LongTensor(y_test_encoded)\n",
    "\n",
    "# Create DataLoaders\n",
    "batch_size = 32\n",
    "train_dataset = TensorDataset(X_train_tensor, y_train_tensor)\n",
    "test_dataset = TensorDataset(X_test_tensor, y_test_tensor)\n",
    "train_loader = DataLoader(train_dataset, batch_size=batch_size, shuffle=True)\n",
    "test_loader = DataLoader(test_dataset, batch_size=batch_size, shuffle=False)\n",
    "\n",
    "# Neural Network model\n",
    "input_dim = X_all.shape[1]\n",
    "hidden_dim = 512\n",
    "dropout_rate = 0.3\n",
    "\n",
    "model = nn.Sequential(\n",
    "    nn.Linear(input_dim, hidden_dim),\n",
    "    nn.ReLU(),\n",
    "    nn.BatchNorm1d(hidden_dim),\n",
    "    nn.Dropout(dropout_rate),\n",
    "    nn.Linear(hidden_dim, hidden_dim // 2),\n",
    "    nn.ReLU(),\n",
    "    nn.Dropout(dropout_rate),\n",
    "    nn.Linear(hidden_dim // 2, hidden_dim // 4),\n",
    "    nn.ReLU(),\n",
    "    nn.Dropout(dropout_rate),\n",
    "    nn.Linear(hidden_dim // 4, num_classes)\n",
    ")\n",
    "\n",
    "# Training setup\n",
    "device = torch.device('cuda' if torch.cuda.is_available() else 'cpu')\n",
    "model = model.to(device)\n",
    "criterion = nn.CrossEntropyLoss()\n",
    "optimizer = optim.Adam(model.parameters(), lr=0.001, weight_decay=1e-5)\n",
    "\n",
    "# Training\n",
    "num_epochs = 50\n",
    "for epoch in range(num_epochs):\n",
    "    model.train()\n",
    "    total_loss = 0\n",
    "    \n",
    "    for batch_features, batch_labels in train_loader:\n",
    "        batch_features = batch_features.to(device)\n",
    "        batch_labels = batch_labels.to(device)\n",
    "        \n",
    "        optimizer.zero_grad()\n",
    "        outputs = model(batch_features)\n",
    "        loss = criterion(outputs, batch_labels)\n",
    "        loss.backward()\n",
    "        optimizer.step()\n",
    "        \n",
    "        total_loss += loss.item()\n",
    "    \n",
    "    if epoch % 10 == 0:\n",
    "        avg_loss = total_loss / len(train_loader)\n",
    "        print(f'Epoch [{epoch+1}/{num_epochs}], Average Loss: {avg_loss:.4f}')\n",
    "\n",
    "# Prediction\n",
    "model.eval()\n",
    "y_pred_encoded = []\n",
    "\n",
    "with torch.no_grad():\n",
    "    for batch_features, _ in test_loader:\n",
    "        batch_features = batch_features.to(device)\n",
    "        outputs = model(batch_features)\n",
    "        _, predicted = torch.max(outputs, 1)\n",
    "        y_pred_encoded.extend(predicted.cpu().numpy())\n",
    "\n",
    "# Convert back to original labels\n",
    "y_pred_nn = label_encoder.inverse_transform(y_pred_encoded)\n",
    "\n",
    "print(classification_report(y_test, y_pred_nn, digits=3))"
   ]
  },
  {
   "cell_type": "markdown",
   "id": "d3b3e3ea",
   "metadata": {},
   "source": [
    "## **16. Klassifikation mit BERT and Feature Engineering (XGBoost) als Benchmark für traditionelle ML-Modelle zum Vergleichen**"
   ]
  },
  {
   "cell_type": "code",
   "execution_count": 4,
   "id": "ed8072f2",
   "metadata": {},
   "outputs": [
    {
     "name": "stdout",
     "output_type": "stream",
     "text": [
      "Number of tweets used: 8000\n",
      "Calculating BERT embeddings (this may take several minutes)...\n",
      "                       precision    recall  f1-score   support\n",
      "\n",
      "                  AfD      0.386     0.485     0.430       200\n",
      "Bündnis 90/Die Grünen      0.218     0.220     0.219       200\n",
      "                  CDU      0.241     0.230     0.235       200\n",
      "                  CSU      0.308     0.300     0.304       200\n",
      "            Die Linke      0.198     0.180     0.188       200\n",
      "                  FDP      0.309     0.250     0.276       200\n",
      "         Fraktionslos      0.273     0.360     0.310       200\n",
      "                  SPD      0.209     0.160     0.181       200\n",
      "\n",
      "             accuracy                          0.273      1600\n",
      "            macro avg      0.268     0.273     0.268      1600\n",
      "         weighted avg      0.268     0.273     0.268      1600\n",
      "\n"
     ]
    }
   ],
   "source": [
    "import numpy as np\n",
    "import xgboost as xgb\n",
    "from sklearn.model_selection import train_test_split\n",
    "from sklearn.metrics import classification_report\n",
    "from sklearn.preprocessing import StandardScaler, LabelEncoder\n",
    "from sklearn.feature_extraction.text import TfidfVectorizer\n",
    "import pandas as pd\n",
    "import torch\n",
    "from transformers import AutoTokenizer, AutoModel\n",
    "\n",
    "# Load features and sample as before...\n",
    "df = pd.read_csv(\"tweets_bundestag_features.csv\", encoding=\"utf-8-sig\")\n",
    "min_tweet_count = 1000\n",
    "df = df[df[\"partei\"].map(df[\"partei\"].value_counts()) >= min_tweet_count]\n",
    "df = df.dropna(subset=[\"text\"])\n",
    "sample_per_party = 1000\n",
    "df_sample = (\n",
    "    df.groupby('partei', group_keys=False)\n",
    "    .apply(lambda x: x.sample(n=min(len(x), sample_per_party), random_state=42))\n",
    "    .reset_index(drop=True)\n",
    ")\n",
    "\n",
    "print(f\"Number of tweets used: {len(df_sample)}\")\n",
    "\n",
    "# Label-Encoding \n",
    "label_encoder = LabelEncoder()\n",
    "df_sample[\"label\"] = label_encoder.fit_transform(df_sample[\"partei\"])\n",
    "\n",
    "# BERT \n",
    "tokenizer = AutoTokenizer.from_pretrained(\"bert-base-german-cased\")\n",
    "model = AutoModel.from_pretrained(\"bert-base-german-cased\")\n",
    "model.eval()\n",
    "\n",
    "def embed_texts(texts, max_len=64):\n",
    "    embeddings = []\n",
    "    with torch.no_grad():\n",
    "        for text in texts:\n",
    "            encoded = tokenizer(text, truncation=True, padding=\"max_length\", max_length=max_len, return_tensors=\"pt\")\n",
    "            output = model(**encoded)\n",
    "            cls_emb = output.last_hidden_state[:, 0, :].squeeze().numpy()\n",
    "            embeddings.append(cls_emb)\n",
    "    return np.array(embeddings)\n",
    "\n",
    "print(\"Calculating BERT embeddings (this may take several minutes)...\")\n",
    "X_bert = embed_texts(df_sample[\"text\"].tolist())\n",
    "\n",
    "# Engineered features\n",
    "feature_cols = [\n",
    "    \"tweet_length_chars\", \"tweet_length_words\", \"avg_word_length\", \"uppercase_ratio\",\n",
    "    \"exclamations\", \"questions\", \"multi_punct_count\", \"political_term_count\",\n",
    "    \"num_emojis\", \"num_hashtags\", \"num_mentions\", \"num_urls\", \"dots\", \"is_retweet\"\n",
    "]\n",
    "scaler = StandardScaler()\n",
    "X_eng = scaler.fit_transform(df_sample[feature_cols])\n",
    "\n",
    "# Combine all features \n",
    "X_all = np.hstack([X_bert, X_eng])\n",
    "y = df_sample[\"label\"]\n",
    "\n",
    "X_train, X_test, y_train, y_test = train_test_split(\n",
    "    X_all, y, test_size=0.2, stratify=y, random_state=42\n",
    ")\n",
    "\n",
    "# Train XGBoost classifier\n",
    "xgb_clf = xgb.XGBClassifier(\n",
    "    objective=\"multi:softmax\",\n",
    "    num_class=len(np.unique(y)),\n",
    "    eval_metric=\"mlogloss\",\n",
    "    n_estimators=100,\n",
    "    max_depth=6,\n",
    "    learning_rate=0.1,\n",
    "    random_state=42,\n",
    "    n_jobs=-1\n",
    ")\n",
    "\n",
    "xgb_clf.fit(X_train, y_train)\n",
    "\n",
    "y_pred_xgb = xgb_clf.predict(X_test)\n",
    "y_test_labels = label_encoder.inverse_transform(y_test)\n",
    "y_pred_labels = label_encoder.inverse_transform(y_pred_xgb)\n",
    "print(classification_report(y_test_labels, y_pred_labels, digits=3))"
   ]
  },
  {
   "cell_type": "markdown",
   "id": "8fb59d6c",
   "metadata": {},
   "source": [
    "## **17. Klassifikation mit BERT and Feature Engineering (XGBoost) zum Vergleichen**"
   ]
  },
  {
   "cell_type": "code",
   "execution_count": 6,
   "id": "bd25a70b",
   "metadata": {},
   "outputs": [
    {
     "name": "stdout",
     "output_type": "stream",
     "text": [
      "Number of tweets used: 8000\n",
      "Calculating BERT embeddings (this may take several minutes)...\n",
      "Epoch [1/50], Average Loss: 1.9982\n",
      "Epoch [11/50], Average Loss: 1.6059\n",
      "Epoch [21/50], Average Loss: 1.3475\n",
      "Epoch [31/50], Average Loss: 1.1547\n",
      "Epoch [41/50], Average Loss: 1.0284\n",
      "                       precision    recall  f1-score   support\n",
      "\n",
      "                  AfD      0.458     0.490     0.473       200\n",
      "Bündnis 90/Die Grünen      0.189     0.205     0.197       200\n",
      "                  CDU      0.228     0.210     0.219       200\n",
      "                  CSU      0.332     0.335     0.333       200\n",
      "            Die Linke      0.227     0.220     0.223       200\n",
      "                  FDP      0.331     0.290     0.309       200\n",
      "         Fraktionslos      0.257     0.290     0.272       200\n",
      "                  SPD      0.186     0.175     0.180       200\n",
      "\n",
      "             accuracy                          0.277      1600\n",
      "            macro avg      0.276     0.277     0.276      1600\n",
      "         weighted avg      0.276     0.277     0.276      1600\n",
      "\n"
     ]
    }
   ],
   "source": [
    "import pandas as pd\n",
    "import numpy as np\n",
    "from sklearn.model_selection import train_test_split\n",
    "from sklearn.metrics import classification_report\n",
    "from sklearn.preprocessing import StandardScaler, LabelEncoder\n",
    "from sklearn.feature_extraction.text import TfidfVectorizer\n",
    "import torch\n",
    "import torch.nn as nn\n",
    "import torch.optim as optim\n",
    "from torch.utils.data import TensorDataset, DataLoader\n",
    "from transformers import AutoTokenizer, AutoModel\n",
    "\n",
    "# Load features and sample data\n",
    "df = pd.read_csv(\"tweets_bundestag_features.csv\", encoding=\"utf-8-sig\")\n",
    "min_tweet_count = 1000\n",
    "df = df[df[\"partei\"].map(df[\"partei\"].value_counts()) >= min_tweet_count]\n",
    "df = df.dropna(subset=[\"text\"])\n",
    "\n",
    "sample_per_party = 1000\n",
    "df_sample = (\n",
    "    df.groupby('partei', group_keys=False)\n",
    "    .apply(lambda x: x.sample(n=min(len(x), sample_per_party), random_state=42))\n",
    "    .reset_index(drop=True)\n",
    ")\n",
    "\n",
    "print(f\"Number of tweets used: {len(df_sample)}\")\n",
    "\n",
    "# BERT\n",
    "tokenizer = AutoTokenizer.from_pretrained(\"bert-base-german-cased\")\n",
    "model_bert = AutoModel.from_pretrained(\"bert-base-german-cased\")\n",
    "model_bert.eval()\n",
    "\n",
    "def embed_texts(texts, max_len=64):\n",
    "    embeddings = []\n",
    "    with torch.no_grad():\n",
    "        for text in texts:\n",
    "            encoded = tokenizer(text, truncation=True, padding=\"max_length\", max_length=max_len, return_tensors=\"pt\")\n",
    "            output = model_bert(**encoded)\n",
    "            cls_emb = output.last_hidden_state[:, 0, :].squeeze().numpy()\n",
    "            embeddings.append(cls_emb)\n",
    "    return np.array(embeddings)\n",
    "\n",
    "print(\"Calculating BERT embeddings (this may take several minutes)...\")\n",
    "X_bert = embed_texts(df_sample[\"text\"].tolist())\n",
    "\n",
    "# Engineered features\n",
    "feature_cols = [\n",
    "    \"tweet_length_chars\", \"tweet_length_words\", \"avg_word_length\", \"uppercase_ratio\",\n",
    "    \"exclamations\", \"questions\", \"multi_punct_count\", \"political_term_count\",\n",
    "    \"num_emojis\", \"num_hashtags\", \"num_mentions\", \"num_urls\", \"dots\", \"is_retweet\"\n",
    "]\n",
    "scaler = StandardScaler()\n",
    "X_eng = scaler.fit_transform(df_sample[feature_cols])\n",
    "\n",
    "# Combine all features\n",
    "X_all = np.hstack([X_bert, X_eng])\n",
    "y = df_sample[\"partei\"]\n",
    "\n",
    "X_train, X_test, y_train, y_test = train_test_split(X_all, y, test_size=0.2, stratify=y, random_state=42)\n",
    "\n",
    "# Label encode for neural network\n",
    "label_encoder = LabelEncoder()\n",
    "y_train_encoded = label_encoder.fit_transform(y_train)\n",
    "y_test_encoded = label_encoder.transform(y_test)\n",
    "num_classes = len(label_encoder.classes_)\n",
    "\n",
    "# Convert to PyTorch tensors\n",
    "X_train_tensor = torch.FloatTensor(X_train)\n",
    "X_test_tensor = torch.FloatTensor(X_test)\n",
    "y_train_tensor = torch.LongTensor(y_train_encoded)\n",
    "y_test_tensor = torch.LongTensor(y_test_encoded)\n",
    "\n",
    "# Create DataLoaders\n",
    "batch_size = 32\n",
    "train_dataset = TensorDataset(X_train_tensor, y_train_tensor)\n",
    "test_dataset = TensorDataset(X_test_tensor, y_test_tensor)\n",
    "train_loader = DataLoader(train_dataset, batch_size=batch_size, shuffle=True)\n",
    "test_loader = DataLoader(test_dataset, batch_size=batch_size, shuffle=False)\n",
    "\n",
    "# Neural Network model\n",
    "input_dim = X_all.shape[1]\n",
    "hidden_dim = 512\n",
    "dropout_rate = 0.3\n",
    "\n",
    "model = nn.Sequential(\n",
    "    nn.Linear(input_dim, hidden_dim),\n",
    "    nn.ReLU(),\n",
    "    nn.BatchNorm1d(hidden_dim),\n",
    "    nn.Dropout(dropout_rate),\n",
    "    nn.Linear(hidden_dim, hidden_dim // 2),\n",
    "    nn.ReLU(),\n",
    "    nn.Dropout(dropout_rate),\n",
    "    nn.Linear(hidden_dim // 2, hidden_dim // 4),\n",
    "    nn.ReLU(),\n",
    "    nn.Dropout(dropout_rate),\n",
    "    nn.Linear(hidden_dim // 4, num_classes)\n",
    ")\n",
    "\n",
    "# Training setup\n",
    "device = torch.device('cuda' if torch.cuda.is_available() else 'cpu')\n",
    "model = model.to(device)\n",
    "criterion = nn.CrossEntropyLoss()\n",
    "optimizer = optim.Adam(model.parameters(), lr=0.001, weight_decay=1e-5)\n",
    "\n",
    "# Training\n",
    "num_epochs = 50\n",
    "for epoch in range(num_epochs):\n",
    "    model.train()\n",
    "    total_loss = 0\n",
    "    \n",
    "    for batch_features, batch_labels in train_loader:\n",
    "        batch_features = batch_features.to(device)\n",
    "        batch_labels = batch_labels.to(device)\n",
    "        \n",
    "        optimizer.zero_grad()\n",
    "        outputs = model(batch_features)\n",
    "        loss = criterion(outputs, batch_labels)\n",
    "        loss.backward()\n",
    "        optimizer.step()\n",
    "        \n",
    "        total_loss += loss.item()\n",
    "    \n",
    "    if epoch % 10 == 0:\n",
    "        avg_loss = total_loss / len(train_loader)\n",
    "        print(f'Epoch [{epoch+1}/{num_epochs}], Average Loss: {avg_loss:.4f}')\n",
    "\n",
    "# Prediction\n",
    "model.eval()\n",
    "y_pred_encoded = []\n",
    "\n",
    "with torch.no_grad():\n",
    "    for batch_features, _ in test_loader:\n",
    "        batch_features = batch_features.to(device)\n",
    "        outputs = model(batch_features)\n",
    "        _, predicted = torch.max(outputs, 1)\n",
    "        y_pred_encoded.extend(predicted.cpu().numpy())\n",
    "\n",
    "# Convert back to original labels\n",
    "y_pred = label_encoder.inverse_transform(y_pred_encoded)\n",
    "\n",
    "print(classification_report(y_test, y_pred, digits=3))"
   ]
  },
  {
   "cell_type": "code",
   "execution_count": 4,
   "id": "b43c0524",
   "metadata": {},
   "outputs": [
    {
     "data": {
      "image/png": "[encoded data removed]",
      "text/plain": [
       "<Figure size 1000x600 with 1 Axes>"
      ]
     },
     "metadata": {},
     "output_type": "display_data"
    },
    {
     "data": {
      "image/png": "[encoded data removed]",
      "text/plain": [
       "<Figure size 1000x600 with 1 Axes>"
      ]
     },
     "metadata": {},
     "output_type": "display_data"
    },
    {
     "data": {
      "image/png": "[encoded data removed]",
      "text/plain": [
       "<Figure size 1200x700 with 1 Axes>"
      ]
     },
     "metadata": {},
     "output_type": "display_data"
    },
    {
     "name": "stdout",
     "output_type": "stream",
     "text": [
      "=== MODELL-PERFORMANCE ZUSAMMENFASSUNG ===\n",
      "Modell                              Accuracy   Rang \n",
      "--------------------------------------------------\n",
      "BERT Fine-tuning                    0.400      1    \n",
      "XGBoost (TF-IDF + BERT + Features)  0.348      2    \n",
      "Logistic Regression (TF-IDF + BERT + Features) 0.303      3    \n",
      "\n",
      "Bestes Modell: BERT Fine-tuning mit 0.400 Accuracy\n"
     ]
    }
   ],
   "source": [
    "import matplotlib.pyplot as plt\n",
    "import numpy as np\n",
    "import seaborn as sns\n",
    "\n",
    "# Accuracy-Werte aus Ihrem Notebook extrahiert\n",
    "model_names = ['XGBoost\\n(TF-IDF + BERT + Features)', 'Logistic Regression\\n(TF-IDF + BERT + Features)', 'BERT Fine-tuning']\n",
    "accuracy_values = [0.348, 0.303, 0.40]  # Teil 13: XGBoost, Teil 11: LReg, Teil 14: BERT Fine-tuning\n",
    "\n",
    "# Erstelle das Balkendiagramm\n",
    "plt.figure(figsize=(10, 6))\n",
    "bars = plt.bar(model_names, accuracy_values, \n",
    "               color=['#1f77b4', '#ff7f0e', '#2ca02c'],\n",
    "               alpha=0.8, edgecolor='black', linewidth=1)\n",
    "\n",
    "# Füge Werte auf den Balken hinzu\n",
    "for i, (bar, acc) in enumerate(zip(bars, accuracy_values)):\n",
    "    plt.text(bar.get_x() + bar.get_width()/2, bar.get_height() + 0.01, \n",
    "             f'{acc:.3f}', ha='center', va='bottom', fontweight='bold', fontsize=12)\n",
    "\n",
    "# Styling\n",
    "plt.title('Accuracy-Vergleich: XGBoost vs. Logistic Regression vs. BERT Fine-tuning', \n",
    "          fontsize=14, fontweight='bold', pad=20)\n",
    "plt.ylabel('Accuracy', fontsize=12)\n",
    "plt.xlabel('Modelle', fontsize=12)\n",
    "plt.ylim(0, 0.5)  # Y-Achse von 0 bis 0.5\n",
    "plt.grid(axis='y', alpha=0.3, linestyle='--')\n",
    "\n",
    "# Füge horizontale Linie für bessere Orientierung hinzu\n",
    "plt.axhline(y=0.4, color='red', linestyle='--', alpha=0.5, label='40% Schwelle')\n",
    "\n",
    "# Verbessere die Lesbarkeit der x-Achsen-Labels\n",
    "plt.xticks(rotation=0, ha='center')\n",
    "plt.tight_layout()\n",
    "\n",
    "# Legende hinzufügen\n",
    "plt.legend()\n",
    "\n",
    "# Zeige das Diagramm\n",
    "plt.show()\n",
    "\n",
    "# Alternative: Horizontales Balkendiagramm für bessere Lesbarkeit\n",
    "plt.figure(figsize=(10, 6))\n",
    "y_pos = np.arange(len(model_names))\n",
    "bars = plt.barh(y_pos, accuracy_values, \n",
    "                color=['#1f77b4', '#ff7f0e', '#2ca02c'],\n",
    "                alpha=0.8, edgecolor='black', linewidth=1)\n",
    "\n",
    "# Füge Werte rechts neben den Balken hinzu\n",
    "for i, acc in enumerate(accuracy_values):\n",
    "    plt.text(acc + 0.005, i, f'{acc:.3f}', va='center', ha='left', \n",
    "             fontweight='bold', fontsize=12)\n",
    "\n",
    "# Styling\n",
    "plt.title('Accuracy-Vergleich der Parteiaffilations-Klassifikationsmodelle', \n",
    "          fontsize=14, fontweight='bold', pad=20)\n",
    "plt.xlabel('Accuracy', fontsize=12)\n",
    "plt.ylabel('Modelle', fontsize=12)\n",
    "plt.yticks(y_pos, model_names)\n",
    "plt.xlim(0, 0.5)\n",
    "plt.grid(axis='x', alpha=0.3, linestyle='--')\n",
    "\n",
    "# Füge vertikale Linie für bessere Orientierung hinzu\n",
    "plt.axvline(x=0.4, color='red', linestyle='--', alpha=0.5, label='40% Schwelle')\n",
    "\n",
    "plt.tight_layout()\n",
    "plt.legend()\n",
    "plt.show()\n",
    "\n",
    "# Dritte Option: Detaillierterer Vergleich mit zusätzlichen Metriken\n",
    "# (Falls Sie auch F1-Scores vergleichen möchten)\n",
    "metrics = ['Accuracy', 'Macro F1', 'Weighted F1']\n",
    "xgboost_scores = [0.348, 0.345, 0.345]  # Teil 13: XGBoost (TF-IDF + BERT + Features)\n",
    "logreg_scores = [0.303, 0.302, 0.302]   # Teil 11: Logistic Regression (TF-IDF + BERT + Features)\n",
    "bert_scores = [0.40, 0.40, 0.40]        # Teil 14: BERT Fine-tuning\n",
    "\n",
    "x = np.arange(len(metrics))\n",
    "width = 0.25\n",
    "\n",
    "fig, ax = plt.subplots(figsize=(12, 7))\n",
    "bars1 = ax.bar(x - width, xgboost_scores, width, label='XGBoost', \n",
    "               color='#1f77b4', alpha=0.8, edgecolor='black')\n",
    "bars2 = ax.bar(x, logreg_scores, width, label='Logistic Regression', \n",
    "               color='#ff7f0e', alpha=0.8, edgecolor='black')\n",
    "bars3 = ax.bar(x + width, bert_scores, width, label='BERT Fine-tuning', \n",
    "               color='#2ca02c', alpha=0.8, edgecolor='black')\n",
    "\n",
    "# Füge Werte auf den Balken hinzu\n",
    "def add_value_labels(bars):\n",
    "    for bar in bars:\n",
    "        height = bar.get_height()\n",
    "        ax.text(bar.get_x() + bar.get_width()/2., height + 0.005,\n",
    "                f'{height:.3f}', ha='center', va='bottom', fontweight='bold', fontsize=10)\n",
    "\n",
    "add_value_labels(bars1)\n",
    "add_value_labels(bars2)\n",
    "add_value_labels(bars3)\n",
    "\n",
    "ax.set_xlabel('Metriken', fontsize=12)\n",
    "ax.set_ylabel('Score', fontsize=12)\n",
    "ax.set_title('Detaillierter Modellvergleich: Alle Metriken', fontsize=14, fontweight='bold')\n",
    "ax.set_xticks(x)\n",
    "ax.set_xticklabels(metrics)\n",
    "ax.legend()\n",
    "ax.grid(axis='y', alpha=0.3, linestyle='--')\n",
    "ax.set_ylim(0, 0.5)\n",
    "\n",
    "plt.tight_layout()\n",
    "plt.show()\n",
    "\n",
    "# Zusammenfassung der Ergebnisse\n",
    "print(\"=== MODELL-PERFORMANCE ZUSAMMENFASSUNG ===\")\n",
    "print(f\"{'Modell':<35} {'Accuracy':<10} {'Rang':<5}\")\n",
    "print(\"-\" * 50)\n",
    "\n",
    "# Sortiere nach Accuracy für Ranking\n",
    "results = list(zip(model_names, accuracy_values))\n",
    "results_sorted = sorted(results, key=lambda x: x[1], reverse=True)\n",
    "\n",
    "for i, (model, acc) in enumerate(results_sorted, 1):\n",
    "    print(f\"{model.replace(chr(10), ' '):<35} {acc:<10.3f} {i:<5}\")\n",
    "\n",
    "print(f\"\\nBestes Modell: {results_sorted[0][0].replace(chr(10), ' ')} mit {results_sorted[0][1]:.3f} Accuracy\")"
   ]
  }
 ],
 "metadata": {
  "kernelspec": {
   "display_name": "hf-fresh",
   "language": "python",
   "name": "python3"
  },
  "language_info": {
   "codemirror_mode": {
    "name": "ipython",
    "version": 3
   },
   "file_extension": ".py",
   "mimetype": "text/x-python",
   "name": "python",
   "nbconvert_exporter": "python",
   "pygments_lexer": "ipython3",
   "version": "3.10.18"
  }
 },
 "nbformat": 4,
 "nbformat_minor": 5
}
